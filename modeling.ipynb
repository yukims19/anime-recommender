{
 "cells": [
  {
   "cell_type": "code",
   "execution_count": 234,
   "id": "4a349150-403e-4592-81a9-55883eb454e9",
   "metadata": {},
   "outputs": [],
   "source": [
    "import numpy as np\n",
    "import pandas as pd\n",
    "import seaborn as sns\n",
    "import matplotlib.pyplot as plt\n",
    "from sklearn.model_selection import train_test_split, GridSearchCV, RandomizedSearchCV, cross_val_score\n",
    "from sklearn.linear_model import LinearRegression, RidgeCV\n",
    "from sklearn.ensemble import GradientBoostingRegressor, RandomForestRegressor, GradientBoostingClassifier, RandomForestClassifier\n",
    "from sklearn.neighbors import KNeighborsRegressor\n",
    "from sklearn.naive_bayes import GaussianNB\n",
    "from sklearn.metrics import confusion_matrix, classification_report, mean_squared_error, r2_score"
   ]
  },
  {
   "cell_type": "markdown",
   "id": "14bf4f34-a4f2-4f44-b940-36b94c59b769",
   "metadata": {},
   "source": [
    "## Load data"
   ]
  },
  {
   "cell_type": "code",
   "execution_count": 235,
   "id": "44e2a2d3-a8fb-4941-a1f7-450aa25cd2f0",
   "metadata": {
    "tags": []
   },
   "outputs": [
    {
     "data": {
      "text/html": [
       "<div>\n",
       "<style scoped>\n",
       "    .dataframe tbody tr th:only-of-type {\n",
       "        vertical-align: middle;\n",
       "    }\n",
       "\n",
       "    .dataframe tbody tr th {\n",
       "        vertical-align: top;\n",
       "    }\n",
       "\n",
       "    .dataframe thead th {\n",
       "        text-align: right;\n",
       "    }\n",
       "</style>\n",
       "<table border=\"1\" class=\"dataframe\">\n",
       "  <thead>\n",
       "    <tr style=\"text-align: right;\">\n",
       "      <th></th>\n",
       "      <th>rating</th>\n",
       "      <th>Action</th>\n",
       "      <th>Adventure</th>\n",
       "      <th>Cars</th>\n",
       "      <th>Comedy</th>\n",
       "      <th>Dementia</th>\n",
       "      <th>Demons</th>\n",
       "      <th>Drama</th>\n",
       "      <th>Ecchi</th>\n",
       "      <th>Fantasy</th>\n",
       "      <th>...</th>\n",
       "      <th>Yaoi</th>\n",
       "      <th>Yuri</th>\n",
       "      <th>type_Movie</th>\n",
       "      <th>type_Music</th>\n",
       "      <th>type_ONA</th>\n",
       "      <th>type_OVA</th>\n",
       "      <th>type_Special</th>\n",
       "      <th>type_TV</th>\n",
       "      <th>scaled_episodes</th>\n",
       "      <th>scaled_members</th>\n",
       "    </tr>\n",
       "  </thead>\n",
       "  <tbody>\n",
       "    <tr>\n",
       "      <th>0</th>\n",
       "      <td>9.37</td>\n",
       "      <td>0</td>\n",
       "      <td>0</td>\n",
       "      <td>0</td>\n",
       "      <td>0</td>\n",
       "      <td>0</td>\n",
       "      <td>0</td>\n",
       "      <td>1</td>\n",
       "      <td>0</td>\n",
       "      <td>0</td>\n",
       "      <td>...</td>\n",
       "      <td>0</td>\n",
       "      <td>0</td>\n",
       "      <td>1</td>\n",
       "      <td>0</td>\n",
       "      <td>0</td>\n",
       "      <td>0</td>\n",
       "      <td>0</td>\n",
       "      <td>0</td>\n",
       "      <td>0.000000</td>\n",
       "      <td>0.197867</td>\n",
       "    </tr>\n",
       "    <tr>\n",
       "      <th>1</th>\n",
       "      <td>9.26</td>\n",
       "      <td>1</td>\n",
       "      <td>1</td>\n",
       "      <td>0</td>\n",
       "      <td>0</td>\n",
       "      <td>0</td>\n",
       "      <td>0</td>\n",
       "      <td>1</td>\n",
       "      <td>0</td>\n",
       "      <td>1</td>\n",
       "      <td>...</td>\n",
       "      <td>0</td>\n",
       "      <td>0</td>\n",
       "      <td>0</td>\n",
       "      <td>0</td>\n",
       "      <td>0</td>\n",
       "      <td>0</td>\n",
       "      <td>0</td>\n",
       "      <td>1</td>\n",
       "      <td>0.034673</td>\n",
       "      <td>0.782769</td>\n",
       "    </tr>\n",
       "    <tr>\n",
       "      <th>2</th>\n",
       "      <td>9.25</td>\n",
       "      <td>1</td>\n",
       "      <td>0</td>\n",
       "      <td>0</td>\n",
       "      <td>1</td>\n",
       "      <td>0</td>\n",
       "      <td>0</td>\n",
       "      <td>0</td>\n",
       "      <td>0</td>\n",
       "      <td>0</td>\n",
       "      <td>...</td>\n",
       "      <td>0</td>\n",
       "      <td>0</td>\n",
       "      <td>0</td>\n",
       "      <td>0</td>\n",
       "      <td>0</td>\n",
       "      <td>0</td>\n",
       "      <td>0</td>\n",
       "      <td>1</td>\n",
       "      <td>0.027518</td>\n",
       "      <td>0.112683</td>\n",
       "    </tr>\n",
       "    <tr>\n",
       "      <th>3</th>\n",
       "      <td>9.17</td>\n",
       "      <td>0</td>\n",
       "      <td>0</td>\n",
       "      <td>0</td>\n",
       "      <td>0</td>\n",
       "      <td>0</td>\n",
       "      <td>0</td>\n",
       "      <td>0</td>\n",
       "      <td>0</td>\n",
       "      <td>0</td>\n",
       "      <td>...</td>\n",
       "      <td>0</td>\n",
       "      <td>0</td>\n",
       "      <td>0</td>\n",
       "      <td>0</td>\n",
       "      <td>0</td>\n",
       "      <td>0</td>\n",
       "      <td>0</td>\n",
       "      <td>1</td>\n",
       "      <td>0.012658</td>\n",
       "      <td>0.664323</td>\n",
       "    </tr>\n",
       "    <tr>\n",
       "      <th>4</th>\n",
       "      <td>9.16</td>\n",
       "      <td>1</td>\n",
       "      <td>0</td>\n",
       "      <td>0</td>\n",
       "      <td>1</td>\n",
       "      <td>0</td>\n",
       "      <td>0</td>\n",
       "      <td>0</td>\n",
       "      <td>0</td>\n",
       "      <td>0</td>\n",
       "      <td>...</td>\n",
       "      <td>0</td>\n",
       "      <td>0</td>\n",
       "      <td>0</td>\n",
       "      <td>0</td>\n",
       "      <td>0</td>\n",
       "      <td>0</td>\n",
       "      <td>0</td>\n",
       "      <td>1</td>\n",
       "      <td>0.027518</td>\n",
       "      <td>0.149180</td>\n",
       "    </tr>\n",
       "  </tbody>\n",
       "</table>\n",
       "<p>5 rows × 52 columns</p>\n",
       "</div>"
      ],
      "text/plain": [
       "   rating  Action  Adventure  Cars  Comedy  Dementia  Demons  Drama  Ecchi  \\\n",
       "0    9.37       0          0     0       0         0       0      1      0   \n",
       "1    9.26       1          1     0       0         0       0      1      0   \n",
       "2    9.25       1          0     0       1         0       0      0      0   \n",
       "3    9.17       0          0     0       0         0       0      0      0   \n",
       "4    9.16       1          0     0       1         0       0      0      0   \n",
       "\n",
       "   Fantasy  ...  Yaoi  Yuri  type_Movie  type_Music  type_ONA  type_OVA  \\\n",
       "0        0  ...     0     0           1           0         0         0   \n",
       "1        1  ...     0     0           0           0         0         0   \n",
       "2        0  ...     0     0           0           0         0         0   \n",
       "3        0  ...     0     0           0           0         0         0   \n",
       "4        0  ...     0     0           0           0         0         0   \n",
       "\n",
       "   type_Special  type_TV  scaled_episodes  scaled_members  \n",
       "0             0        0         0.000000        0.197867  \n",
       "1             0        1         0.034673        0.782769  \n",
       "2             0        1         0.027518        0.112683  \n",
       "3             0        1         0.012658        0.664323  \n",
       "4             0        1         0.027518        0.149180  \n",
       "\n",
       "[5 rows x 52 columns]"
      ]
     },
     "execution_count": 235,
     "metadata": {},
     "output_type": "execute_result"
    }
   ],
   "source": [
    "df = pd.read_csv('data/anime_df_preprocessed.csv', index_col=0)\n",
    "df.head()"
   ]
  },
  {
   "cell_type": "code",
   "execution_count": 237,
   "id": "55ecf3d1-b6a3-4455-a23a-288367d7ecce",
   "metadata": {
    "tags": []
   },
   "outputs": [],
   "source": [
    "X = df.drop('rating', axis=1)\n",
    "y = df['rating']\n",
    "\n",
    "X_train, X_test, y_train, y_test = train_test_split(X, y)"
   ]
  },
  {
   "cell_type": "code",
   "execution_count": 238,
   "id": "f45d6e5d-5504-4212-8a53-2fde24097539",
   "metadata": {
    "tags": []
   },
   "outputs": [
    {
     "data": {
      "text/plain": [
       "((8901, 51), (2968, 51), (8901,), (2968,))"
      ]
     },
     "execution_count": 238,
     "metadata": {},
     "output_type": "execute_result"
    }
   ],
   "source": [
    "X_train.shape, X_test.shape, y_train.shape, y_test.shape"
   ]
  },
  {
   "cell_type": "code",
   "execution_count": 239,
   "id": "eda4839c-2c2c-422a-acf8-54e923284e97",
   "metadata": {
    "tags": []
   },
   "outputs": [],
   "source": [
    "regressionResult = {}"
   ]
  },
  {
   "cell_type": "markdown",
   "id": "5ca3c1a3-5f2f-4918-b501-c17713365707",
   "metadata": {},
   "source": [
    "## Linear Regression"
   ]
  },
  {
   "cell_type": "code",
   "execution_count": 240,
   "id": "64ac390f-7f53-4060-88ed-ad4f7a0b7d83",
   "metadata": {
    "tags": []
   },
   "outputs": [],
   "source": [
    "linearRegression = LinearRegression()\n",
    "linearRegression.fit(X_train, y_train)\n",
    "cv_scores = cross_val_score(linearRegression, X_train, y_train, cv=5, scoring='neg_mean_squared_error')\n",
    "y_pred = linearRegression.predict(X_test)"
   ]
  },
  {
   "cell_type": "code",
   "execution_count": 241,
   "id": "474ba18c-b80b-4273-b813-6be321997f06",
   "metadata": {
    "tags": []
   },
   "outputs": [
    {
     "name": "stdout",
     "output_type": "stream",
     "text": [
      "Cross-Validation MSE Scores: [-0.65388622 -0.67908963 -0.65883397 -0.66485128 -0.7014031 ]\n",
      "Mean Cross-Validation MSE: -0.6716\n",
      "Standard Deviation of Cross-Validation MSE: 0.0171\n"
     ]
    }
   ],
   "source": [
    "print(f\"Cross-Validation MSE Scores: {cv_scores}\")\n",
    "print(f\"Mean Cross-Validation MSE: {cv_scores.mean():.4f}\")\n",
    "print(f\"Standard Deviation of Cross-Validation MSE: {cv_scores.std():.4f}\")"
   ]
  },
  {
   "cell_type": "code",
   "execution_count": 242,
   "id": "3f0e96e2-205f-43ac-8a7e-e4d350e1339c",
   "metadata": {
    "tags": []
   },
   "outputs": [
    {
     "name": "stdout",
     "output_type": "stream",
     "text": [
      "Test Set Mean Squared Error: 0.6545\n",
      "Test Set R-squared: 0.3660\n"
     ]
    }
   ],
   "source": [
    "mse = mean_squared_error(y_test, y_pred)\n",
    "r2 = r2_score(y_test, y_pred)\n",
    "regressionResult['LinearRegression'] = {\"mse\": mse, \"r2\": r2}\n",
    "print(f\"Test Set Mean Squared Error: {mse:.4f}\")\n",
    "print(f\"Test Set R-squared: {r2:.4f}\")"
   ]
  },
  {
   "cell_type": "markdown",
   "id": "c9575493-bdfe-4ed7-8ec5-4bee9760a28b",
   "metadata": {},
   "source": [
    "## Ridge Regression"
   ]
  },
  {
   "cell_type": "code",
   "execution_count": 243,
   "id": "1ab36db8-2e58-48f2-9e40-82551d66365a",
   "metadata": {
    "tags": []
   },
   "outputs": [],
   "source": [
    "ridgeRegression = RidgeCV()\n",
    "ridgeRegression.fit(X_train, y_train)\n",
    "y_pred = ridgeRegression.predict(X_test)"
   ]
  },
  {
   "cell_type": "code",
   "execution_count": 244,
   "id": "58b46138-da18-48d9-99ab-ae13c9d16a2e",
   "metadata": {
    "tags": []
   },
   "outputs": [
    {
     "name": "stdout",
     "output_type": "stream",
     "text": [
      "Best alpha: 1.0\n"
     ]
    }
   ],
   "source": [
    "print(f\"Best alpha: {ridgeRegression.alpha_}\")"
   ]
  },
  {
   "cell_type": "code",
   "execution_count": 245,
   "id": "6fa73b72-f871-4e5a-8d33-7e71ae1655f4",
   "metadata": {
    "tags": []
   },
   "outputs": [
    {
     "name": "stdout",
     "output_type": "stream",
     "text": [
      "Test Set Mean Squared Error: 0.6537\n",
      "Test Set R-squared: 0.3668\n"
     ]
    }
   ],
   "source": [
    "mse = mean_squared_error(y_test, y_pred)\n",
    "r2 = r2_score(y_test, y_pred)\n",
    "regressionResult['RidgeCV'] = {\"mse\": mse, \"r2\": r2}\n",
    "print(f\"Test Set Mean Squared Error: {mse:.4f}\")\n",
    "print(f\"Test Set R-squared: {r2:.4f}\")"
   ]
  },
  {
   "cell_type": "markdown",
   "id": "f523f576-6277-43b6-a9a9-e401a102a538",
   "metadata": {
    "tags": []
   },
   "source": [
    "## GradientBoostingRegressor"
   ]
  },
  {
   "cell_type": "code",
   "execution_count": 246,
   "id": "2f98b103-e83b-49b8-8ade-d9420fce86b5",
   "metadata": {
    "tags": []
   },
   "outputs": [],
   "source": [
    "gbRegressor = GradientBoostingRegressor()\n",
    "gbRegressor.fit(X_train, y_train)\n",
    "y_pred = gbRegressor.predict(X_test)"
   ]
  },
  {
   "cell_type": "code",
   "execution_count": 247,
   "id": "ffb426b1-2d92-4412-8891-63a384ca197f",
   "metadata": {
    "tags": []
   },
   "outputs": [
    {
     "name": "stdout",
     "output_type": "stream",
     "text": [
      "Test Set Mean Squared Error: 0.4169\n",
      "Test Set R-squared: 0.5961\n"
     ]
    },
    {
     "data": {
      "text/plain": [
       "{'alpha': 0.9,\n",
       " 'ccp_alpha': 0.0,\n",
       " 'criterion': 'friedman_mse',\n",
       " 'init': None,\n",
       " 'learning_rate': 0.1,\n",
       " 'loss': 'squared_error',\n",
       " 'max_depth': 3,\n",
       " 'max_features': None,\n",
       " 'max_leaf_nodes': None,\n",
       " 'min_impurity_decrease': 0.0,\n",
       " 'min_samples_leaf': 1,\n",
       " 'min_samples_split': 2,\n",
       " 'min_weight_fraction_leaf': 0.0,\n",
       " 'n_estimators': 100,\n",
       " 'n_iter_no_change': None,\n",
       " 'random_state': None,\n",
       " 'subsample': 1.0,\n",
       " 'tol': 0.0001,\n",
       " 'validation_fraction': 0.1,\n",
       " 'verbose': 0,\n",
       " 'warm_start': False}"
      ]
     },
     "execution_count": 247,
     "metadata": {},
     "output_type": "execute_result"
    }
   ],
   "source": [
    "mse = mean_squared_error(y_test, y_pred)\n",
    "r2 = r2_score(y_test, y_pred)\n",
    "\n",
    "# Print evaluation metrics\n",
    "print(f\"Test Set Mean Squared Error: {mse:.4f}\")\n",
    "print(f\"Test Set R-squared: {r2:.4f}\")\n",
    "gbRegressor.get_params()"
   ]
  },
  {
   "cell_type": "code",
   "execution_count": null,
   "id": "41127749-bb90-4a3d-8d9d-ff81c6d91f40",
   "metadata": {
    "tags": []
   },
   "outputs": [],
   "source": [
    "gbRegressor2 = GradientBoostingRegressor()\n",
    "\n",
    "param_grid = {\n",
    "    'n_estimators': [100, 300, 500],\n",
    "    'learning_rate': [0.01, 0.05, 0.1, 1.0],\n",
    "    'max_depth': [3, 5, 7, 9],\n",
    "}\n",
    "randomSearch = RandomizedSearchCV(estimator=gbRegressor2, param_distributions=param_grid, cv=5, n_jobs=-1,scoring='neg_mean_squared_error')\n",
    "randomSearch.fit(X_train, y_train)"
   ]
  },
  {
   "cell_type": "code",
   "execution_count": null,
   "id": "0beee109-7f35-4d11-bc6f-c66a8dc72ccf",
   "metadata": {
    "tags": []
   },
   "outputs": [],
   "source": [
    "print(f\"Best hyperparameters: {randomSearch.best_params_}\")"
   ]
  },
  {
   "cell_type": "code",
   "execution_count": null,
   "id": "4c100e3d-e605-487a-b043-8a9100f236dd",
   "metadata": {
    "tags": []
   },
   "outputs": [],
   "source": [
    "best_gb = randomSearch.best_estimator_\n",
    "y_pred = best_gb.predict(X_test)"
   ]
  },
  {
   "cell_type": "code",
   "execution_count": null,
   "id": "f4414170-7052-497e-8ce4-88ad464b641e",
   "metadata": {
    "tags": []
   },
   "outputs": [],
   "source": [
    "mse = mean_squared_error(y_test, y_pred)\n",
    "r2 = r2_score(y_test, y_pred)\n",
    "\n",
    "regressionResult['GradientBoostingRegressor'] = {\"mse\": mse, \"r2\": r2}\n",
    "\n",
    "# Print evaluation metrics\n",
    "print(f\"Test Set Mean Squared Error: {mse:.4f}\")\n",
    "print(f\"Test Set R-squared: {r2:.4f}\")"
   ]
  },
  {
   "cell_type": "markdown",
   "id": "4b50d2fc-b69a-4c63-b205-50c543867e60",
   "metadata": {
    "tags": []
   },
   "source": [
    "## RandomForestRegressor"
   ]
  },
  {
   "cell_type": "code",
   "execution_count": null,
   "id": "61216098-7dda-443c-a72f-050ff99e13d9",
   "metadata": {
    "tags": []
   },
   "outputs": [],
   "source": [
    "rfRegressor = RandomForestRegressor()\n",
    "\n",
    "param_grid= {\n",
    "    'n_estimators': [100, 300, 500],\n",
    "    'max_depth': [None, 10, 20, 30],\n",
    "    'bootstrap': [True, False]\n",
    "}\n",
    "\n",
    "randomSearch = RandomizedSearchCV(estimator=rfRegressor, param_distributions=param_grid, cv=5, n_jobs=-1,scoring='neg_mean_squared_error')\n",
    "randomSearch.fit(X_train, y_train)"
   ]
  },
  {
   "cell_type": "code",
   "execution_count": null,
   "id": "e89ca5d7-253c-44ac-902e-b45b8692989a",
   "metadata": {
    "tags": []
   },
   "outputs": [],
   "source": [
    "print(f\"Best hyperparameters: {randomSearch.best_params_}\")"
   ]
  },
  {
   "cell_type": "code",
   "execution_count": null,
   "id": "50b8d7a1-8a13-41d5-8828-d00af14e72f2",
   "metadata": {
    "tags": []
   },
   "outputs": [],
   "source": [
    "best_rf = randomSearch.best_estimator_\n",
    "y_pred = best_rf.predict(X_test)"
   ]
  },
  {
   "cell_type": "code",
   "execution_count": null,
   "id": "017a98a8-e254-4c21-ba10-24d9c7afe2a2",
   "metadata": {
    "tags": []
   },
   "outputs": [],
   "source": [
    "mse = mean_squared_error(y_test, y_pred)\n",
    "r2 = r2_score(y_test, y_pred)\n",
    "\n",
    "regressionResult['RandomForestRegressor'] = {\"mse\": mse, \"r2\": r2}\n",
    "\n",
    "# Print evaluation metrics\n",
    "print(f\"Test Set Mean Squared Error: {mse:.4f}\")\n",
    "print(f\"Test Set R-squared: {r2:.4f}\")"
   ]
  },
  {
   "cell_type": "markdown",
   "id": "29e89a96-e9b3-4390-9db9-2fd3797b9a26",
   "metadata": {
    "tags": []
   },
   "source": [
    "## KNN"
   ]
  },
  {
   "cell_type": "code",
   "execution_count": null,
   "id": "99375b42-a1d3-4db0-9d91-be61b8e8d8dd",
   "metadata": {
    "tags": []
   },
   "outputs": [],
   "source": [
    "knn = KNeighborsRegressor()\n",
    "\n",
    "param_grid= {\n",
    "    'n_neighbors': [3, 5, 7, 9, 11],\n",
    "    'weights': ['uniform', 'distance'],\n",
    "    'metric': ['euclidean', 'manhattan', 'minkowski']\n",
    "}\n",
    "\n",
    "randomSearch = RandomizedSearchCV(estimator=knn, param_distributions=param_grid, cv=5, n_jobs=-1,scoring='neg_mean_squared_error')\n",
    "randomSearch.fit(X_train, y_train)"
   ]
  },
  {
   "cell_type": "code",
   "execution_count": null,
   "id": "4d7ae97a-f230-4c77-9fbb-07c4473b8f6e",
   "metadata": {
    "tags": []
   },
   "outputs": [],
   "source": [
    "print(f\"Best hyperparameters: {randomSearch.best_params_}\")"
   ]
  },
  {
   "cell_type": "code",
   "execution_count": null,
   "id": "6ddbc922-321f-45d7-8f96-b3c67691a97f",
   "metadata": {
    "tags": []
   },
   "outputs": [],
   "source": [
    "best_knn = randomSearch.best_estimator_\n",
    "y_pred = best_knn.predict(X_test)"
   ]
  },
  {
   "cell_type": "code",
   "execution_count": null,
   "id": "c78e4e68-2b8b-446e-aba7-1bc40fae3e63",
   "metadata": {
    "tags": []
   },
   "outputs": [],
   "source": [
    "mse = mean_squared_error(y_test, y_pred)\n",
    "r2 = r2_score(y_test, y_pred)\n",
    "\n",
    "regressionResult['KNeighborsRegressor'] = {\"mse\": mse, \"r2\": r2}\n",
    "\n",
    "# Print evaluation metrics\n",
    "print(f\"Test Set Mean Squared Error: {mse:.4f}\")\n",
    "print(f\"Test Set R-squared: {r2:.4f}\")"
   ]
  },
  {
   "cell_type": "markdown",
   "id": "d15420ba-66df-4c61-8d66-ee13c5954133",
   "metadata": {
    "tags": []
   },
   "source": [
    "## Results"
   ]
  },
  {
   "cell_type": "code",
   "execution_count": null,
   "id": "4d415c2c-6e55-4610-8a8b-ecab1dee8231",
   "metadata": {
    "tags": []
   },
   "outputs": [],
   "source": [
    "pd.DataFrame(regressionResult).T"
   ]
  },
  {
   "cell_type": "markdown",
   "id": "779410d2-c9c7-4c69-894a-38c0a7e8ee56",
   "metadata": {
    "tags": []
   },
   "source": [
    "## Bin rating into low, mid, high"
   ]
  },
  {
   "cell_type": "code",
   "execution_count": null,
   "id": "9533c28c-7a1b-4713-9d08-acbdfb0e39b2",
   "metadata": {
    "tags": []
   },
   "outputs": [],
   "source": [
    "# Define bins and labels\n",
    "bins = [0, 5, 8, 10]  # Define bin edges\n",
    "labels = ['low', 'mid', 'high']  # Define bin labels\n",
    "\n",
    "# Bin the data\n",
    "df['binned_rating'] = pd.cut(df['rating'], bins=bins, labels=labels, include_lowest=True)"
   ]
  },
  {
   "cell_type": "code",
   "execution_count": null,
   "id": "0568c582-c70b-41d4-9b2f-d3888217fa3c",
   "metadata": {
    "tags": []
   },
   "outputs": [],
   "source": [
    "df.head()"
   ]
  },
  {
   "cell_type": "code",
   "execution_count": null,
   "id": "1e355a54-fea1-47a6-ad55-f75329c043e6",
   "metadata": {
    "tags": []
   },
   "outputs": [],
   "source": [
    "X = df.drop(columns=['rating','binned_rating'])\n",
    "y = df['binned_rating']\n",
    "\n",
    "X_train, X_test, y_train, y_test = train_test_split(X, y)\n",
    "X_train.shape, X_test.shape, y_train.shape, y_test.shape"
   ]
  },
  {
   "cell_type": "markdown",
   "id": "e4fa3715-b68d-4e9d-a428-53720becb7a4",
   "metadata": {
    "tags": []
   },
   "source": [
    "## GradientBoostingClassifier"
   ]
  },
  {
   "cell_type": "code",
   "execution_count": null,
   "id": "4b9da4c8-7067-4760-896d-286cd29e2790",
   "metadata": {
    "tags": []
   },
   "outputs": [],
   "source": [
    "gbClassifier = GradientBoostingClassifier()\n",
    "param_grid = {\n",
    "    'n_estimators': [100, 300, 500],\n",
    "    'learning_rate': [0.01, 0.05, 0.1, 1.0],\n",
    "    'max_depth': [3, 5, 7, 9],\n",
    "}\n",
    "randomSearch = RandomizedSearchCV(estimator=gbClassifier, param_distributions=param_grid, cv=5, n_jobs=-1)\n",
    "randomSearch.fit(X_train, y_train)"
   ]
  },
  {
   "cell_type": "code",
   "execution_count": null,
   "id": "ce94c7e3-ce32-467d-87b6-32239e1e7bdf",
   "metadata": {
    "tags": []
   },
   "outputs": [],
   "source": [
    "print(f\"Best hyperparameters: {randomSearch.best_params_}\")"
   ]
  },
  {
   "cell_type": "code",
   "execution_count": null,
   "id": "d88f5480-8eb1-472a-8a42-ea399a7b1c53",
   "metadata": {
    "tags": []
   },
   "outputs": [],
   "source": [
    "best_gb = randomSearch.best_estimator_\n",
    "y_pred = best_gb.predict(X_test)"
   ]
  },
  {
   "cell_type": "code",
   "execution_count": null,
   "id": "120d0c23-7a9b-4f65-8917-5ba98069340b",
   "metadata": {
    "tags": []
   },
   "outputs": [],
   "source": [
    "report = classification_report(y_test, y_pred)\n",
    "print(f\"Classification Report:\\n{report}\")\n",
    "cm = confusion_matrix(y_test, y_pred)"
   ]
  },
  {
   "cell_type": "code",
   "execution_count": null,
   "id": "7fc62689-4579-46c5-a705-483e9ddece78",
   "metadata": {
    "tags": []
   },
   "outputs": [],
   "source": [
    "sns.heatmap(cm/np.sum(cm), annot=True, \n",
    "            fmt='.2%', cmap='Blues')\n",
    "plt.xlabel('Predicted label')\n",
    "plt.ylabel('True label')\n",
    "plt.show()"
   ]
  },
  {
   "cell_type": "markdown",
   "id": "a5b93534-76f4-4a65-bd49-01340be89b2f",
   "metadata": {},
   "source": [
    "## RandomForestClassifier"
   ]
  },
  {
   "cell_type": "code",
   "execution_count": null,
   "id": "1451e3a4-74d2-4a4d-bc41-2103ade0c7d7",
   "metadata": {
    "tags": []
   },
   "outputs": [],
   "source": [
    "rfClassifier = RandomForestClassifier()\n",
    "\n",
    "param_grid= {\n",
    "    'n_estimators': [100, 300, 500],\n",
    "    'max_depth': [None, 10, 20, 30],\n",
    "    'bootstrap': [True, False]\n",
    "}\n",
    "\n",
    "randomSearch = RandomizedSearchCV(estimator=rfClassifier, param_distributions=param_grid, cv=5, n_jobs=-1)\n",
    "randomSearch.fit(X_train, y_train)"
   ]
  },
  {
   "cell_type": "code",
   "execution_count": null,
   "id": "a3fce2fa-3fe3-4769-9474-caf7ca8a311a",
   "metadata": {
    "tags": []
   },
   "outputs": [],
   "source": [
    "print(f\"Best hyperparameters: {randomSearch.best_params_}\")"
   ]
  },
  {
   "cell_type": "code",
   "execution_count": null,
   "id": "086fc53f-6b1a-4e0b-a33d-ae5a176b8278",
   "metadata": {
    "tags": []
   },
   "outputs": [],
   "source": [
    "best_rf = randomSearch.best_estimator_\n",
    "y_pred = best_rf.predict(X_test)"
   ]
  },
  {
   "cell_type": "code",
   "execution_count": null,
   "id": "d0089a06-ee01-4b31-b53f-d91d2ecaa33c",
   "metadata": {
    "tags": []
   },
   "outputs": [],
   "source": [
    "report = classification_report(y_test, y_pred)\n",
    "print(f\"Classification Report:\\n{report}\")\n",
    "cm = confusion_matrix(y_test, y_pred)"
   ]
  },
  {
   "cell_type": "code",
   "execution_count": null,
   "id": "11fcfb02-8c92-4715-93aa-31478f60811f",
   "metadata": {
    "tags": []
   },
   "outputs": [],
   "source": [
    "sns.heatmap(cm/np.sum(cm), annot=True, \n",
    "            fmt='.2%', cmap='Blues')\n",
    "plt.xlabel('Predicted label')\n",
    "plt.ylabel('True label')\n",
    "plt.show()"
   ]
  }
 ],
 "metadata": {
  "kernelspec": {
   "display_name": "Python 3 (ipykernel)",
   "language": "python",
   "name": "python3"
  },
  "language_info": {
   "codemirror_mode": {
    "name": "ipython",
    "version": 3
   },
   "file_extension": ".py",
   "mimetype": "text/x-python",
   "name": "python",
   "nbconvert_exporter": "python",
   "pygments_lexer": "ipython3",
   "version": "3.11.2"
  }
 },
 "nbformat": 4,
 "nbformat_minor": 5
}
