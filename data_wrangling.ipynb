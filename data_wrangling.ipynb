{
 "cells": [
  {
   "cell_type": "markdown",
   "id": "11548bdd-daab-4b3f-a9b4-b2c12d508335",
   "metadata": {},
   "source": [
    "# Data wrangling"
   ]
  },
  {
   "cell_type": "markdown",
   "id": "7ae11c60-8df6-4ae5-b3e3-acb3b7b38a1f",
   "metadata": {
    "tags": []
   },
   "source": [
    "## Contents\n",
    "* [Data Collection](#data_collection)\n",
    "* [Data Cleaning](#data_cleaning)\n",
    "* [Data Definition](#data_definition)\n",
    "\n",
    "\n",
    "\n",
    "\n"
   ]
  },
  {
   "cell_type": "code",
   "execution_count": 19,
   "id": "dcaa4b22-a2b3-4453-8754-bcd05270ca71",
   "metadata": {
    "tags": []
   },
   "outputs": [],
   "source": [
    "import pandas as pd\n",
    "import numpy as np\n",
    "import matplotlib.pyplot as plt\n",
    "import seaborn as sns\n",
    "import os\n",
    "import difflib\n"
   ]
  },
  {
   "cell_type": "markdown",
   "id": "42cb0b00-0538-48df-bced-b8bc13f87a5e",
   "metadata": {
    "tags": []
   },
   "source": [
    "## Data Collection<a id='data_collection'></a>"
   ]
  },
  {
   "cell_type": "code",
   "execution_count": 428,
   "id": "0cd55f56-4271-4470-8181-29e93146d3a0",
   "metadata": {
    "tags": []
   },
   "outputs": [
    {
     "data": {
      "text/html": [
       "<div>\n",
       "<style scoped>\n",
       "    .dataframe tbody tr th:only-of-type {\n",
       "        vertical-align: middle;\n",
       "    }\n",
       "\n",
       "    .dataframe tbody tr th {\n",
       "        vertical-align: top;\n",
       "    }\n",
       "\n",
       "    .dataframe thead th {\n",
       "        text-align: right;\n",
       "    }\n",
       "</style>\n",
       "<table border=\"1\" class=\"dataframe\">\n",
       "  <thead>\n",
       "    <tr style=\"text-align: right;\">\n",
       "      <th></th>\n",
       "      <th>anime_id</th>\n",
       "      <th>name</th>\n",
       "      <th>genre</th>\n",
       "      <th>type</th>\n",
       "      <th>episodes</th>\n",
       "      <th>rating</th>\n",
       "      <th>members</th>\n",
       "    </tr>\n",
       "  </thead>\n",
       "  <tbody>\n",
       "    <tr>\n",
       "      <th>0</th>\n",
       "      <td>32281</td>\n",
       "      <td>Kimi no Na wa.</td>\n",
       "      <td>Drama, Romance, School, Supernatural</td>\n",
       "      <td>Movie</td>\n",
       "      <td>1</td>\n",
       "      <td>9.37</td>\n",
       "      <td>200630</td>\n",
       "    </tr>\n",
       "    <tr>\n",
       "      <th>1</th>\n",
       "      <td>5114</td>\n",
       "      <td>Fullmetal Alchemist: Brotherhood</td>\n",
       "      <td>Action, Adventure, Drama, Fantasy, Magic, Mili...</td>\n",
       "      <td>TV</td>\n",
       "      <td>64</td>\n",
       "      <td>9.26</td>\n",
       "      <td>793665</td>\n",
       "    </tr>\n",
       "    <tr>\n",
       "      <th>2</th>\n",
       "      <td>28977</td>\n",
       "      <td>Gintama°</td>\n",
       "      <td>Action, Comedy, Historical, Parody, Samurai, S...</td>\n",
       "      <td>TV</td>\n",
       "      <td>51</td>\n",
       "      <td>9.25</td>\n",
       "      <td>114262</td>\n",
       "    </tr>\n",
       "    <tr>\n",
       "      <th>3</th>\n",
       "      <td>9253</td>\n",
       "      <td>Steins;Gate</td>\n",
       "      <td>Sci-Fi, Thriller</td>\n",
       "      <td>TV</td>\n",
       "      <td>24</td>\n",
       "      <td>9.17</td>\n",
       "      <td>673572</td>\n",
       "    </tr>\n",
       "    <tr>\n",
       "      <th>4</th>\n",
       "      <td>9969</td>\n",
       "      <td>Gintama&amp;#039;</td>\n",
       "      <td>Action, Comedy, Historical, Parody, Samurai, S...</td>\n",
       "      <td>TV</td>\n",
       "      <td>51</td>\n",
       "      <td>9.16</td>\n",
       "      <td>151266</td>\n",
       "    </tr>\n",
       "  </tbody>\n",
       "</table>\n",
       "</div>"
      ],
      "text/plain": [
       "   anime_id                              name  \\\n",
       "0     32281                    Kimi no Na wa.   \n",
       "1      5114  Fullmetal Alchemist: Brotherhood   \n",
       "2     28977                          Gintama°   \n",
       "3      9253                       Steins;Gate   \n",
       "4      9969                     Gintama&#039;   \n",
       "\n",
       "                                               genre   type episodes  rating  \\\n",
       "0               Drama, Romance, School, Supernatural  Movie        1    9.37   \n",
       "1  Action, Adventure, Drama, Fantasy, Magic, Mili...     TV       64    9.26   \n",
       "2  Action, Comedy, Historical, Parody, Samurai, S...     TV       51    9.25   \n",
       "3                                   Sci-Fi, Thriller     TV       24    9.17   \n",
       "4  Action, Comedy, Historical, Parody, Samurai, S...     TV       51    9.16   \n",
       "\n",
       "   members  \n",
       "0   200630  \n",
       "1   793665  \n",
       "2   114262  \n",
       "3   673572  \n",
       "4   151266  "
      ]
     },
     "execution_count": 428,
     "metadata": {},
     "output_type": "execute_result"
    }
   ],
   "source": [
    "anime_raw = pd.read_csv('data/anime.csv')\n",
    "anime_raw.head()"
   ]
  },
  {
   "cell_type": "code",
   "execution_count": 429,
   "id": "549f9598-ec8e-417e-8de2-45c81a67e257",
   "metadata": {
    "tags": []
   },
   "outputs": [
    {
     "data": {
      "text/html": [
       "<div>\n",
       "<style scoped>\n",
       "    .dataframe tbody tr th:only-of-type {\n",
       "        vertical-align: middle;\n",
       "    }\n",
       "\n",
       "    .dataframe tbody tr th {\n",
       "        vertical-align: top;\n",
       "    }\n",
       "\n",
       "    .dataframe thead th {\n",
       "        text-align: right;\n",
       "    }\n",
       "</style>\n",
       "<table border=\"1\" class=\"dataframe\">\n",
       "  <thead>\n",
       "    <tr style=\"text-align: right;\">\n",
       "      <th></th>\n",
       "      <th>user_id</th>\n",
       "      <th>anime_id</th>\n",
       "      <th>rating</th>\n",
       "    </tr>\n",
       "  </thead>\n",
       "  <tbody>\n",
       "    <tr>\n",
       "      <th>0</th>\n",
       "      <td>1</td>\n",
       "      <td>20</td>\n",
       "      <td>-1</td>\n",
       "    </tr>\n",
       "    <tr>\n",
       "      <th>1</th>\n",
       "      <td>1</td>\n",
       "      <td>24</td>\n",
       "      <td>-1</td>\n",
       "    </tr>\n",
       "    <tr>\n",
       "      <th>2</th>\n",
       "      <td>1</td>\n",
       "      <td>79</td>\n",
       "      <td>-1</td>\n",
       "    </tr>\n",
       "    <tr>\n",
       "      <th>3</th>\n",
       "      <td>1</td>\n",
       "      <td>226</td>\n",
       "      <td>-1</td>\n",
       "    </tr>\n",
       "    <tr>\n",
       "      <th>4</th>\n",
       "      <td>1</td>\n",
       "      <td>241</td>\n",
       "      <td>-1</td>\n",
       "    </tr>\n",
       "  </tbody>\n",
       "</table>\n",
       "</div>"
      ],
      "text/plain": [
       "   user_id  anime_id  rating\n",
       "0        1        20      -1\n",
       "1        1        24      -1\n",
       "2        1        79      -1\n",
       "3        1       226      -1\n",
       "4        1       241      -1"
      ]
     },
     "execution_count": 429,
     "metadata": {},
     "output_type": "execute_result"
    }
   ],
   "source": [
    "rating_raw = pd.read_csv('data/rating.csv')\n",
    "rating_raw.head()"
   ]
  },
  {
   "cell_type": "markdown",
   "id": "f21f594b-f7fd-4383-b685-ad6cbf513e9f",
   "metadata": {},
   "source": [
    "## Data Cleaning<a id='data_cleaning'></a>"
   ]
  },
  {
   "cell_type": "code",
   "execution_count": 430,
   "id": "7c349582-bb2a-4037-a0d2-b274e183647c",
   "metadata": {
    "tags": []
   },
   "outputs": [],
   "source": [
    "#Cleaning common steps:\n",
    "#Check missing value\n",
    "#Check duplicate value\n",
    "#Check data type\n",
    "#Check for extreme value"
   ]
  },
  {
   "cell_type": "code",
   "execution_count": 450,
   "id": "c8f75622-fff3-434d-9e18-6da2d426a634",
   "metadata": {
    "tags": []
   },
   "outputs": [
    {
     "name": "stdout",
     "output_type": "stream",
     "text": [
      "<class 'pandas.core.frame.DataFrame'>\n",
      "RangeIndex: 12294 entries, 0 to 12293\n",
      "Data columns (total 7 columns):\n",
      " #   Column    Non-Null Count  Dtype  \n",
      "---  ------    --------------  -----  \n",
      " 0   anime_id  12294 non-null  int64  \n",
      " 1   name      12294 non-null  object \n",
      " 2   genre     12232 non-null  object \n",
      " 3   type      12269 non-null  object \n",
      " 4   episodes  12294 non-null  object \n",
      " 5   rating    12064 non-null  float64\n",
      " 6   members   12294 non-null  int64  \n",
      "dtypes: float64(1), int64(2), object(4)\n",
      "memory usage: 672.5+ KB\n"
     ]
    }
   ],
   "source": [
    "anime_df = anime_raw.copy()\n",
    "anime_raw.info()"
   ]
  },
  {
   "cell_type": "code",
   "execution_count": 451,
   "id": "e595e6f8-a28f-4162-802e-03287352d0ce",
   "metadata": {
    "tags": []
   },
   "outputs": [
    {
     "data": {
      "text/plain": [
       "anime_id      0\n",
       "name          0\n",
       "genre        62\n",
       "type         25\n",
       "episodes      0\n",
       "rating      230\n",
       "members       0\n",
       "dtype: int64"
      ]
     },
     "execution_count": 451,
     "metadata": {},
     "output_type": "execute_result"
    }
   ],
   "source": [
    "anime_df.isnull().sum()"
   ]
  },
  {
   "cell_type": "code",
   "execution_count": 452,
   "id": "de0a82ba-e520-43c7-8b40-50ccde8a3950",
   "metadata": {
    "tags": []
   },
   "outputs": [
    {
     "data": {
      "text/plain": [
       "anime_id    False\n",
       "name        False\n",
       "genre       False\n",
       "type        False\n",
       "episodes     True\n",
       "rating      False\n",
       "members     False\n",
       "dtype: bool"
      ]
     },
     "execution_count": 452,
     "metadata": {},
     "output_type": "execute_result"
    }
   ],
   "source": [
    "(anime_df== 'Unknown').any()"
   ]
  },
  {
   "cell_type": "code",
   "execution_count": 453,
   "id": "7973488b-0978-454c-8126-57e07649eef4",
   "metadata": {
    "tags": []
   },
   "outputs": [
    {
     "data": {
      "text/plain": [
       "anime_id    False\n",
       "name        False\n",
       "genre       False\n",
       "type        False\n",
       "episodes    False\n",
       "rating      False\n",
       "members     False\n",
       "dtype: bool"
      ]
     },
     "execution_count": 453,
     "metadata": {},
     "output_type": "execute_result"
    }
   ],
   "source": [
    "anime_df.loc[(anime_df['episodes'] == 'Unknown'), 'episodes'] = np.NaN\n",
    "(anime_df== 'Unknown').any()"
   ]
  },
  {
   "cell_type": "code",
   "execution_count": 454,
   "id": "8913bce3-0dc5-47cb-8fdc-d81d90b2840d",
   "metadata": {
    "tags": []
   },
   "outputs": [
    {
     "data": {
      "text/plain": [
       "anime_id      0\n",
       "name          0\n",
       "genre        62\n",
       "type         25\n",
       "episodes    340\n",
       "rating      230\n",
       "members       0\n",
       "dtype: int64"
      ]
     },
     "execution_count": 454,
     "metadata": {},
     "output_type": "execute_result"
    }
   ],
   "source": [
    "anime_df.isna().sum()"
   ]
  },
  {
   "cell_type": "code",
   "execution_count": 455,
   "id": "d247d7c4-35fc-4f24-8c7a-55db45911cee",
   "metadata": {
    "tags": []
   },
   "outputs": [
    {
     "name": "stdout",
     "output_type": "stream",
     "text": [
      "<class 'pandas.core.frame.DataFrame'>\n",
      "RangeIndex: 12294 entries, 0 to 12293\n",
      "Data columns (total 7 columns):\n",
      " #   Column    Non-Null Count  Dtype  \n",
      "---  ------    --------------  -----  \n",
      " 0   anime_id  12294 non-null  int64  \n",
      " 1   name      12294 non-null  object \n",
      " 2   genre     12232 non-null  object \n",
      " 3   type      12269 non-null  object \n",
      " 4   episodes  11954 non-null  object \n",
      " 5   rating    12064 non-null  float64\n",
      " 6   members   12294 non-null  int64  \n",
      "dtypes: float64(1), int64(2), object(4)\n",
      "memory usage: 672.5+ KB\n",
      "None\n",
      "<class 'pandas.core.frame.DataFrame'>\n",
      "RangeIndex: 12294 entries, 0 to 12293\n",
      "Data columns (total 7 columns):\n",
      " #   Column    Non-Null Count  Dtype  \n",
      "---  ------    --------------  -----  \n",
      " 0   anime_id  12294 non-null  int64  \n",
      " 1   name      12294 non-null  string \n",
      " 2   genre     12232 non-null  string \n",
      " 3   type      12269 non-null  string \n",
      " 4   episodes  11954 non-null  float64\n",
      " 5   rating    12064 non-null  float64\n",
      " 6   members   12294 non-null  int64  \n",
      "dtypes: float64(2), int64(2), string(3)\n",
      "memory usage: 672.5 KB\n",
      "None\n"
     ]
    }
   ],
   "source": [
    "# Check datatype\n",
    "print(anime_df.info())\n",
    "anime_df['name'] = anime_df['name'].astype('string')\n",
    "anime_df['type'] = anime_df['type'].astype('string')\n",
    "anime_df['genre'] = anime_df['genre'].astype('string')\n",
    "anime_df['episodes'] = pd.to_numeric(anime_df['episodes'], errors='coerce')\n",
    "anime_df['rating'] = anime_df['rating'].astype('float')\n",
    "\n",
    "print(anime_df.info())"
   ]
  },
  {
   "cell_type": "code",
   "execution_count": 456,
   "id": "79e61d85-1e6b-4c09-a205-f82cf624a145",
   "metadata": {
    "tags": []
   },
   "outputs": [
    {
     "name": "stderr",
     "output_type": "stream",
     "text": [
      "/var/folders/xk/5gx1tq55563djqn2f91dfp040000gn/T/ipykernel_21221/1046459548.py:5: SettingWithCopyWarning: \n",
      "A value is trying to be set on a copy of a slice from a DataFrame.\n",
      "Try using .loc[row_indexer,col_indexer] = value instead\n",
      "\n",
      "See the caveats in the documentation: https://pandas.pydata.org/pandas-docs/stable/user_guide/indexing.html#returning-a-view-versus-a-copy\n",
      "  anime_has_null_genre['matched_name'] = names_has_null_genre.apply(lambda x: difflib.get_close_matches(x, names_without_null_genre, n=1))\n"
     ]
    },
    {
     "data": {
      "text/html": [
       "<div>\n",
       "<style scoped>\n",
       "    .dataframe tbody tr th:only-of-type {\n",
       "        vertical-align: middle;\n",
       "    }\n",
       "\n",
       "    .dataframe tbody tr th {\n",
       "        vertical-align: top;\n",
       "    }\n",
       "\n",
       "    .dataframe thead th {\n",
       "        text-align: right;\n",
       "    }\n",
       "</style>\n",
       "<table border=\"1\" class=\"dataframe\">\n",
       "  <thead>\n",
       "    <tr style=\"text-align: right;\">\n",
       "      <th></th>\n",
       "      <th>anime_id</th>\n",
       "      <th>name</th>\n",
       "      <th>genre</th>\n",
       "      <th>type</th>\n",
       "      <th>episodes</th>\n",
       "      <th>rating</th>\n",
       "      <th>members</th>\n",
       "      <th>matched_name</th>\n",
       "    </tr>\n",
       "  </thead>\n",
       "  <tbody>\n",
       "    <tr>\n",
       "      <th>2844</th>\n",
       "      <td>33242</td>\n",
       "      <td>IS: Infinite Stratos 2 - Infinite Wedding</td>\n",
       "      <td>NaN</td>\n",
       "      <td>Special</td>\n",
       "      <td>1</td>\n",
       "      <td>7.15</td>\n",
       "      <td>6604</td>\n",
       "      <td>[IS: Infinite Stratos 2]</td>\n",
       "    </tr>\n",
       "    <tr>\n",
       "      <th>3541</th>\n",
       "      <td>33589</td>\n",
       "      <td>ViVid Strike!</td>\n",
       "      <td>NaN</td>\n",
       "      <td>TV</td>\n",
       "      <td>12</td>\n",
       "      <td>6.96</td>\n",
       "      <td>12345</td>\n",
       "      <td>[]</td>\n",
       "    </tr>\n",
       "    <tr>\n",
       "      <th>6040</th>\n",
       "      <td>29765</td>\n",
       "      <td>Metropolis (2009)</td>\n",
       "      <td>NaN</td>\n",
       "      <td>Movie</td>\n",
       "      <td>1</td>\n",
       "      <td>6.27</td>\n",
       "      <td>313</td>\n",
       "      <td>[Metropolis]</td>\n",
       "    </tr>\n",
       "    <tr>\n",
       "      <th>6646</th>\n",
       "      <td>32695</td>\n",
       "      <td>Match Shoujo</td>\n",
       "      <td>NaN</td>\n",
       "      <td>ONA</td>\n",
       "      <td>1</td>\n",
       "      <td>6.02</td>\n",
       "      <td>242</td>\n",
       "      <td>[Match Uri no Shoujo]</td>\n",
       "    </tr>\n",
       "    <tr>\n",
       "      <th>7018</th>\n",
       "      <td>33187</td>\n",
       "      <td>Katsudou Shashin</td>\n",
       "      <td>NaN</td>\n",
       "      <td>Movie</td>\n",
       "      <td>1</td>\n",
       "      <td>5.79</td>\n",
       "      <td>607</td>\n",
       "      <td>[Sakura Taisen: Katsudou Shashin]</td>\n",
       "    </tr>\n",
       "    <tr>\n",
       "      <th>...</th>\n",
       "      <td>...</td>\n",
       "      <td>...</td>\n",
       "      <td>...</td>\n",
       "      <td>...</td>\n",
       "      <td>...</td>\n",
       "      <td>...</td>\n",
       "      <td>...</td>\n",
       "      <td>...</td>\n",
       "    </tr>\n",
       "    <tr>\n",
       "      <th>11070</th>\n",
       "      <td>32032</td>\n",
       "      <td>Seikaisuru Kado</td>\n",
       "      <td>NaN</td>\n",
       "      <td>NaN</td>\n",
       "      <td>Unknown</td>\n",
       "      <td>NaN</td>\n",
       "      <td>1797</td>\n",
       "      <td>[]</td>\n",
       "    </tr>\n",
       "    <tr>\n",
       "      <th>11086</th>\n",
       "      <td>34310</td>\n",
       "      <td>Tamagotchi Movie: Tanpen Himitsu no Otodoke Da...</td>\n",
       "      <td>NaN</td>\n",
       "      <td>Movie</td>\n",
       "      <td>1</td>\n",
       "      <td>NaN</td>\n",
       "      <td>51</td>\n",
       "      <td>[]</td>\n",
       "    </tr>\n",
       "    <tr>\n",
       "      <th>11097</th>\n",
       "      <td>34474</td>\n",
       "      <td>Tsukipro The Animation</td>\n",
       "      <td>NaN</td>\n",
       "      <td>TV</td>\n",
       "      <td>Unknown</td>\n",
       "      <td>NaN</td>\n",
       "      <td>843</td>\n",
       "      <td>[Tsukiuta. The Animation]</td>\n",
       "    </tr>\n",
       "    <tr>\n",
       "      <th>11112</th>\n",
       "      <td>33035</td>\n",
       "      <td>Yuyushiki Special</td>\n",
       "      <td>NaN</td>\n",
       "      <td>Special</td>\n",
       "      <td>1</td>\n",
       "      <td>NaN</td>\n",
       "      <td>2294</td>\n",
       "      <td>[Shiki Specials]</td>\n",
       "    </tr>\n",
       "    <tr>\n",
       "      <th>11113</th>\n",
       "      <td>33390</td>\n",
       "      <td>Zunda Horizon</td>\n",
       "      <td>NaN</td>\n",
       "      <td>Movie</td>\n",
       "      <td>1</td>\n",
       "      <td>NaN</td>\n",
       "      <td>160</td>\n",
       "      <td>[Log Horizon]</td>\n",
       "    </tr>\n",
       "  </tbody>\n",
       "</table>\n",
       "<p>62 rows × 8 columns</p>\n",
       "</div>"
      ],
      "text/plain": [
       "       anime_id                                               name genre  \\\n",
       "2844      33242          IS: Infinite Stratos 2 - Infinite Wedding   NaN   \n",
       "3541      33589                                      ViVid Strike!   NaN   \n",
       "6040      29765                                  Metropolis (2009)   NaN   \n",
       "6646      32695                                       Match Shoujo   NaN   \n",
       "7018      33187                                   Katsudou Shashin   NaN   \n",
       "...         ...                                                ...   ...   \n",
       "11070     32032                                    Seikaisuru Kado   NaN   \n",
       "11086     34310  Tamagotchi Movie: Tanpen Himitsu no Otodoke Da...   NaN   \n",
       "11097     34474                             Tsukipro The Animation   NaN   \n",
       "11112     33035                                  Yuyushiki Special   NaN   \n",
       "11113     33390                                      Zunda Horizon   NaN   \n",
       "\n",
       "          type episodes  rating  members                       matched_name  \n",
       "2844   Special        1    7.15     6604           [IS: Infinite Stratos 2]  \n",
       "3541        TV       12    6.96    12345                                 []  \n",
       "6040     Movie        1    6.27      313                       [Metropolis]  \n",
       "6646       ONA        1    6.02      242              [Match Uri no Shoujo]  \n",
       "7018     Movie        1    5.79      607  [Sakura Taisen: Katsudou Shashin]  \n",
       "...        ...      ...     ...      ...                                ...  \n",
       "11070      NaN  Unknown     NaN     1797                                 []  \n",
       "11086    Movie        1     NaN       51                                 []  \n",
       "11097       TV  Unknown     NaN      843          [Tsukiuta. The Animation]  \n",
       "11112  Special        1     NaN     2294                   [Shiki Specials]  \n",
       "11113    Movie        1     NaN      160                      [Log Horizon]  \n",
       "\n",
       "[62 rows x 8 columns]"
      ]
     },
     "execution_count": 456,
     "metadata": {},
     "output_type": "execute_result"
    }
   ],
   "source": [
    "# Check if anime that has genre null is from the same anime but different episode title or type. Check by finding if title has similarity to other animes. \n",
    "anime_has_null_genre = anime_raw[anime_raw['genre'].isnull()]\n",
    "names_without_null_genre = anime_raw[~anime_raw['genre'].isnull()]['name']\n",
    "names_has_null_genre = anime_has_null_genre['name']\n",
    "anime_has_null_genre['matched_name'] = names_has_null_genre.apply(lambda x: difflib.get_close_matches(x, names_without_null_genre, n=1))\n",
    "anime_has_null_genre"
   ]
  },
  {
   "cell_type": "code",
   "execution_count": 457,
   "id": "ae4be1b2-cc1b-4744-96dc-b5977d0d157c",
   "metadata": {
    "tags": []
   },
   "outputs": [
    {
     "data": {
      "text/html": [
       "<div>\n",
       "<style scoped>\n",
       "    .dataframe tbody tr th:only-of-type {\n",
       "        vertical-align: middle;\n",
       "    }\n",
       "\n",
       "    .dataframe tbody tr th {\n",
       "        vertical-align: top;\n",
       "    }\n",
       "\n",
       "    .dataframe thead th {\n",
       "        text-align: right;\n",
       "    }\n",
       "</style>\n",
       "<table border=\"1\" class=\"dataframe\">\n",
       "  <thead>\n",
       "    <tr style=\"text-align: right;\">\n",
       "      <th></th>\n",
       "      <th>anime_id</th>\n",
       "      <th>name</th>\n",
       "      <th>genre</th>\n",
       "      <th>type</th>\n",
       "      <th>episodes</th>\n",
       "      <th>rating</th>\n",
       "      <th>members</th>\n",
       "      <th>matched_name</th>\n",
       "      <th>matched_genre</th>\n",
       "    </tr>\n",
       "  </thead>\n",
       "  <tbody>\n",
       "    <tr>\n",
       "      <th>2844</th>\n",
       "      <td>33242</td>\n",
       "      <td>IS: Infinite Stratos 2 - Infinite Wedding</td>\n",
       "      <td>NaN</td>\n",
       "      <td>Special</td>\n",
       "      <td>1</td>\n",
       "      <td>7.15</td>\n",
       "      <td>6604</td>\n",
       "      <td>IS: Infinite Stratos 2</td>\n",
       "      <td>Action, Comedy, Harem, Mecha, Sci-Fi</td>\n",
       "    </tr>\n",
       "    <tr>\n",
       "      <th>3541</th>\n",
       "      <td>33589</td>\n",
       "      <td>ViVid Strike!</td>\n",
       "      <td>NaN</td>\n",
       "      <td>TV</td>\n",
       "      <td>12</td>\n",
       "      <td>6.96</td>\n",
       "      <td>12345</td>\n",
       "      <td>NaN</td>\n",
       "      <td>NaN</td>\n",
       "    </tr>\n",
       "    <tr>\n",
       "      <th>6040</th>\n",
       "      <td>29765</td>\n",
       "      <td>Metropolis (2009)</td>\n",
       "      <td>NaN</td>\n",
       "      <td>Movie</td>\n",
       "      <td>1</td>\n",
       "      <td>6.27</td>\n",
       "      <td>313</td>\n",
       "      <td>Metropolis</td>\n",
       "      <td>Adventure, Drama, Police, Romance, Sci-Fi, Sho...</td>\n",
       "    </tr>\n",
       "    <tr>\n",
       "      <th>6646</th>\n",
       "      <td>32695</td>\n",
       "      <td>Match Shoujo</td>\n",
       "      <td>NaN</td>\n",
       "      <td>ONA</td>\n",
       "      <td>1</td>\n",
       "      <td>6.02</td>\n",
       "      <td>242</td>\n",
       "      <td>Match Uri no Shoujo</td>\n",
       "      <td>Drama, Kids</td>\n",
       "    </tr>\n",
       "    <tr>\n",
       "      <th>7018</th>\n",
       "      <td>33187</td>\n",
       "      <td>Katsudou Shashin</td>\n",
       "      <td>NaN</td>\n",
       "      <td>Movie</td>\n",
       "      <td>1</td>\n",
       "      <td>5.79</td>\n",
       "      <td>607</td>\n",
       "      <td>Sakura Taisen: Katsudou Shashin</td>\n",
       "      <td>Adventure, Mecha, Sci-Fi, Shounen</td>\n",
       "    </tr>\n",
       "    <tr>\n",
       "      <th>...</th>\n",
       "      <td>...</td>\n",
       "      <td>...</td>\n",
       "      <td>...</td>\n",
       "      <td>...</td>\n",
       "      <td>...</td>\n",
       "      <td>...</td>\n",
       "      <td>...</td>\n",
       "      <td>...</td>\n",
       "      <td>...</td>\n",
       "    </tr>\n",
       "    <tr>\n",
       "      <th>11070</th>\n",
       "      <td>32032</td>\n",
       "      <td>Seikaisuru Kado</td>\n",
       "      <td>NaN</td>\n",
       "      <td>NaN</td>\n",
       "      <td>Unknown</td>\n",
       "      <td>NaN</td>\n",
       "      <td>1797</td>\n",
       "      <td>NaN</td>\n",
       "      <td>NaN</td>\n",
       "    </tr>\n",
       "    <tr>\n",
       "      <th>11086</th>\n",
       "      <td>34310</td>\n",
       "      <td>Tamagotchi Movie: Tanpen Himitsu no Otodoke Da...</td>\n",
       "      <td>NaN</td>\n",
       "      <td>Movie</td>\n",
       "      <td>1</td>\n",
       "      <td>NaN</td>\n",
       "      <td>51</td>\n",
       "      <td>NaN</td>\n",
       "      <td>NaN</td>\n",
       "    </tr>\n",
       "    <tr>\n",
       "      <th>11097</th>\n",
       "      <td>34474</td>\n",
       "      <td>Tsukipro The Animation</td>\n",
       "      <td>NaN</td>\n",
       "      <td>TV</td>\n",
       "      <td>Unknown</td>\n",
       "      <td>NaN</td>\n",
       "      <td>843</td>\n",
       "      <td>Tsukiuta. The Animation</td>\n",
       "      <td>Music</td>\n",
       "    </tr>\n",
       "    <tr>\n",
       "      <th>11112</th>\n",
       "      <td>33035</td>\n",
       "      <td>Yuyushiki Special</td>\n",
       "      <td>NaN</td>\n",
       "      <td>Special</td>\n",
       "      <td>1</td>\n",
       "      <td>NaN</td>\n",
       "      <td>2294</td>\n",
       "      <td>Shiki Specials</td>\n",
       "      <td>Horror, Mystery, Supernatural, Vampire</td>\n",
       "    </tr>\n",
       "    <tr>\n",
       "      <th>11113</th>\n",
       "      <td>33390</td>\n",
       "      <td>Zunda Horizon</td>\n",
       "      <td>NaN</td>\n",
       "      <td>Movie</td>\n",
       "      <td>1</td>\n",
       "      <td>NaN</td>\n",
       "      <td>160</td>\n",
       "      <td>Log Horizon</td>\n",
       "      <td>Action, Adventure, Fantasy, Game, Magic, Shounen</td>\n",
       "    </tr>\n",
       "  </tbody>\n",
       "</table>\n",
       "<p>62 rows × 9 columns</p>\n",
       "</div>"
      ],
      "text/plain": [
       "       anime_id                                               name genre  \\\n",
       "2844      33242          IS: Infinite Stratos 2 - Infinite Wedding   NaN   \n",
       "3541      33589                                      ViVid Strike!   NaN   \n",
       "6040      29765                                  Metropolis (2009)   NaN   \n",
       "6646      32695                                       Match Shoujo   NaN   \n",
       "7018      33187                                   Katsudou Shashin   NaN   \n",
       "...         ...                                                ...   ...   \n",
       "11070     32032                                    Seikaisuru Kado   NaN   \n",
       "11086     34310  Tamagotchi Movie: Tanpen Himitsu no Otodoke Da...   NaN   \n",
       "11097     34474                             Tsukipro The Animation   NaN   \n",
       "11112     33035                                  Yuyushiki Special   NaN   \n",
       "11113     33390                                      Zunda Horizon   NaN   \n",
       "\n",
       "          type episodes  rating  members                     matched_name  \\\n",
       "2844   Special        1    7.15     6604           IS: Infinite Stratos 2   \n",
       "3541        TV       12    6.96    12345                              NaN   \n",
       "6040     Movie        1    6.27      313                       Metropolis   \n",
       "6646       ONA        1    6.02      242              Match Uri no Shoujo   \n",
       "7018     Movie        1    5.79      607  Sakura Taisen: Katsudou Shashin   \n",
       "...        ...      ...     ...      ...                              ...   \n",
       "11070      NaN  Unknown     NaN     1797                              NaN   \n",
       "11086    Movie        1     NaN       51                              NaN   \n",
       "11097       TV  Unknown     NaN      843          Tsukiuta. The Animation   \n",
       "11112  Special        1     NaN     2294                   Shiki Specials   \n",
       "11113    Movie        1     NaN      160                      Log Horizon   \n",
       "\n",
       "                                           matched_genre  \n",
       "2844                Action, Comedy, Harem, Mecha, Sci-Fi  \n",
       "3541                                                 NaN  \n",
       "6040   Adventure, Drama, Police, Romance, Sci-Fi, Sho...  \n",
       "6646                                         Drama, Kids  \n",
       "7018                   Adventure, Mecha, Sci-Fi, Shounen  \n",
       "...                                                  ...  \n",
       "11070                                                NaN  \n",
       "11086                                                NaN  \n",
       "11097                                              Music  \n",
       "11112             Horror, Mystery, Supernatural, Vampire  \n",
       "11113   Action, Adventure, Fantasy, Game, Magic, Shounen  \n",
       "\n",
       "[62 rows x 9 columns]"
      ]
     },
     "execution_count": 457,
     "metadata": {},
     "output_type": "execute_result"
    }
   ],
   "source": [
    "# Fill the null genre with the matched anime's genre\n",
    "df_has_null_genre = anime_has_null_genre.copy()\n",
    "df_has_null_genre['matched_name'] = anime_has_null_genre['matched_name'].apply(lambda x: x[0] if len(x) > 0 else np.NaN)\n",
    "df_has_null_genre['matched_genre'] = df_has_null_genre['matched_name'].apply(lambda x: anime_raw[anime_raw['name']==x]['genre'].values)\n",
    "df_matched_genre = df_has_null_genre.copy()\n",
    "df_matched_genre['matched_genre'] = df_has_null_genre['matched_genre'].apply(lambda x: x[0] if len(x) > 0 else np.NaN)\n",
    "df_matched_genre"
   ]
  },
  {
   "cell_type": "code",
   "execution_count": 458,
   "id": "04f91b73-48fd-4cf2-a6d5-4da0870796c3",
   "metadata": {
    "tags": []
   },
   "outputs": [
    {
     "name": "stdout",
     "output_type": "stream",
     "text": [
      "genre null count before:  62\n",
      "genre null count after:  14\n"
     ]
    },
    {
     "name": "stderr",
     "output_type": "stream",
     "text": [
      "/var/folders/xk/5gx1tq55563djqn2f91dfp040000gn/T/ipykernel_21221/2974107618.py:4: FutureWarning: A value is trying to be set on a copy of a DataFrame or Series through chained assignment using an inplace method.\n",
      "The behavior will change in pandas 3.0. This inplace method will never work because the intermediate object on which we are setting values always behaves as a copy.\n",
      "\n",
      "For example, when doing 'df[col].method(value, inplace=True)', try using 'df.method({col: value}, inplace=True)' or df[col] = df[col].method(value) instead, to perform the operation inplace on the original object.\n",
      "\n",
      "\n",
      "  anime_df['genre'].fillna(df_matched_genre['matched_genre'], inplace=True)\n"
     ]
    }
   ],
   "source": [
    "# Apply the filled data to anime_df\n",
    "print('genre null count before: ', anime_df['genre'].isna().sum())\n",
    "df_matched_genre[['anime_id', 'matched_genre']]\n",
    "anime_df['genre'].fillna(df_matched_genre['matched_genre'], inplace=True)\n",
    "print('genre null count after: ', anime_df['genre'].isna().sum())"
   ]
  },
  {
   "cell_type": "code",
   "execution_count": 459,
   "id": "8a943f26-8a82-452d-9cd9-a706649e8d40",
   "metadata": {
    "tags": []
   },
   "outputs": [
    {
     "data": {
      "text/plain": [
       "anime_id      0\n",
       "name          0\n",
       "genre        14\n",
       "type         25\n",
       "episodes    340\n",
       "rating      230\n",
       "members       0\n",
       "dtype: int64"
      ]
     },
     "execution_count": 459,
     "metadata": {},
     "output_type": "execute_result"
    }
   ],
   "source": [
    "anime_df.isna().sum()"
   ]
  },
  {
   "cell_type": "code",
   "execution_count": 460,
   "id": "59dc28b7-b935-4daa-8c3b-f532aea46b39",
   "metadata": {
    "tags": []
   },
   "outputs": [
    {
     "name": "stdout",
     "output_type": "stream",
     "text": [
      "Missing episodes types: <StringArray>\n",
      "['TV', 'Special', 'ONA', 'Music', 'Movie', 'OVA', <NA>]\n",
      "Length: 7, dtype: string\n"
     ]
    },
    {
     "data": {
      "text/plain": [
       "(          episodes\n",
       " type              \n",
       " Movie     1.102389\n",
       " Music     1.131417\n",
       " ONA       6.877651\n",
       " OVA       2.417663\n",
       " Special   2.561341\n",
       " TV       35.915595,\n",
       "          episodes\n",
       " type             \n",
       " Movie         1.0\n",
       " Music         1.0\n",
       " ONA           2.0\n",
       " OVA           2.0\n",
       " Special       1.0\n",
       " TV           24.0)"
      ]
     },
     "execution_count": 460,
     "metadata": {},
     "output_type": "execute_result"
    }
   ],
   "source": [
    "#Fill episodes for specific types\n",
    "print('Missing episodes types:', anime_df[anime_df['episodes'].isna()]['type'].unique())\n",
    "\n",
    "(anime_df[['type', 'episodes']].groupby('type').mean(), anime_df[['type', 'episodes']].groupby('type').median())"
   ]
  },
  {
   "cell_type": "code",
   "execution_count": 461,
   "id": "d9d52ae4-705e-48cc-8ea1-c869d232a91e",
   "metadata": {
    "tags": []
   },
   "outputs": [
    {
     "data": {
      "text/html": [
       "<div>\n",
       "<style scoped>\n",
       "    .dataframe tbody tr th:only-of-type {\n",
       "        vertical-align: middle;\n",
       "    }\n",
       "\n",
       "    .dataframe tbody tr th {\n",
       "        vertical-align: top;\n",
       "    }\n",
       "\n",
       "    .dataframe thead th {\n",
       "        text-align: right;\n",
       "    }\n",
       "</style>\n",
       "<table border=\"1\" class=\"dataframe\">\n",
       "  <thead>\n",
       "    <tr style=\"text-align: right;\">\n",
       "      <th></th>\n",
       "      <th>episodes</th>\n",
       "    </tr>\n",
       "    <tr>\n",
       "      <th>type</th>\n",
       "      <th></th>\n",
       "    </tr>\n",
       "  </thead>\n",
       "  <tbody>\n",
       "    <tr>\n",
       "      <th>Movie</th>\n",
       "      <td>2.149296</td>\n",
       "    </tr>\n",
       "    <tr>\n",
       "      <th>Music</th>\n",
       "      <td>1.293852</td>\n",
       "    </tr>\n",
       "    <tr>\n",
       "      <th>ONA</th>\n",
       "      <td>11.382952</td>\n",
       "    </tr>\n",
       "    <tr>\n",
       "      <th>OVA</th>\n",
       "      <td>3.208938</td>\n",
       "    </tr>\n",
       "    <tr>\n",
       "      <th>Special</th>\n",
       "      <td>3.700094</td>\n",
       "    </tr>\n",
       "    <tr>\n",
       "      <th>TV</th>\n",
       "      <td>80.640355</td>\n",
       "    </tr>\n",
       "  </tbody>\n",
       "</table>\n",
       "</div>"
      ],
      "text/plain": [
       "          episodes\n",
       "type              \n",
       "Movie     2.149296\n",
       "Music     1.293852\n",
       "ONA      11.382952\n",
       "OVA       3.208938\n",
       "Special   3.700094\n",
       "TV       80.640355"
      ]
     },
     "execution_count": 461,
     "metadata": {},
     "output_type": "execute_result"
    }
   ],
   "source": [
    "anime_df[['type', 'episodes']].groupby('type').std()"
   ]
  },
  {
   "cell_type": "markdown",
   "id": "1f1e2550-c81d-4583-a9b0-406e1ea8e4d9",
   "metadata": {
    "tags": []
   },
   "source": [
    "Looks like  movie, music, ova and special has less than 5 std, and median is the rounded down of mean, so will replace the null episode value with the median value"
   ]
  },
  {
   "cell_type": "code",
   "execution_count": 462,
   "id": "40880aaf-ffec-449f-b1c8-f9a36f7f6d94",
   "metadata": {
    "tags": []
   },
   "outputs": [],
   "source": [
    "anime_df.loc[(anime_df['type'] == 'Movie'), 'episodes'] = anime_df.loc[(anime_df['type'] == 'Movie'), 'episodes'].fillna(value=1.0)\n",
    "anime_df.loc[(anime_df['type'] == 'Music'), 'episodes'] = anime_df.loc[(anime_df['type'] == 'Music'), 'episodes'].fillna(value=1.0)\n",
    "anime_df.loc[(anime_df['type'] == 'OVA'), 'episodes'] = anime_df.loc[(anime_df['type'] == 'OVA'), 'episodes'].fillna(value=2.0)\n",
    "anime_df.loc[(anime_df['type'] == 'Special'), 'episodes'] = anime_df.loc[(anime_df['type'] == 'Special'), 'episodes'].fillna(value=1.0)\n"
   ]
  },
  {
   "cell_type": "code",
   "execution_count": 463,
   "id": "f82b44dd-88fe-4bb2-be50-92b01ca71a30",
   "metadata": {
    "tags": []
   },
   "outputs": [
    {
     "data": {
      "text/plain": [
       "anime_id      0\n",
       "name          0\n",
       "genre        14\n",
       "type         25\n",
       "episodes    280\n",
       "rating      230\n",
       "members       0\n",
       "dtype: int64"
      ]
     },
     "execution_count": 463,
     "metadata": {},
     "output_type": "execute_result"
    }
   ],
   "source": [
    "anime_df.isna().sum()"
   ]
  },
  {
   "cell_type": "code",
   "execution_count": 464,
   "id": "a0853fa9-eeec-4957-9146-972aae098c75",
   "metadata": {
    "tags": []
   },
   "outputs": [
    {
     "data": {
      "text/html": [
       "<div>\n",
       "<style scoped>\n",
       "    .dataframe tbody tr th:only-of-type {\n",
       "        vertical-align: middle;\n",
       "    }\n",
       "\n",
       "    .dataframe tbody tr th {\n",
       "        vertical-align: top;\n",
       "    }\n",
       "\n",
       "    .dataframe thead th {\n",
       "        text-align: right;\n",
       "    }\n",
       "</style>\n",
       "<table border=\"1\" class=\"dataframe\">\n",
       "  <thead>\n",
       "    <tr style=\"text-align: right;\">\n",
       "      <th></th>\n",
       "      <th>anime_id</th>\n",
       "      <th>name</th>\n",
       "      <th>genre</th>\n",
       "      <th>type</th>\n",
       "      <th>episodes</th>\n",
       "      <th>rating</th>\n",
       "      <th>members</th>\n",
       "    </tr>\n",
       "  </thead>\n",
       "  <tbody>\n",
       "    <tr>\n",
       "      <th>10898</th>\n",
       "      <td>30484</td>\n",
       "      <td>Steins;Gate 0</td>\n",
       "      <td>Sci-Fi, Thriller</td>\n",
       "      <td>&lt;NA&gt;</td>\n",
       "      <td>NaN</td>\n",
       "      <td>NaN</td>\n",
       "      <td>60999</td>\n",
       "    </tr>\n",
       "    <tr>\n",
       "      <th>10900</th>\n",
       "      <td>34437</td>\n",
       "      <td>Code Geass: Fukkatsu no Lelouch</td>\n",
       "      <td>Action, Drama, Mecha, Military, Sci-Fi, Super ...</td>\n",
       "      <td>&lt;NA&gt;</td>\n",
       "      <td>NaN</td>\n",
       "      <td>NaN</td>\n",
       "      <td>22748</td>\n",
       "    </tr>\n",
       "    <tr>\n",
       "      <th>10906</th>\n",
       "      <td>33352</td>\n",
       "      <td>Violet Evergarden</td>\n",
       "      <td>Drama, Fantasy</td>\n",
       "      <td>&lt;NA&gt;</td>\n",
       "      <td>NaN</td>\n",
       "      <td>NaN</td>\n",
       "      <td>20564</td>\n",
       "    </tr>\n",
       "    <tr>\n",
       "      <th>10907</th>\n",
       "      <td>33248</td>\n",
       "      <td>K: Seven Stories</td>\n",
       "      <td>Action, Drama, Super Power, Supernatural</td>\n",
       "      <td>&lt;NA&gt;</td>\n",
       "      <td>NaN</td>\n",
       "      <td>NaN</td>\n",
       "      <td>22133</td>\n",
       "    </tr>\n",
       "    <tr>\n",
       "      <th>10918</th>\n",
       "      <td>33845</td>\n",
       "      <td>Free! (Shinsaku)</td>\n",
       "      <td>School, Sports</td>\n",
       "      <td>&lt;NA&gt;</td>\n",
       "      <td>NaN</td>\n",
       "      <td>NaN</td>\n",
       "      <td>8666</td>\n",
       "    </tr>\n",
       "    <tr>\n",
       "      <th>10949</th>\n",
       "      <td>33475</td>\n",
       "      <td>Busou Shoujo Machiavellianism</td>\n",
       "      <td>Action, School, Shounen</td>\n",
       "      <td>&lt;NA&gt;</td>\n",
       "      <td>NaN</td>\n",
       "      <td>NaN</td>\n",
       "      <td>1896</td>\n",
       "    </tr>\n",
       "    <tr>\n",
       "      <th>10963</th>\n",
       "      <td>31456</td>\n",
       "      <td>Code:Realize: Sousei no Himegimi</td>\n",
       "      <td>Adventure, Fantasy, Romance, Shoujo</td>\n",
       "      <td>&lt;NA&gt;</td>\n",
       "      <td>NaN</td>\n",
       "      <td>NaN</td>\n",
       "      <td>4017</td>\n",
       "    </tr>\n",
       "    <tr>\n",
       "      <th>10983</th>\n",
       "      <td>34332</td>\n",
       "      <td>Flying Babies</td>\n",
       "      <td>Comedy, Magic, Shounen, Slice of Life, Superna...</td>\n",
       "      <td>&lt;NA&gt;</td>\n",
       "      <td>NaN</td>\n",
       "      <td>NaN</td>\n",
       "      <td>22</td>\n",
       "    </tr>\n",
       "    <tr>\n",
       "      <th>10988</th>\n",
       "      <td>34280</td>\n",
       "      <td>Gamers!</td>\n",
       "      <td>Comedy, Romance, School</td>\n",
       "      <td>&lt;NA&gt;</td>\n",
       "      <td>NaN</td>\n",
       "      <td>NaN</td>\n",
       "      <td>1045</td>\n",
       "    </tr>\n",
       "    <tr>\n",
       "      <th>10990</th>\n",
       "      <td>34485</td>\n",
       "      <td>Ganko-chan</td>\n",
       "      <td>Comedy</td>\n",
       "      <td>&lt;NA&gt;</td>\n",
       "      <td>NaN</td>\n",
       "      <td>NaN</td>\n",
       "      <td>11</td>\n",
       "    </tr>\n",
       "    <tr>\n",
       "      <th>10991</th>\n",
       "      <td>32455</td>\n",
       "      <td>Gekidol</td>\n",
       "      <td>Music</td>\n",
       "      <td>&lt;NA&gt;</td>\n",
       "      <td>NaN</td>\n",
       "      <td>NaN</td>\n",
       "      <td>586</td>\n",
       "    </tr>\n",
       "    <tr>\n",
       "      <th>10994</th>\n",
       "      <td>31433</td>\n",
       "      <td>Ginga Eiyuu Densetsu (2017)</td>\n",
       "      <td>Action, Drama, Military, Sci-Fi, Space</td>\n",
       "      <td>&lt;NA&gt;</td>\n",
       "      <td>NaN</td>\n",
       "      <td>NaN</td>\n",
       "      <td>3969</td>\n",
       "    </tr>\n",
       "    <tr>\n",
       "      <th>10995</th>\n",
       "      <td>28613</td>\n",
       "      <td>Ginga Jinpuu Jinraiger</td>\n",
       "      <td>Action, Adventure, Mecha</td>\n",
       "      <td>&lt;NA&gt;</td>\n",
       "      <td>NaN</td>\n",
       "      <td>NaN</td>\n",
       "      <td>627</td>\n",
       "    </tr>\n",
       "    <tr>\n",
       "      <th>10998</th>\n",
       "      <td>34279</td>\n",
       "      <td>Grancrest Senki</td>\n",
       "      <td>Action, Fantasy</td>\n",
       "      <td>&lt;NA&gt;</td>\n",
       "      <td>NaN</td>\n",
       "      <td>NaN</td>\n",
       "      <td>360</td>\n",
       "    </tr>\n",
       "    <tr>\n",
       "      <th>11010</th>\n",
       "      <td>33899</td>\n",
       "      <td>IDOLiSH7</td>\n",
       "      <td>Music, Shoujo</td>\n",
       "      <td>&lt;NA&gt;</td>\n",
       "      <td>NaN</td>\n",
       "      <td>NaN</td>\n",
       "      <td>1048</td>\n",
       "    </tr>\n",
       "    <tr>\n",
       "      <th>11013</th>\n",
       "      <td>34012</td>\n",
       "      <td>Isekai Shokudou</td>\n",
       "      <td>Comedy, Fantasy, Mystery</td>\n",
       "      <td>&lt;NA&gt;</td>\n",
       "      <td>NaN</td>\n",
       "      <td>NaN</td>\n",
       "      <td>749</td>\n",
       "    </tr>\n",
       "    <tr>\n",
       "      <th>11041</th>\n",
       "      <td>30448</td>\n",
       "      <td>Mirai Arise</td>\n",
       "      <td>Sci-Fi</td>\n",
       "      <td>&lt;NA&gt;</td>\n",
       "      <td>NaN</td>\n",
       "      <td>NaN</td>\n",
       "      <td>4044</td>\n",
       "    </tr>\n",
       "    <tr>\n",
       "      <th>11053</th>\n",
       "      <td>34262</td>\n",
       "      <td>Oushitsu Kyoushi Haine</td>\n",
       "      <td>Comedy, Historical, Shounen</td>\n",
       "      <td>&lt;NA&gt;</td>\n",
       "      <td>NaN</td>\n",
       "      <td>NaN</td>\n",
       "      <td>321</td>\n",
       "    </tr>\n",
       "    <tr>\n",
       "      <th>11055</th>\n",
       "      <td>33185</td>\n",
       "      <td>Peace Maker Kurogane (Shinsaku)</td>\n",
       "      <td>Action, Comedy, Historical, Samurai, Shounen</td>\n",
       "      <td>&lt;NA&gt;</td>\n",
       "      <td>NaN</td>\n",
       "      <td>NaN</td>\n",
       "      <td>939</td>\n",
       "    </tr>\n",
       "    <tr>\n",
       "      <th>11058</th>\n",
       "      <td>24023</td>\n",
       "      <td>Project758</td>\n",
       "      <td>Drama</td>\n",
       "      <td>&lt;NA&gt;</td>\n",
       "      <td>NaN</td>\n",
       "      <td>NaN</td>\n",
       "      <td>455</td>\n",
       "    </tr>\n",
       "    <tr>\n",
       "      <th>11062</th>\n",
       "      <td>34348</td>\n",
       "      <td>Rescue Academia</td>\n",
       "      <td>Drama</td>\n",
       "      <td>&lt;NA&gt;</td>\n",
       "      <td>NaN</td>\n",
       "      <td>NaN</td>\n",
       "      <td>65</td>\n",
       "    </tr>\n",
       "    <tr>\n",
       "      <th>11070</th>\n",
       "      <td>32032</td>\n",
       "      <td>Seikaisuru Kado</td>\n",
       "      <td>&lt;NA&gt;</td>\n",
       "      <td>&lt;NA&gt;</td>\n",
       "      <td>NaN</td>\n",
       "      <td>NaN</td>\n",
       "      <td>1797</td>\n",
       "    </tr>\n",
       "    <tr>\n",
       "      <th>11101</th>\n",
       "      <td>33478</td>\n",
       "      <td>UQ Holder!</td>\n",
       "      <td>Action, Fantasy, Magic, Sci-Fi, Shounen</td>\n",
       "      <td>&lt;NA&gt;</td>\n",
       "      <td>NaN</td>\n",
       "      <td>NaN</td>\n",
       "      <td>2341</td>\n",
       "    </tr>\n",
       "    <tr>\n",
       "      <th>12252</th>\n",
       "      <td>34382</td>\n",
       "      <td>Citrus</td>\n",
       "      <td>Drama, Romance, School, Yuri</td>\n",
       "      <td>&lt;NA&gt;</td>\n",
       "      <td>NaN</td>\n",
       "      <td>NaN</td>\n",
       "      <td>2459</td>\n",
       "    </tr>\n",
       "    <tr>\n",
       "      <th>12259</th>\n",
       "      <td>33654</td>\n",
       "      <td>Hitorijime My Hero</td>\n",
       "      <td>Yaoi</td>\n",
       "      <td>&lt;NA&gt;</td>\n",
       "      <td>NaN</td>\n",
       "      <td>NaN</td>\n",
       "      <td>1574</td>\n",
       "    </tr>\n",
       "  </tbody>\n",
       "</table>\n",
       "</div>"
      ],
      "text/plain": [
       "       anime_id                              name  \\\n",
       "10898     30484                     Steins;Gate 0   \n",
       "10900     34437   Code Geass: Fukkatsu no Lelouch   \n",
       "10906     33352                 Violet Evergarden   \n",
       "10907     33248                  K: Seven Stories   \n",
       "10918     33845                  Free! (Shinsaku)   \n",
       "10949     33475     Busou Shoujo Machiavellianism   \n",
       "10963     31456  Code:Realize: Sousei no Himegimi   \n",
       "10983     34332                     Flying Babies   \n",
       "10988     34280                           Gamers!   \n",
       "10990     34485                        Ganko-chan   \n",
       "10991     32455                           Gekidol   \n",
       "10994     31433       Ginga Eiyuu Densetsu (2017)   \n",
       "10995     28613            Ginga Jinpuu Jinraiger   \n",
       "10998     34279                   Grancrest Senki   \n",
       "11010     33899                          IDOLiSH7   \n",
       "11013     34012                   Isekai Shokudou   \n",
       "11041     30448                       Mirai Arise   \n",
       "11053     34262            Oushitsu Kyoushi Haine   \n",
       "11055     33185   Peace Maker Kurogane (Shinsaku)   \n",
       "11058     24023                        Project758   \n",
       "11062     34348                   Rescue Academia   \n",
       "11070     32032                   Seikaisuru Kado   \n",
       "11101     33478                        UQ Holder!   \n",
       "12252     34382                            Citrus   \n",
       "12259     33654                Hitorijime My Hero   \n",
       "\n",
       "                                                   genre  type  episodes  \\\n",
       "10898                                   Sci-Fi, Thriller  <NA>       NaN   \n",
       "10900  Action, Drama, Mecha, Military, Sci-Fi, Super ...  <NA>       NaN   \n",
       "10906                                     Drama, Fantasy  <NA>       NaN   \n",
       "10907           Action, Drama, Super Power, Supernatural  <NA>       NaN   \n",
       "10918                                     School, Sports  <NA>       NaN   \n",
       "10949                            Action, School, Shounen  <NA>       NaN   \n",
       "10963                Adventure, Fantasy, Romance, Shoujo  <NA>       NaN   \n",
       "10983  Comedy, Magic, Shounen, Slice of Life, Superna...  <NA>       NaN   \n",
       "10988                            Comedy, Romance, School  <NA>       NaN   \n",
       "10990                                             Comedy  <NA>       NaN   \n",
       "10991                                              Music  <NA>       NaN   \n",
       "10994             Action, Drama, Military, Sci-Fi, Space  <NA>       NaN   \n",
       "10995                           Action, Adventure, Mecha  <NA>       NaN   \n",
       "10998                                    Action, Fantasy  <NA>       NaN   \n",
       "11010                                      Music, Shoujo  <NA>       NaN   \n",
       "11013                           Comedy, Fantasy, Mystery  <NA>       NaN   \n",
       "11041                                             Sci-Fi  <NA>       NaN   \n",
       "11053                        Comedy, Historical, Shounen  <NA>       NaN   \n",
       "11055       Action, Comedy, Historical, Samurai, Shounen  <NA>       NaN   \n",
       "11058                                              Drama  <NA>       NaN   \n",
       "11062                                              Drama  <NA>       NaN   \n",
       "11070                                               <NA>  <NA>       NaN   \n",
       "11101            Action, Fantasy, Magic, Sci-Fi, Shounen  <NA>       NaN   \n",
       "12252                       Drama, Romance, School, Yuri  <NA>       NaN   \n",
       "12259                                               Yaoi  <NA>       NaN   \n",
       "\n",
       "       rating  members  \n",
       "10898     NaN    60999  \n",
       "10900     NaN    22748  \n",
       "10906     NaN    20564  \n",
       "10907     NaN    22133  \n",
       "10918     NaN     8666  \n",
       "10949     NaN     1896  \n",
       "10963     NaN     4017  \n",
       "10983     NaN       22  \n",
       "10988     NaN     1045  \n",
       "10990     NaN       11  \n",
       "10991     NaN      586  \n",
       "10994     NaN     3969  \n",
       "10995     NaN      627  \n",
       "10998     NaN      360  \n",
       "11010     NaN     1048  \n",
       "11013     NaN      749  \n",
       "11041     NaN     4044  \n",
       "11053     NaN      321  \n",
       "11055     NaN      939  \n",
       "11058     NaN      455  \n",
       "11062     NaN       65  \n",
       "11070     NaN     1797  \n",
       "11101     NaN     2341  \n",
       "12252     NaN     2459  \n",
       "12259     NaN     1574  "
      ]
     },
     "execution_count": 464,
     "metadata": {},
     "output_type": "execute_result"
    }
   ],
   "source": [
    "anime_df[anime_df['type'].isna()]"
   ]
  },
  {
   "cell_type": "markdown",
   "id": "6186a49a-ecbd-4d0c-a937-2fcd75c96ab8",
   "metadata": {},
   "source": [
    "Seems like when type is null, episodes and ratings are null as well. And we have 230 records that's missing the rating. One idea is that we can fill the rating value by fuzzing matching with same anime but different episode or type, like what we did for genre. However, while it's more likely the genre would stay the same if same anime, the rating could vary depend on the season, episode or type. Thus, we will not fill the rating values.\n",
    "\n",
    "With out the rating data, it would be useless for Content Based Filtering, but could be useful for Collaborative Filtering. Thus, we will create 2 dataset. One without any null metadata values; another without any null rating values.\n",
    "\n",
    "Before we split the dataset, let's check a few other things"
   ]
  },
  {
   "cell_type": "code",
   "execution_count": 465,
   "id": "0fbb6116-8530-4334-b5cd-37f7105a6e66",
   "metadata": {
    "tags": []
   },
   "outputs": [
    {
     "data": {
      "text/plain": [
       "False"
      ]
     },
     "execution_count": 465,
     "metadata": {},
     "output_type": "execute_result"
    }
   ],
   "source": [
    "# Check duplicates\n",
    "anime_df[['name', 'type']].duplicated().any()"
   ]
  },
  {
   "cell_type": "code",
   "execution_count": 466,
   "id": "2dc735dc-d87c-42d1-9ebe-e96f36be4b57",
   "metadata": {
    "tags": []
   },
   "outputs": [
    {
     "data": {
      "image/png": "[encoded data removed]",
      "text/plain": [
       "<Figure size 640x480 with 2 Axes>"
      ]
     },
     "metadata": {},
     "output_type": "display_data"
    }
   ],
   "source": [
    "# Check feature outliers\n",
    "fig, (ax1, ax2) = plt.subplots(1, 2)\n",
    "anime_df['type'].hist(ax = ax1)\n",
    "anime_df['rating'].hist(ax = ax2, bins=10)\n",
    "plt.show()"
   ]
  },
  {
   "cell_type": "code",
   "execution_count": 467,
   "id": "9dc6890c-f2a9-4b39-9ffd-410d68069fd7",
   "metadata": {
    "tags": []
   },
   "outputs": [
    {
     "data": {
      "text/html": [
       "<div>\n",
       "<style scoped>\n",
       "    .dataframe tbody tr th:only-of-type {\n",
       "        vertical-align: middle;\n",
       "    }\n",
       "\n",
       "    .dataframe tbody tr th {\n",
       "        vertical-align: top;\n",
       "    }\n",
       "\n",
       "    .dataframe thead th {\n",
       "        text-align: right;\n",
       "    }\n",
       "</style>\n",
       "<table border=\"1\" class=\"dataframe\">\n",
       "  <thead>\n",
       "    <tr style=\"text-align: right;\">\n",
       "      <th></th>\n",
       "      <th>rating</th>\n",
       "      <th>members</th>\n",
       "    </tr>\n",
       "  </thead>\n",
       "  <tbody>\n",
       "    <tr>\n",
       "      <th>count</th>\n",
       "      <td>12064.000000</td>\n",
       "      <td>1.229400e+04</td>\n",
       "    </tr>\n",
       "    <tr>\n",
       "      <th>mean</th>\n",
       "      <td>6.473902</td>\n",
       "      <td>1.807134e+04</td>\n",
       "    </tr>\n",
       "    <tr>\n",
       "      <th>std</th>\n",
       "      <td>1.026746</td>\n",
       "      <td>5.482068e+04</td>\n",
       "    </tr>\n",
       "    <tr>\n",
       "      <th>min</th>\n",
       "      <td>1.670000</td>\n",
       "      <td>5.000000e+00</td>\n",
       "    </tr>\n",
       "    <tr>\n",
       "      <th>25%</th>\n",
       "      <td>5.880000</td>\n",
       "      <td>2.250000e+02</td>\n",
       "    </tr>\n",
       "    <tr>\n",
       "      <th>50%</th>\n",
       "      <td>6.570000</td>\n",
       "      <td>1.550000e+03</td>\n",
       "    </tr>\n",
       "    <tr>\n",
       "      <th>75%</th>\n",
       "      <td>7.180000</td>\n",
       "      <td>9.437000e+03</td>\n",
       "    </tr>\n",
       "    <tr>\n",
       "      <th>max</th>\n",
       "      <td>10.000000</td>\n",
       "      <td>1.013917e+06</td>\n",
       "    </tr>\n",
       "  </tbody>\n",
       "</table>\n",
       "</div>"
      ],
      "text/plain": [
       "             rating       members\n",
       "count  12064.000000  1.229400e+04\n",
       "mean       6.473902  1.807134e+04\n",
       "std        1.026746  5.482068e+04\n",
       "min        1.670000  5.000000e+00\n",
       "25%        5.880000  2.250000e+02\n",
       "50%        6.570000  1.550000e+03\n",
       "75%        7.180000  9.437000e+03\n",
       "max       10.000000  1.013917e+06"
      ]
     },
     "execution_count": 467,
     "metadata": {},
     "output_type": "execute_result"
    }
   ],
   "source": [
    "anime_df[['rating', 'members']].describe()"
   ]
  },
  {
   "cell_type": "markdown",
   "id": "f6c47ca6-88f3-43bf-9022-c506d0c9a4fc",
   "metadata": {},
   "source": [
    "Ok. We checked for fillable missing data, potential duplicates, feature value outliers, and the datatype. Now let's split the dataset into two. One without any null metadata values; another without any null rating values."
   ]
  },
  {
   "cell_type": "code",
   "execution_count": 468,
   "id": "e11d99f5-94d5-4593-a974-eed55164110f",
   "metadata": {
    "tags": []
   },
   "outputs": [
    {
     "data": {
      "text/plain": [
       "anime_id      0\n",
       "name          0\n",
       "genre         9\n",
       "type          0\n",
       "episodes    143\n",
       "rating        0\n",
       "members       0\n",
       "dtype: int64"
      ]
     },
     "execution_count": 468,
     "metadata": {},
     "output_type": "execute_result"
    }
   ],
   "source": [
    "anime_df_no_null_rating = anime_df[~anime_df['rating'].isna()]\n",
    "anime_df_no_null_rating.isna().sum()"
   ]
  },
  {
   "cell_type": "code",
   "execution_count": 469,
   "id": "c211dbdd-6afa-4bf5-ad4b-94d7b95bb41b",
   "metadata": {
    "tags": []
   },
   "outputs": [
    {
     "data": {
      "text/plain": [
       "anime_id      0\n",
       "name          0\n",
       "genre         0\n",
       "type          0\n",
       "episodes    252\n",
       "rating      201\n",
       "members       0\n",
       "dtype: int64"
      ]
     },
     "execution_count": 469,
     "metadata": {},
     "output_type": "execute_result"
    }
   ],
   "source": [
    "anime_df_no_null_metadata = anime_df[(~anime_df['genre'].isna()) & (~anime_df['type'].isna())]\n",
    "anime_df_no_null_metadata.isna().sum()"
   ]
  },
  {
   "cell_type": "code",
   "execution_count": 490,
   "id": "9b4af48a-0933-4966-b146-16834480da0a",
   "metadata": {
    "tags": []
   },
   "outputs": [
    {
     "name": "stdout",
     "output_type": "stream",
     "text": [
      "<class 'pandas.core.frame.DataFrame'>\n",
      "RangeIndex: 7813737 entries, 0 to 7813736\n",
      "Data columns (total 3 columns):\n",
      " #   Column    Dtype\n",
      "---  ------    -----\n",
      " 0   user_id   int64\n",
      " 1   anime_id  int64\n",
      " 2   rating    int64\n",
      "dtypes: int64(3)\n",
      "memory usage: 178.8 MB\n"
     ]
    }
   ],
   "source": [
    "#Cleaning for rating\n",
    "rating_raw.info()"
   ]
  },
  {
   "cell_type": "code",
   "execution_count": 491,
   "id": "feef644b-74d0-41ba-96cd-d429280681f9",
   "metadata": {
    "tags": []
   },
   "outputs": [
    {
     "data": {
      "text/plain": [
       "user_id     0\n",
       "anime_id    0\n",
       "rating      0\n",
       "dtype: int64"
      ]
     },
     "execution_count": 491,
     "metadata": {},
     "output_type": "execute_result"
    }
   ],
   "source": [
    "rating_raw.isna().sum()"
   ]
  },
  {
   "cell_type": "code",
   "execution_count": 492,
   "id": "7f5ea4c8-251a-4ac5-818e-f46a5d9d39c0",
   "metadata": {
    "tags": []
   },
   "outputs": [
    {
     "data": {
      "text/html": [
       "<div>\n",
       "<style scoped>\n",
       "    .dataframe tbody tr th:only-of-type {\n",
       "        vertical-align: middle;\n",
       "    }\n",
       "\n",
       "    .dataframe tbody tr th {\n",
       "        vertical-align: top;\n",
       "    }\n",
       "\n",
       "    .dataframe thead th {\n",
       "        text-align: right;\n",
       "    }\n",
       "</style>\n",
       "<table border=\"1\" class=\"dataframe\">\n",
       "  <thead>\n",
       "    <tr style=\"text-align: right;\">\n",
       "      <th></th>\n",
       "      <th>user_id</th>\n",
       "      <th>anime_id</th>\n",
       "      <th>rating</th>\n",
       "    </tr>\n",
       "  </thead>\n",
       "  <tbody>\n",
       "    <tr>\n",
       "      <th>4499258</th>\n",
       "      <td>42653</td>\n",
       "      <td>16498</td>\n",
       "      <td>8</td>\n",
       "    </tr>\n",
       "    <tr>\n",
       "      <th>4499316</th>\n",
       "      <td>42653</td>\n",
       "      <td>16498</td>\n",
       "      <td>8</td>\n",
       "    </tr>\n",
       "  </tbody>\n",
       "</table>\n",
       "</div>"
      ],
      "text/plain": [
       "         user_id  anime_id  rating\n",
       "4499258    42653     16498       8\n",
       "4499316    42653     16498       8"
      ]
     },
     "execution_count": 492,
     "metadata": {},
     "output_type": "execute_result"
    }
   ],
   "source": [
    "rating_raw[rating_raw.duplicated(keep=False)]"
   ]
  },
  {
   "cell_type": "code",
   "execution_count": 494,
   "id": "7c6376ec-043f-4454-92f0-d4ee19aec799",
   "metadata": {
    "tags": []
   },
   "outputs": [
    {
     "name": "stdout",
     "output_type": "stream",
     "text": [
      "2\n",
      "0\n"
     ]
    }
   ],
   "source": [
    "print(rating_raw.duplicated(keep=False).sum())\n",
    "rating_df = rating_raw.drop_duplicates()\n",
    "print(rating_df.duplicated(keep=False).sum())"
   ]
  },
  {
   "cell_type": "code",
   "execution_count": null,
   "id": "a7f2f639-9a11-4a9d-a747-93a5bfddccd2",
   "metadata": {},
   "outputs": [],
   "source": []
  },
  {
   "cell_type": "markdown",
   "id": "8fd4e550-bac6-4adc-b928-0114687c15e4",
   "metadata": {},
   "source": [
    "## Data Definition<a id='data_definition'></a>"
   ]
  },
  {
   "cell_type": "code",
   "execution_count": null,
   "id": "3959a8a6-20fb-4c4f-bba7-12512297cd6d",
   "metadata": {
    "tags": []
   },
   "outputs": [],
   "source": [
    "# save data\n",
    "anime_df_no_null_rating.to_csv('data/anime_df_no_null_rating.csv', sep=',')\n",
    "anime_df_no_null_metadata.to_csv('data/anime_df_no_null_metadata.csv', sep=',')\n",
    "rating_df.to_csv('data/rating_df.csv', sep=',')\n"
   ]
  },
  {
   "cell_type": "code",
   "execution_count": null,
   "id": "edf8e892-6947-4093-a62f-26b8dc625fd1",
   "metadata": {},
   "outputs": [],
   "source": []
  }
 ],
 "metadata": {
  "kernelspec": {
   "display_name": "Python 3 (ipykernel)",
   "language": "python",
   "name": "python3"
  },
  "language_info": {
   "codemirror_mode": {
    "name": "ipython",
    "version": 3
   },
   "file_extension": ".py",
   "mimetype": "text/x-python",
   "name": "python",
   "nbconvert_exporter": "python",
   "pygments_lexer": "ipython3",
   "version": "3.11.2"
  }
 },
 "nbformat": 4,
 "nbformat_minor": 5
}
