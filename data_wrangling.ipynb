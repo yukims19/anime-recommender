{
 "cells": [
  {
   "cell_type": "markdown",
   "id": "11548bdd-daab-4b3f-a9b4-b2c12d508335",
   "metadata": {},
   "source": [
    "# Data wrangling"
   ]
  },
  {
   "cell_type": "markdown",
   "id": "86e13632-82ca-4bff-9602-b3fa4e9b4989",
   "metadata": {},
   "source": [
    "### Summary\n",
    "\n",
    "To ensure the dataset was clean and suitable for analysis, several preprocessing steps were taken:\n",
    "\n",
    "#### anime_df\n",
    "- Data type conversion: Converted features to their appropriate data types, such as converting object types to strings for names and categorical data for types.\n",
    "- Handling missing values:\n",
    "  - Ratings: Dropped rows without ratings, as they are the target variable and are essential for the analysis.\n",
    "  - Genre: Filled missing genre values by referencing information from similar entries within the same series, identified through name similarities.\n",
    "  - Number of episodes: For all types except TV and ONA, null episode values were replaced with the mean episode count, as these types typically have episode numbers within 4 standard deviations.\n",
    "  - Remaining missing values: Dropped records with remaining missing values, which accounted for about 1% of the total dataset, to maintain data quality.\n",
    "- Check for duplicates: Verified that there were no duplicate records in the dataset for unique name and type pairs.\n",
    "- Check for outliers: The distributions of member count and episode count were left-skewed with a few large values. Spot checks confirmed the accuracy of these counts, as they correspond to popular and well-known anime titles.\n",
    "- Genre splitting: Since the genre column contains arrays of values, each unique genre was split into its own column with boolean values indicating the presence or absence of that genre for each anime.\n",
    "\n",
    "\n",
    "#### rating_df\n",
    "\n",
    "- Check for missing values: Confirmed that there are no missing values in the dataset.\n",
    "- Remove duplicates: Removed duplicate records based on the user_id and anime_id pair to ensure unique user-anime interactions.\n",
    "- Check rating distributions: Observed that most ratings are 6 or above. Some records had a rating of -1, indicating that the user watched the anime but did not provide a rating. \n"
   ]
  },
  {
   "cell_type": "code",
   "execution_count": 517,
   "id": "dcaa4b22-a2b3-4453-8754-bcd05270ca71",
   "metadata": {
    "tags": []
   },
   "outputs": [],
   "source": [
    "import pandas as pd\n",
    "import numpy as np\n",
    "import matplotlib.pyplot as plt\n",
    "import seaborn as sns\n",
    "import os\n",
    "import difflib"
   ]
  },
  {
   "cell_type": "markdown",
   "id": "42cb0b00-0538-48df-bced-b8bc13f87a5e",
   "metadata": {
    "tags": []
   },
   "source": [
    "## Data Collection<a id='data_collection'></a>"
   ]
  },
  {
   "cell_type": "code",
   "execution_count": 518,
   "id": "0cd55f56-4271-4470-8181-29e93146d3a0",
   "metadata": {
    "tags": []
   },
   "outputs": [
    {
     "data": {
      "text/html": [
       "<div>\n",
       "<style scoped>\n",
       "    .dataframe tbody tr th:only-of-type {\n",
       "        vertical-align: middle;\n",
       "    }\n",
       "\n",
       "    .dataframe tbody tr th {\n",
       "        vertical-align: top;\n",
       "    }\n",
       "\n",
       "    .dataframe thead th {\n",
       "        text-align: right;\n",
       "    }\n",
       "</style>\n",
       "<table border=\"1\" class=\"dataframe\">\n",
       "  <thead>\n",
       "    <tr style=\"text-align: right;\">\n",
       "      <th></th>\n",
       "      <th>anime_id</th>\n",
       "      <th>name</th>\n",
       "      <th>genre</th>\n",
       "      <th>type</th>\n",
       "      <th>episodes</th>\n",
       "      <th>rating</th>\n",
       "      <th>members</th>\n",
       "    </tr>\n",
       "  </thead>\n",
       "  <tbody>\n",
       "    <tr>\n",
       "      <th>0</th>\n",
       "      <td>32281</td>\n",
       "      <td>Kimi no Na wa.</td>\n",
       "      <td>Drama, Romance, School, Supernatural</td>\n",
       "      <td>Movie</td>\n",
       "      <td>1</td>\n",
       "      <td>9.37</td>\n",
       "      <td>200630</td>\n",
       "    </tr>\n",
       "    <tr>\n",
       "      <th>1</th>\n",
       "      <td>5114</td>\n",
       "      <td>Fullmetal Alchemist: Brotherhood</td>\n",
       "      <td>Action, Adventure, Drama, Fantasy, Magic, Mili...</td>\n",
       "      <td>TV</td>\n",
       "      <td>64</td>\n",
       "      <td>9.26</td>\n",
       "      <td>793665</td>\n",
       "    </tr>\n",
       "    <tr>\n",
       "      <th>2</th>\n",
       "      <td>28977</td>\n",
       "      <td>Gintama°</td>\n",
       "      <td>Action, Comedy, Historical, Parody, Samurai, S...</td>\n",
       "      <td>TV</td>\n",
       "      <td>51</td>\n",
       "      <td>9.25</td>\n",
       "      <td>114262</td>\n",
       "    </tr>\n",
       "    <tr>\n",
       "      <th>3</th>\n",
       "      <td>9253</td>\n",
       "      <td>Steins;Gate</td>\n",
       "      <td>Sci-Fi, Thriller</td>\n",
       "      <td>TV</td>\n",
       "      <td>24</td>\n",
       "      <td>9.17</td>\n",
       "      <td>673572</td>\n",
       "    </tr>\n",
       "    <tr>\n",
       "      <th>4</th>\n",
       "      <td>9969</td>\n",
       "      <td>Gintama&amp;#039;</td>\n",
       "      <td>Action, Comedy, Historical, Parody, Samurai, S...</td>\n",
       "      <td>TV</td>\n",
       "      <td>51</td>\n",
       "      <td>9.16</td>\n",
       "      <td>151266</td>\n",
       "    </tr>\n",
       "  </tbody>\n",
       "</table>\n",
       "</div>"
      ],
      "text/plain": [
       "   anime_id                              name  \\\n",
       "0     32281                    Kimi no Na wa.   \n",
       "1      5114  Fullmetal Alchemist: Brotherhood   \n",
       "2     28977                          Gintama°   \n",
       "3      9253                       Steins;Gate   \n",
       "4      9969                     Gintama&#039;   \n",
       "\n",
       "                                               genre   type episodes  rating  \\\n",
       "0               Drama, Romance, School, Supernatural  Movie        1    9.37   \n",
       "1  Action, Adventure, Drama, Fantasy, Magic, Mili...     TV       64    9.26   \n",
       "2  Action, Comedy, Historical, Parody, Samurai, S...     TV       51    9.25   \n",
       "3                                   Sci-Fi, Thriller     TV       24    9.17   \n",
       "4  Action, Comedy, Historical, Parody, Samurai, S...     TV       51    9.16   \n",
       "\n",
       "   members  \n",
       "0   200630  \n",
       "1   793665  \n",
       "2   114262  \n",
       "3   673572  \n",
       "4   151266  "
      ]
     },
     "execution_count": 518,
     "metadata": {},
     "output_type": "execute_result"
    }
   ],
   "source": [
    "anime_df = pd.read_csv('data/anime.csv')\n",
    "anime_df.head()"
   ]
  },
  {
   "cell_type": "markdown",
   "id": "08365416-7fed-41f7-a7b6-4a82177895b1",
   "metadata": {},
   "source": [
    "- anime_id - myanimelist.net's unique id identifying an anime.\n",
    "- name - full name of anime.\n",
    "- genre - comma separated list of genres for this anime.\n",
    "- type - movie, TV, OVA, etc.\n",
    "- episodes - how many episodes in this show. (1 if movie).\n",
    "- rating - average rating out of 10 for this anime.\n",
    "- members - number of community members that are in this anime's \"group\"."
   ]
  },
  {
   "cell_type": "code",
   "execution_count": 519,
   "id": "549f9598-ec8e-417e-8de2-45c81a67e257",
   "metadata": {
    "tags": []
   },
   "outputs": [
    {
     "data": {
      "text/html": [
       "<div>\n",
       "<style scoped>\n",
       "    .dataframe tbody tr th:only-of-type {\n",
       "        vertical-align: middle;\n",
       "    }\n",
       "\n",
       "    .dataframe tbody tr th {\n",
       "        vertical-align: top;\n",
       "    }\n",
       "\n",
       "    .dataframe thead th {\n",
       "        text-align: right;\n",
       "    }\n",
       "</style>\n",
       "<table border=\"1\" class=\"dataframe\">\n",
       "  <thead>\n",
       "    <tr style=\"text-align: right;\">\n",
       "      <th></th>\n",
       "      <th>user_id</th>\n",
       "      <th>anime_id</th>\n",
       "      <th>rating</th>\n",
       "    </tr>\n",
       "  </thead>\n",
       "  <tbody>\n",
       "    <tr>\n",
       "      <th>0</th>\n",
       "      <td>1</td>\n",
       "      <td>20</td>\n",
       "      <td>-1</td>\n",
       "    </tr>\n",
       "    <tr>\n",
       "      <th>1</th>\n",
       "      <td>1</td>\n",
       "      <td>24</td>\n",
       "      <td>-1</td>\n",
       "    </tr>\n",
       "    <tr>\n",
       "      <th>2</th>\n",
       "      <td>1</td>\n",
       "      <td>79</td>\n",
       "      <td>-1</td>\n",
       "    </tr>\n",
       "    <tr>\n",
       "      <th>3</th>\n",
       "      <td>1</td>\n",
       "      <td>226</td>\n",
       "      <td>-1</td>\n",
       "    </tr>\n",
       "    <tr>\n",
       "      <th>4</th>\n",
       "      <td>1</td>\n",
       "      <td>241</td>\n",
       "      <td>-1</td>\n",
       "    </tr>\n",
       "  </tbody>\n",
       "</table>\n",
       "</div>"
      ],
      "text/plain": [
       "   user_id  anime_id  rating\n",
       "0        1        20      -1\n",
       "1        1        24      -1\n",
       "2        1        79      -1\n",
       "3        1       226      -1\n",
       "4        1       241      -1"
      ]
     },
     "execution_count": 519,
     "metadata": {},
     "output_type": "execute_result"
    }
   ],
   "source": [
    "rating_df = pd.read_csv('data/rating.csv')\n",
    "rating_df.head()"
   ]
  },
  {
   "cell_type": "markdown",
   "id": "de8b4ec1-b056-445a-846f-f032eaa6c656",
   "metadata": {},
   "source": [
    "- user_id - non identifiable randomly generated user id.\n",
    "- anime_id - the anime that this user has rated.\n",
    "- rating - rating out of 10 this user has assigned (-1 if the user watched it but didn't assign a rating)."
   ]
  },
  {
   "cell_type": "markdown",
   "id": "f21f594b-f7fd-4383-b685-ad6cbf513e9f",
   "metadata": {
    "tags": []
   },
   "source": [
    "## Data Cleaning<a id='data_cleaning'></a>"
   ]
  },
  {
   "cell_type": "code",
   "execution_count": 520,
   "id": "c8f75622-fff3-434d-9e18-6da2d426a634",
   "metadata": {
    "tags": []
   },
   "outputs": [
    {
     "name": "stdout",
     "output_type": "stream",
     "text": [
      "<class 'pandas.core.frame.DataFrame'>\n",
      "RangeIndex: 12294 entries, 0 to 12293\n",
      "Data columns (total 7 columns):\n",
      " #   Column    Non-Null Count  Dtype  \n",
      "---  ------    --------------  -----  \n",
      " 0   anime_id  12294 non-null  int64  \n",
      " 1   name      12294 non-null  object \n",
      " 2   genre     12232 non-null  object \n",
      " 3   type      12269 non-null  object \n",
      " 4   episodes  12294 non-null  object \n",
      " 5   rating    12064 non-null  float64\n",
      " 6   members   12294 non-null  int64  \n",
      "dtypes: float64(1), int64(2), object(4)\n",
      "memory usage: 672.5+ KB\n"
     ]
    }
   ],
   "source": [
    "anime_df.info()"
   ]
  },
  {
   "cell_type": "code",
   "execution_count": 521,
   "id": "e595e6f8-a28f-4162-802e-03287352d0ce",
   "metadata": {
    "tags": []
   },
   "outputs": [
    {
     "data": {
      "text/plain": [
       "anime_id      0\n",
       "name          0\n",
       "genre        62\n",
       "type         25\n",
       "episodes      0\n",
       "rating      230\n",
       "members       0\n",
       "dtype: int64"
      ]
     },
     "execution_count": 521,
     "metadata": {},
     "output_type": "execute_result"
    }
   ],
   "source": [
    "anime_df.isnull().sum()"
   ]
  },
  {
   "cell_type": "code",
   "execution_count": 522,
   "id": "de0a82ba-e520-43c7-8b40-50ccde8a3950",
   "metadata": {
    "tags": []
   },
   "outputs": [
    {
     "data": {
      "text/plain": [
       "anime_id    False\n",
       "name        False\n",
       "genre       False\n",
       "type        False\n",
       "episodes     True\n",
       "rating      False\n",
       "members     False\n",
       "dtype: bool"
      ]
     },
     "execution_count": 522,
     "metadata": {},
     "output_type": "execute_result"
    }
   ],
   "source": [
    "(anime_df== 'Unknown').any()"
   ]
  },
  {
   "cell_type": "code",
   "execution_count": 523,
   "id": "7973488b-0978-454c-8126-57e07649eef4",
   "metadata": {
    "tags": []
   },
   "outputs": [
    {
     "data": {
      "text/plain": [
       "anime_id    False\n",
       "name        False\n",
       "genre       False\n",
       "type        False\n",
       "episodes    False\n",
       "rating      False\n",
       "members     False\n",
       "dtype: bool"
      ]
     },
     "execution_count": 523,
     "metadata": {},
     "output_type": "execute_result"
    }
   ],
   "source": [
    "# Replace string unknown with NaN type\n",
    "anime_df.replace('Unknown', np.NaN, inplace=True)\n",
    "(anime_df== 'Unknown').any()"
   ]
  },
  {
   "cell_type": "markdown",
   "id": "b45c6f9d-1cb3-4959-a875-d8e1deea99e9",
   "metadata": {
    "tags": []
   },
   "source": [
    "### Drop rows with missing `rating` (which is our target)"
   ]
  },
  {
   "cell_type": "code",
   "execution_count": 524,
   "id": "f52a200d-bbb2-4dd8-b1a5-093d48217848",
   "metadata": {
    "tags": []
   },
   "outputs": [],
   "source": [
    "anime_df = anime_df[~anime_df['rating'].isnull()]"
   ]
  },
  {
   "cell_type": "code",
   "execution_count": 525,
   "id": "59781f08-199a-47a4-91d1-257d79cb1f72",
   "metadata": {
    "tags": []
   },
   "outputs": [
    {
     "data": {
      "text/plain": [
       "anime_id      0\n",
       "name          0\n",
       "genre        47\n",
       "type          0\n",
       "episodes    188\n",
       "rating        0\n",
       "members       0\n",
       "dtype: int64"
      ]
     },
     "execution_count": 525,
     "metadata": {},
     "output_type": "execute_result"
    }
   ],
   "source": [
    "anime_df.isna().sum()"
   ]
  },
  {
   "cell_type": "markdown",
   "id": "7af7e0f9-5e7d-47bd-8af1-ea43011ea70a",
   "metadata": {
    "tags": []
   },
   "source": [
    "### Fill missing value for `genre` [anime_df]"
   ]
  },
  {
   "cell_type": "code",
   "execution_count": 526,
   "id": "79e61d85-1e6b-4c09-a205-f82cf624a145",
   "metadata": {
    "tags": []
   },
   "outputs": [
    {
     "name": "stderr",
     "output_type": "stream",
     "text": [
      "/var/folders/xk/5gx1tq55563djqn2f91dfp040000gn/T/ipykernel_50884/1998551640.py:6: SettingWithCopyWarning: \n",
      "A value is trying to be set on a copy of a slice from a DataFrame.\n",
      "Try using .loc[row_indexer,col_indexer] = value instead\n",
      "\n",
      "See the caveats in the documentation: https://pandas.pydata.org/pandas-docs/stable/user_guide/indexing.html#returning-a-view-versus-a-copy\n",
      "  anime_has_null_genre['matched_name'] = anime_has_null_genre['name'].apply(lambda x: difflib.get_close_matches(x, names_without_null_genre, n=1))\n"
     ]
    },
    {
     "data": {
      "text/html": [
       "<div>\n",
       "<style scoped>\n",
       "    .dataframe tbody tr th:only-of-type {\n",
       "        vertical-align: middle;\n",
       "    }\n",
       "\n",
       "    .dataframe tbody tr th {\n",
       "        vertical-align: top;\n",
       "    }\n",
       "\n",
       "    .dataframe thead th {\n",
       "        text-align: right;\n",
       "    }\n",
       "</style>\n",
       "<table border=\"1\" class=\"dataframe\">\n",
       "  <thead>\n",
       "    <tr style=\"text-align: right;\">\n",
       "      <th></th>\n",
       "      <th>anime_id</th>\n",
       "      <th>name</th>\n",
       "      <th>genre</th>\n",
       "      <th>type</th>\n",
       "      <th>episodes</th>\n",
       "      <th>rating</th>\n",
       "      <th>members</th>\n",
       "      <th>matched_name</th>\n",
       "    </tr>\n",
       "  </thead>\n",
       "  <tbody>\n",
       "    <tr>\n",
       "      <th>2844</th>\n",
       "      <td>33242</td>\n",
       "      <td>IS: Infinite Stratos 2 - Infinite Wedding</td>\n",
       "      <td>NaN</td>\n",
       "      <td>Special</td>\n",
       "      <td>1</td>\n",
       "      <td>7.15</td>\n",
       "      <td>6604</td>\n",
       "      <td>[IS: Infinite Stratos 2]</td>\n",
       "    </tr>\n",
       "    <tr>\n",
       "      <th>3541</th>\n",
       "      <td>33589</td>\n",
       "      <td>ViVid Strike!</td>\n",
       "      <td>NaN</td>\n",
       "      <td>TV</td>\n",
       "      <td>12</td>\n",
       "      <td>6.96</td>\n",
       "      <td>12345</td>\n",
       "      <td>[]</td>\n",
       "    </tr>\n",
       "    <tr>\n",
       "      <th>6040</th>\n",
       "      <td>29765</td>\n",
       "      <td>Metropolis (2009)</td>\n",
       "      <td>NaN</td>\n",
       "      <td>Movie</td>\n",
       "      <td>1</td>\n",
       "      <td>6.27</td>\n",
       "      <td>313</td>\n",
       "      <td>[Metropolis]</td>\n",
       "    </tr>\n",
       "    <tr>\n",
       "      <th>6646</th>\n",
       "      <td>32695</td>\n",
       "      <td>Match Shoujo</td>\n",
       "      <td>NaN</td>\n",
       "      <td>ONA</td>\n",
       "      <td>1</td>\n",
       "      <td>6.02</td>\n",
       "      <td>242</td>\n",
       "      <td>[Match Uri no Shoujo]</td>\n",
       "    </tr>\n",
       "    <tr>\n",
       "      <th>7018</th>\n",
       "      <td>33187</td>\n",
       "      <td>Katsudou Shashin</td>\n",
       "      <td>NaN</td>\n",
       "      <td>Movie</td>\n",
       "      <td>1</td>\n",
       "      <td>5.79</td>\n",
       "      <td>607</td>\n",
       "      <td>[Sakura Taisen: Katsudou Shashin]</td>\n",
       "    </tr>\n",
       "  </tbody>\n",
       "</table>\n",
       "</div>"
      ],
      "text/plain": [
       "      anime_id                                       name genre     type  \\\n",
       "2844     33242  IS: Infinite Stratos 2 - Infinite Wedding   NaN  Special   \n",
       "3541     33589                              ViVid Strike!   NaN       TV   \n",
       "6040     29765                          Metropolis (2009)   NaN    Movie   \n",
       "6646     32695                               Match Shoujo   NaN      ONA   \n",
       "7018     33187                           Katsudou Shashin   NaN    Movie   \n",
       "\n",
       "     episodes  rating  members                       matched_name  \n",
       "2844        1    7.15     6604           [IS: Infinite Stratos 2]  \n",
       "3541       12    6.96    12345                                 []  \n",
       "6040        1    6.27      313                       [Metropolis]  \n",
       "6646        1    6.02      242              [Match Uri no Shoujo]  \n",
       "7018        1    5.79      607  [Sakura Taisen: Katsudou Shashin]  "
      ]
     },
     "execution_count": 526,
     "metadata": {},
     "output_type": "execute_result"
    }
   ],
   "source": [
    "# Check if anime that has genre null is from the same anime but different episode title or type. \n",
    "# Check by finding if title has similarity to other animes. \n",
    "anime_has_null_genre = anime_df[anime_df['genre'].isnull()]\n",
    "names_without_null_genre = anime_df[~anime_df['genre'].isnull()]['name']\n",
    "\n",
    "anime_has_null_genre['matched_name'] = anime_has_null_genre['name'].apply(lambda x: difflib.get_close_matches(x, names_without_null_genre, n=1))\n",
    "anime_has_null_genre.head()"
   ]
  },
  {
   "cell_type": "code",
   "execution_count": 527,
   "id": "1568a23a-7034-4afb-ba6e-b696ddeae8b5",
   "metadata": {
    "tags": []
   },
   "outputs": [
    {
     "name": "stdout",
     "output_type": "stream",
     "text": [
      "<class 'pandas.core.frame.DataFrame'>\n",
      "Index: 47 entries, 2844 to 10863\n",
      "Data columns (total 8 columns):\n",
      " #   Column        Non-Null Count  Dtype  \n",
      "---  ------        --------------  -----  \n",
      " 0   anime_id      47 non-null     int64  \n",
      " 1   name          47 non-null     object \n",
      " 2   genre         0 non-null      object \n",
      " 3   type          47 non-null     object \n",
      " 4   episodes      46 non-null     object \n",
      " 5   rating        47 non-null     float64\n",
      " 6   members       47 non-null     int64  \n",
      " 7   matched_name  47 non-null     object \n",
      "dtypes: float64(1), int64(2), object(5)\n",
      "memory usage: 3.3+ KB\n"
     ]
    }
   ],
   "source": [
    "anime_has_null_genre.info()"
   ]
  },
  {
   "cell_type": "code",
   "execution_count": 528,
   "id": "ae4be1b2-cc1b-4744-96dc-b5977d0d157c",
   "metadata": {
    "tags": []
   },
   "outputs": [
    {
     "data": {
      "text/html": [
       "<div>\n",
       "<style scoped>\n",
       "    .dataframe tbody tr th:only-of-type {\n",
       "        vertical-align: middle;\n",
       "    }\n",
       "\n",
       "    .dataframe tbody tr th {\n",
       "        vertical-align: top;\n",
       "    }\n",
       "\n",
       "    .dataframe thead th {\n",
       "        text-align: right;\n",
       "    }\n",
       "</style>\n",
       "<table border=\"1\" class=\"dataframe\">\n",
       "  <thead>\n",
       "    <tr style=\"text-align: right;\">\n",
       "      <th></th>\n",
       "      <th>anime_id</th>\n",
       "      <th>name</th>\n",
       "      <th>genre</th>\n",
       "      <th>type</th>\n",
       "      <th>episodes</th>\n",
       "      <th>rating</th>\n",
       "      <th>members</th>\n",
       "      <th>matched_name</th>\n",
       "      <th>matched_genre</th>\n",
       "    </tr>\n",
       "  </thead>\n",
       "  <tbody>\n",
       "    <tr>\n",
       "      <th>2844</th>\n",
       "      <td>33242</td>\n",
       "      <td>IS: Infinite Stratos 2 - Infinite Wedding</td>\n",
       "      <td>NaN</td>\n",
       "      <td>Special</td>\n",
       "      <td>1</td>\n",
       "      <td>7.15</td>\n",
       "      <td>6604</td>\n",
       "      <td>IS: Infinite Stratos 2</td>\n",
       "      <td>Action, Comedy, Harem, Mecha, Sci-Fi</td>\n",
       "    </tr>\n",
       "    <tr>\n",
       "      <th>3541</th>\n",
       "      <td>33589</td>\n",
       "      <td>ViVid Strike!</td>\n",
       "      <td>NaN</td>\n",
       "      <td>TV</td>\n",
       "      <td>12</td>\n",
       "      <td>6.96</td>\n",
       "      <td>12345</td>\n",
       "      <td>NaN</td>\n",
       "      <td>NaN</td>\n",
       "    </tr>\n",
       "    <tr>\n",
       "      <th>6040</th>\n",
       "      <td>29765</td>\n",
       "      <td>Metropolis (2009)</td>\n",
       "      <td>NaN</td>\n",
       "      <td>Movie</td>\n",
       "      <td>1</td>\n",
       "      <td>6.27</td>\n",
       "      <td>313</td>\n",
       "      <td>Metropolis</td>\n",
       "      <td>Adventure, Drama, Police, Romance, Sci-Fi, Sho...</td>\n",
       "    </tr>\n",
       "    <tr>\n",
       "      <th>6646</th>\n",
       "      <td>32695</td>\n",
       "      <td>Match Shoujo</td>\n",
       "      <td>NaN</td>\n",
       "      <td>ONA</td>\n",
       "      <td>1</td>\n",
       "      <td>6.02</td>\n",
       "      <td>242</td>\n",
       "      <td>Match Uri no Shoujo</td>\n",
       "      <td>Drama, Kids</td>\n",
       "    </tr>\n",
       "    <tr>\n",
       "      <th>7018</th>\n",
       "      <td>33187</td>\n",
       "      <td>Katsudou Shashin</td>\n",
       "      <td>NaN</td>\n",
       "      <td>Movie</td>\n",
       "      <td>1</td>\n",
       "      <td>5.79</td>\n",
       "      <td>607</td>\n",
       "      <td>Sakura Taisen: Katsudou Shashin</td>\n",
       "      <td>Adventure, Mecha, Sci-Fi, Shounen</td>\n",
       "    </tr>\n",
       "  </tbody>\n",
       "</table>\n",
       "</div>"
      ],
      "text/plain": [
       "      anime_id                                       name genre     type  \\\n",
       "2844     33242  IS: Infinite Stratos 2 - Infinite Wedding   NaN  Special   \n",
       "3541     33589                              ViVid Strike!   NaN       TV   \n",
       "6040     29765                          Metropolis (2009)   NaN    Movie   \n",
       "6646     32695                               Match Shoujo   NaN      ONA   \n",
       "7018     33187                           Katsudou Shashin   NaN    Movie   \n",
       "\n",
       "     episodes  rating  members                     matched_name  \\\n",
       "2844        1    7.15     6604           IS: Infinite Stratos 2   \n",
       "3541       12    6.96    12345                              NaN   \n",
       "6040        1    6.27      313                       Metropolis   \n",
       "6646        1    6.02      242              Match Uri no Shoujo   \n",
       "7018        1    5.79      607  Sakura Taisen: Katsudou Shashin   \n",
       "\n",
       "                                          matched_genre  \n",
       "2844               Action, Comedy, Harem, Mecha, Sci-Fi  \n",
       "3541                                                NaN  \n",
       "6040  Adventure, Drama, Police, Romance, Sci-Fi, Sho...  \n",
       "6646                                        Drama, Kids  \n",
       "7018                  Adventure, Mecha, Sci-Fi, Shounen  "
      ]
     },
     "execution_count": 528,
     "metadata": {},
     "output_type": "execute_result"
    }
   ],
   "source": [
    "# Fill the null genre with the matched anime's genre\n",
    "df_has_null_genre = anime_has_null_genre.copy()\n",
    "df_has_null_genre['matched_name'] = anime_has_null_genre['matched_name'].apply(lambda x: x[0] if len(x) > 0 else np.NaN)\n",
    "df_has_null_genre['matched_genre'] = df_has_null_genre['matched_name'].apply(lambda x: anime_df[anime_df['name']==x]['genre'].values)\n",
    "df_matched_genre = df_has_null_genre.copy()\n",
    "df_matched_genre['matched_genre'] = df_has_null_genre['matched_genre'].apply(lambda x: x[0] if len(x) > 0 else np.NaN)\n",
    "df_matched_genre.head()"
   ]
  },
  {
   "cell_type": "code",
   "execution_count": 529,
   "id": "04f91b73-48fd-4cf2-a6d5-4da0870796c3",
   "metadata": {
    "tags": []
   },
   "outputs": [
    {
     "name": "stdout",
     "output_type": "stream",
     "text": [
      "genre null count before:  47\n",
      "genre null count after:  10\n"
     ]
    },
    {
     "name": "stderr",
     "output_type": "stream",
     "text": [
      "/var/folders/xk/5gx1tq55563djqn2f91dfp040000gn/T/ipykernel_50884/2974107618.py:4: FutureWarning: A value is trying to be set on a copy of a DataFrame or Series through chained assignment using an inplace method.\n",
      "The behavior will change in pandas 3.0. This inplace method will never work because the intermediate object on which we are setting values always behaves as a copy.\n",
      "\n",
      "For example, when doing 'df[col].method(value, inplace=True)', try using 'df.method({col: value}, inplace=True)' or df[col] = df[col].method(value) instead, to perform the operation inplace on the original object.\n",
      "\n",
      "\n",
      "  anime_df['genre'].fillna(df_matched_genre['matched_genre'], inplace=True)\n"
     ]
    }
   ],
   "source": [
    "# Apply the filled data to anime_df\n",
    "print('genre null count before: ', anime_df['genre'].isna().sum())\n",
    "df_matched_genre[['anime_id', 'matched_genre']]\n",
    "anime_df['genre'].fillna(df_matched_genre['matched_genre'], inplace=True)\n",
    "print('genre null count after: ', anime_df['genre'].isna().sum())"
   ]
  },
  {
   "cell_type": "code",
   "execution_count": 530,
   "id": "8a943f26-8a82-452d-9cd9-a706649e8d40",
   "metadata": {
    "tags": []
   },
   "outputs": [
    {
     "data": {
      "text/plain": [
       "anime_id      0\n",
       "name          0\n",
       "genre        10\n",
       "type          0\n",
       "episodes    188\n",
       "rating        0\n",
       "members       0\n",
       "dtype: int64"
      ]
     },
     "execution_count": 530,
     "metadata": {},
     "output_type": "execute_result"
    }
   ],
   "source": [
    "anime_df.isna().sum()"
   ]
  },
  {
   "cell_type": "markdown",
   "id": "c15bc63d-e292-4482-8682-faafd767f00c",
   "metadata": {
    "tags": []
   },
   "source": [
    "### Fill missing value for `episodes` [anime_df]"
   ]
  },
  {
   "cell_type": "code",
   "execution_count": 531,
   "id": "59dc28b7-b935-4daa-8c3b-f532aea46b39",
   "metadata": {
    "tags": []
   },
   "outputs": [
    {
     "name": "stdout",
     "output_type": "stream",
     "text": [
      "Missing episodes types: ['TV' 'Special' 'ONA' 'Music' 'Movie' 'OVA']\n"
     ]
    },
    {
     "data": {
      "text/html": [
       "<div>\n",
       "<style scoped>\n",
       "    .dataframe tbody tr th:only-of-type {\n",
       "        vertical-align: middle;\n",
       "    }\n",
       "\n",
       "    .dataframe tbody tr th {\n",
       "        vertical-align: top;\n",
       "    }\n",
       "\n",
       "    .dataframe thead th {\n",
       "        text-align: right;\n",
       "    }\n",
       "</style>\n",
       "<table border=\"1\" class=\"dataframe\">\n",
       "  <thead>\n",
       "    <tr style=\"text-align: right;\">\n",
       "      <th></th>\n",
       "      <th>mean</th>\n",
       "      <th>median</th>\n",
       "      <th>std</th>\n",
       "    </tr>\n",
       "    <tr>\n",
       "      <th>type</th>\n",
       "      <th></th>\n",
       "      <th></th>\n",
       "      <th></th>\n",
       "    </tr>\n",
       "  </thead>\n",
       "  <tbody>\n",
       "    <tr>\n",
       "      <th>Movie</th>\n",
       "      <td>1.104530</td>\n",
       "      <td>1.0</td>\n",
       "      <td>2.171605</td>\n",
       "    </tr>\n",
       "    <tr>\n",
       "      <th>Music</th>\n",
       "      <td>1.131417</td>\n",
       "      <td>1.0</td>\n",
       "      <td>1.293852</td>\n",
       "    </tr>\n",
       "    <tr>\n",
       "      <th>ONA</th>\n",
       "      <td>6.862295</td>\n",
       "      <td>2.0</td>\n",
       "      <td>11.408264</td>\n",
       "    </tr>\n",
       "    <tr>\n",
       "      <th>OVA</th>\n",
       "      <td>2.422236</td>\n",
       "      <td>2.0</td>\n",
       "      <td>3.214364</td>\n",
       "    </tr>\n",
       "    <tr>\n",
       "      <th>Special</th>\n",
       "      <td>2.566026</td>\n",
       "      <td>1.0</td>\n",
       "      <td>3.704655</td>\n",
       "    </tr>\n",
       "    <tr>\n",
       "      <th>TV</th>\n",
       "      <td>35.969468</td>\n",
       "      <td>24.0</td>\n",
       "      <td>80.722257</td>\n",
       "    </tr>\n",
       "  </tbody>\n",
       "</table>\n",
       "</div>"
      ],
      "text/plain": [
       "              mean  median        std\n",
       "type                                 \n",
       "Movie     1.104530     1.0   2.171605\n",
       "Music     1.131417     1.0   1.293852\n",
       "ONA       6.862295     2.0  11.408264\n",
       "OVA       2.422236     2.0   3.214364\n",
       "Special   2.566026     1.0   3.704655\n",
       "TV       35.969468    24.0  80.722257"
      ]
     },
     "execution_count": 531,
     "metadata": {},
     "output_type": "execute_result"
    }
   ],
   "source": [
    "# The hypothesis is that certain types will exhibit specific episode counts. For instance, movies typically have just one episode. \n",
    "# If we verify that there is a \"typical\" number of episodes associated with each type and this number shows little variation, \n",
    "# we will use it to impute missing episode values based on the type.\n",
    "anime_df['episodes'] = pd.to_numeric(anime_df['episodes'], errors='coerce')\n",
    "\n",
    "print('Missing episodes types:', anime_df[anime_df['episodes'].isna()]['type'].unique())\n",
    "mean = anime_df[['type', 'episodes']].groupby('type').mean().rename(columns = {'episodes': 'mean'})\n",
    "median = anime_df[['type', 'episodes']].groupby('type').median().rename(columns = {'episodes': 'median'})\n",
    "std = anime_df[['type', 'episodes']].groupby('type').std().rename(columns = {'episodes': 'std'})\n",
    "pd.concat((mean, median, std), axis=1)"
   ]
  },
  {
   "cell_type": "code",
   "execution_count": 532,
   "id": "17c06744-2182-40a4-a9f9-52718d67e6e2",
   "metadata": {
    "tags": []
   },
   "outputs": [
    {
     "data": {
      "image/png": "[encoded data removed]",
      "text/plain": [
       "<Figure size 640x480 with 1 Axes>"
      ]
     },
     "metadata": {},
     "output_type": "display_data"
    }
   ],
   "source": [
    "anime_df[['type', 'episodes']].groupby('type').boxplot(subplots=False, rot=45, fontsize=12)\n",
    "plt.yscale('log')\n",
    "plt.show()"
   ]
  },
  {
   "cell_type": "markdown",
   "id": "1f1e2550-c81d-4583-a9b0-406e1ea8e4d9",
   "metadata": {
    "tags": []
   },
   "source": [
    "All types except `TV` and `ONA` has less than 4 Standard Deviation for episode numbers. Will replace the null episode value with the rounded mean values for all types except `TV` and `ONA`."
   ]
  },
  {
   "cell_type": "code",
   "execution_count": 533,
   "id": "7d9ee666-14ad-40cf-94a9-6878f7484a9a",
   "metadata": {
    "tags": []
   },
   "outputs": [],
   "source": [
    "avg_episodes_by_type = anime_df.groupby('type')['episodes'].mean()"
   ]
  },
  {
   "cell_type": "code",
   "execution_count": 534,
   "id": "40880aaf-ffec-449f-b1c8-f9a36f7f6d94",
   "metadata": {
    "tags": []
   },
   "outputs": [],
   "source": [
    "anime_df.loc[(anime_df['type'] == 'Movie'), 'episodes'] = anime_df.loc[(anime_df['type'] == 'Movie'), 'episodes'].fillna(value=round(avg_episodes_by_type['Movie']))\n",
    "anime_df.loc[(anime_df['type'] == 'Music'), 'episodes'] = anime_df.loc[(anime_df['type'] == 'Music'), 'episodes'].fillna(value=round(avg_episodes_by_type['Music']))\n",
    "anime_df.loc[(anime_df['type'] == 'OVA'), 'episodes'] = anime_df.loc[(anime_df['type'] == 'OVA'), 'episodes'].fillna(value=round(avg_episodes_by_type['OVA']))\n",
    "anime_df.loc[(anime_df['type'] == 'Special'), 'episodes'] = anime_df.loc[(anime_df['type'] == 'Special'), 'episodes'].fillna(value=round(avg_episodes_by_type['Special']))"
   ]
  },
  {
   "cell_type": "code",
   "execution_count": 535,
   "id": "f82b44dd-88fe-4bb2-be50-92b01ca71a30",
   "metadata": {
    "tags": []
   },
   "outputs": [
    {
     "data": {
      "text/plain": [
       "anime_id      0\n",
       "name          0\n",
       "genre        10\n",
       "type          0\n",
       "episodes    143\n",
       "rating        0\n",
       "members       0\n",
       "dtype: int64"
      ]
     },
     "execution_count": 535,
     "metadata": {},
     "output_type": "execute_result"
    }
   ],
   "source": [
    "anime_df.isna().sum()"
   ]
  },
  {
   "cell_type": "markdown",
   "id": "ada5c8a4-f039-49d6-ab96-9c5ee0058dfa",
   "metadata": {
    "tags": []
   },
   "source": [
    "**Decreased missing counts of episodes from 188 to 143.**"
   ]
  },
  {
   "cell_type": "markdown",
   "id": "17b9560d-92d7-4526-aa90-01d70b753d6a",
   "metadata": {
    "tags": []
   },
   "source": [
    "### Handle the rest of the missing values [anime_df]"
   ]
  },
  {
   "cell_type": "code",
   "execution_count": 536,
   "id": "05d483d9-edd4-425e-b05c-641639c0b041",
   "metadata": {
    "tags": []
   },
   "outputs": [
    {
     "data": {
      "text/html": [
       "<div>\n",
       "<style scoped>\n",
       "    .dataframe tbody tr th:only-of-type {\n",
       "        vertical-align: middle;\n",
       "    }\n",
       "\n",
       "    .dataframe tbody tr th {\n",
       "        vertical-align: top;\n",
       "    }\n",
       "\n",
       "    .dataframe thead th {\n",
       "        text-align: right;\n",
       "    }\n",
       "</style>\n",
       "<table border=\"1\" class=\"dataframe\">\n",
       "  <thead>\n",
       "    <tr style=\"text-align: right;\">\n",
       "      <th></th>\n",
       "      <th>anime_id</th>\n",
       "      <th>name</th>\n",
       "      <th>genre</th>\n",
       "      <th>type</th>\n",
       "      <th>episodes</th>\n",
       "      <th>rating</th>\n",
       "      <th>members</th>\n",
       "    </tr>\n",
       "  </thead>\n",
       "  <tbody>\n",
       "    <tr>\n",
       "      <th>74</th>\n",
       "      <td>21</td>\n",
       "      <td>One Piece</td>\n",
       "      <td>Action, Adventure, Comedy, Drama, Fantasy, Sho...</td>\n",
       "      <td>TV</td>\n",
       "      <td>NaN</td>\n",
       "      <td>8.58</td>\n",
       "      <td>504862</td>\n",
       "    </tr>\n",
       "    <tr>\n",
       "      <th>252</th>\n",
       "      <td>235</td>\n",
       "      <td>Detective Conan</td>\n",
       "      <td>Adventure, Comedy, Mystery, Police, Shounen</td>\n",
       "      <td>TV</td>\n",
       "      <td>NaN</td>\n",
       "      <td>8.25</td>\n",
       "      <td>114702</td>\n",
       "    </tr>\n",
       "    <tr>\n",
       "      <th>615</th>\n",
       "      <td>1735</td>\n",
       "      <td>Naruto: Shippuuden</td>\n",
       "      <td>Action, Comedy, Martial Arts, Shounen, Super P...</td>\n",
       "      <td>TV</td>\n",
       "      <td>NaN</td>\n",
       "      <td>7.94</td>\n",
       "      <td>533578</td>\n",
       "    </tr>\n",
       "    <tr>\n",
       "      <th>991</th>\n",
       "      <td>966</td>\n",
       "      <td>Crayon Shin-chan</td>\n",
       "      <td>Comedy, Ecchi, Kids, School, Shounen, Slice of...</td>\n",
       "      <td>TV</td>\n",
       "      <td>NaN</td>\n",
       "      <td>7.73</td>\n",
       "      <td>26267</td>\n",
       "    </tr>\n",
       "    <tr>\n",
       "      <th>1272</th>\n",
       "      <td>21639</td>\n",
       "      <td>Yu☆Gi☆Oh! Arc-V</td>\n",
       "      <td>Action, Fantasy, Game, Shounen</td>\n",
       "      <td>TV</td>\n",
       "      <td>NaN</td>\n",
       "      <td>7.61</td>\n",
       "      <td>17571</td>\n",
       "    </tr>\n",
       "  </tbody>\n",
       "</table>\n",
       "</div>"
      ],
      "text/plain": [
       "      anime_id                name  \\\n",
       "74          21           One Piece   \n",
       "252        235     Detective Conan   \n",
       "615       1735  Naruto: Shippuuden   \n",
       "991        966    Crayon Shin-chan   \n",
       "1272     21639     Yu☆Gi☆Oh! Arc-V   \n",
       "\n",
       "                                                  genre type  episodes  \\\n",
       "74    Action, Adventure, Comedy, Drama, Fantasy, Sho...   TV       NaN   \n",
       "252         Adventure, Comedy, Mystery, Police, Shounen   TV       NaN   \n",
       "615   Action, Comedy, Martial Arts, Shounen, Super P...   TV       NaN   \n",
       "991   Comedy, Ecchi, Kids, School, Shounen, Slice of...   TV       NaN   \n",
       "1272                     Action, Fantasy, Game, Shounen   TV       NaN   \n",
       "\n",
       "      rating  members  \n",
       "74      8.58   504862  \n",
       "252     8.25   114702  \n",
       "615     7.94   533578  \n",
       "991     7.73    26267  \n",
       "1272    7.61    17571  "
      ]
     },
     "execution_count": 536,
     "metadata": {},
     "output_type": "execute_result"
    }
   ],
   "source": [
    "anime_df[anime_df['episodes'].isna()].head()"
   ]
  },
  {
   "cell_type": "markdown",
   "id": "78f7195a-d190-4fff-9830-cce3d69dc180",
   "metadata": {},
   "source": [
    "It appears that when the episode count is missing for a TV anime, the series is still ongoing."
   ]
  },
  {
   "cell_type": "code",
   "execution_count": 537,
   "id": "454c7154-6542-45ad-889b-50213a0eae0f",
   "metadata": {
    "tags": []
   },
   "outputs": [
    {
     "data": {
      "text/html": [
       "<div>\n",
       "<style scoped>\n",
       "    .dataframe tbody tr th:only-of-type {\n",
       "        vertical-align: middle;\n",
       "    }\n",
       "\n",
       "    .dataframe tbody tr th {\n",
       "        vertical-align: top;\n",
       "    }\n",
       "\n",
       "    .dataframe thead th {\n",
       "        text-align: right;\n",
       "    }\n",
       "</style>\n",
       "<table border=\"1\" class=\"dataframe\">\n",
       "  <thead>\n",
       "    <tr style=\"text-align: right;\">\n",
       "      <th></th>\n",
       "      <th>anime_id</th>\n",
       "      <th>name</th>\n",
       "      <th>genre</th>\n",
       "      <th>type</th>\n",
       "      <th>episodes</th>\n",
       "      <th>rating</th>\n",
       "      <th>members</th>\n",
       "    </tr>\n",
       "  </thead>\n",
       "  <tbody>\n",
       "    <tr>\n",
       "      <th>3541</th>\n",
       "      <td>33589</td>\n",
       "      <td>ViVid Strike!</td>\n",
       "      <td>NaN</td>\n",
       "      <td>TV</td>\n",
       "      <td>12.0</td>\n",
       "      <td>6.96</td>\n",
       "      <td>12345</td>\n",
       "    </tr>\n",
       "    <tr>\n",
       "      <th>7198</th>\n",
       "      <td>30862</td>\n",
       "      <td>Yubi wo Nusunda Onna</td>\n",
       "      <td>NaN</td>\n",
       "      <td>Movie</td>\n",
       "      <td>1.0</td>\n",
       "      <td>5.65</td>\n",
       "      <td>223</td>\n",
       "    </tr>\n",
       "    <tr>\n",
       "      <th>7349</th>\n",
       "      <td>19219</td>\n",
       "      <td>Modern No.2</td>\n",
       "      <td>NaN</td>\n",
       "      <td>Movie</td>\n",
       "      <td>1.0</td>\n",
       "      <td>5.52</td>\n",
       "      <td>374</td>\n",
       "    </tr>\n",
       "    <tr>\n",
       "      <th>7685</th>\n",
       "      <td>31760</td>\n",
       "      <td>Tsuru Shitae Waka Kan</td>\n",
       "      <td>NaN</td>\n",
       "      <td>Movie</td>\n",
       "      <td>1.0</td>\n",
       "      <td>5.15</td>\n",
       "      <td>195</td>\n",
       "    </tr>\n",
       "    <tr>\n",
       "      <th>7824</th>\n",
       "      <td>28655</td>\n",
       "      <td>PiKA PiKA</td>\n",
       "      <td>NaN</td>\n",
       "      <td>Movie</td>\n",
       "      <td>1.0</td>\n",
       "      <td>4.92</td>\n",
       "      <td>289</td>\n",
       "    </tr>\n",
       "  </tbody>\n",
       "</table>\n",
       "</div>"
      ],
      "text/plain": [
       "      anime_id                   name genre   type  episodes  rating  members\n",
       "3541     33589          ViVid Strike!   NaN     TV      12.0    6.96    12345\n",
       "7198     30862   Yubi wo Nusunda Onna   NaN  Movie       1.0    5.65      223\n",
       "7349     19219            Modern No.2   NaN  Movie       1.0    5.52      374\n",
       "7685     31760  Tsuru Shitae Waka Kan   NaN  Movie       1.0    5.15      195\n",
       "7824     28655              PiKA PiKA   NaN  Movie       1.0    4.92      289"
      ]
     },
     "execution_count": 537,
     "metadata": {},
     "output_type": "execute_result"
    }
   ],
   "source": [
    "anime_df[anime_df['genre'].isna()].head()"
   ]
  },
  {
   "cell_type": "code",
   "execution_count": 538,
   "id": "df16114e-57e3-4e82-a59f-ca30e15f291c",
   "metadata": {
    "tags": []
   },
   "outputs": [
    {
     "data": {
      "text/plain": [
       "0.01268236074270557"
      ]
     },
     "execution_count": 538,
     "metadata": {},
     "output_type": "execute_result"
    }
   ],
   "source": [
    "(anime_df[(anime_df['genre'].isna()) | (anime_df['episodes'].isna())]['anime_id'].count())/ (anime_df['anime_id'].count())"
   ]
  },
  {
   "cell_type": "markdown",
   "id": "a31f98c0-9aec-4e19-8186-1597e3bd1edb",
   "metadata": {
    "tags": []
   },
   "source": [
    "The rest of the missing value is about 1% of the total data. Will drop the records."
   ]
  },
  {
   "cell_type": "code",
   "execution_count": 539,
   "id": "d8def72f-2ce3-4b38-ac57-10b2469aa495",
   "metadata": {
    "tags": []
   },
   "outputs": [
    {
     "data": {
      "text/plain": [
       "anime_id    0\n",
       "name        0\n",
       "genre       0\n",
       "type        0\n",
       "episodes    0\n",
       "rating      0\n",
       "members     0\n",
       "dtype: int64"
      ]
     },
     "execution_count": 539,
     "metadata": {},
     "output_type": "execute_result"
    }
   ],
   "source": [
    "anime_df.dropna(inplace=True)\n",
    "anime_df.isna().sum()"
   ]
  },
  {
   "cell_type": "markdown",
   "id": "076baa58-2a70-4fa2-bcd9-17be807cf30a",
   "metadata": {},
   "source": [
    "### Convert Data type [anime_df]"
   ]
  },
  {
   "cell_type": "code",
   "execution_count": 540,
   "id": "699322bf-4f3d-4c3c-a5e9-71a47a19e54b",
   "metadata": {
    "tags": []
   },
   "outputs": [
    {
     "name": "stdout",
     "output_type": "stream",
     "text": [
      "<class 'pandas.core.frame.DataFrame'>\n",
      "Index: 11911 entries, 0 to 12293\n",
      "Data columns (total 7 columns):\n",
      " #   Column    Non-Null Count  Dtype   \n",
      "---  ------    --------------  -----   \n",
      " 0   anime_id  11911 non-null  int64   \n",
      " 1   name      11911 non-null  string  \n",
      " 2   genre     11911 non-null  string  \n",
      " 3   type      11911 non-null  category\n",
      " 4   episodes  11911 non-null  int64   \n",
      " 5   rating    11911 non-null  float64 \n",
      " 6   members   11911 non-null  int64   \n",
      "dtypes: category(1), float64(1), int64(3), string(2)\n",
      "memory usage: 663.2 KB\n",
      "None\n"
     ]
    }
   ],
   "source": [
    "# Convert to expected datatype\n",
    "anime_df['name'] = anime_df['name'].astype('string')\n",
    "anime_df['type'] = anime_df['type'].astype('category')\n",
    "anime_df['genre'] = anime_df['genre'].astype('string')\n",
    "anime_df['episodes'] = anime_df['episodes'].astype('int')\n",
    "print(anime_df.info())"
   ]
  },
  {
   "cell_type": "markdown",
   "id": "165876a3-f043-4e1a-88b3-29014c4f181f",
   "metadata": {
    "tags": []
   },
   "source": [
    "### Check duplicates [anime_df]"
   ]
  },
  {
   "cell_type": "code",
   "execution_count": 541,
   "id": "0fbb6116-8530-4334-b5cd-37f7105a6e66",
   "metadata": {
    "tags": []
   },
   "outputs": [
    {
     "data": {
      "text/plain": [
       "False"
      ]
     },
     "execution_count": 541,
     "metadata": {},
     "output_type": "execute_result"
    }
   ],
   "source": [
    "# Check duplicates\n",
    "anime_df[['name', 'type']].duplicated().any()"
   ]
  },
  {
   "cell_type": "markdown",
   "id": "e54d2dc6-76a1-4c9a-aed8-5d73d4b6c9fd",
   "metadata": {
    "tags": []
   },
   "source": [
    "### Check if any abnormal feature values [anime_df]"
   ]
  },
  {
   "cell_type": "code",
   "execution_count": 542,
   "id": "34c240dc-9cee-4ba2-8811-ae3906b6ba28",
   "metadata": {
    "tags": []
   },
   "outputs": [
    {
     "name": "stdout",
     "output_type": "stream",
     "text": [
      "<class 'pandas.core.frame.DataFrame'>\n",
      "Index: 11911 entries, 0 to 12293\n",
      "Data columns (total 7 columns):\n",
      " #   Column    Non-Null Count  Dtype   \n",
      "---  ------    --------------  -----   \n",
      " 0   anime_id  11911 non-null  int64   \n",
      " 1   name      11911 non-null  string  \n",
      " 2   genre     11911 non-null  string  \n",
      " 3   type      11911 non-null  category\n",
      " 4   episodes  11911 non-null  int64   \n",
      " 5   rating    11911 non-null  float64 \n",
      " 6   members   11911 non-null  int64   \n",
      "dtypes: category(1), float64(1), int64(3), string(2)\n",
      "memory usage: 663.2 KB\n"
     ]
    }
   ],
   "source": [
    "anime_df.info()"
   ]
  },
  {
   "cell_type": "code",
   "execution_count": 543,
   "id": "2dc735dc-d87c-42d1-9ebe-e96f36be4b57",
   "metadata": {
    "tags": []
   },
   "outputs": [
    {
     "data": {
      "image/png": "[encoded data removed]",
      "text/plain": [
       "<Figure size 640x480 with 2 Axes>"
      ]
     },
     "metadata": {},
     "output_type": "display_data"
    }
   ],
   "source": [
    "# Check feature outliers\n",
    "fig, (ax1, ax2) = plt.subplots(1, 2, constrained_layout=True)\n",
    "anime_df['type'].value_counts().plot(kind='barh', ax=ax1, xlabel='counts')\n",
    "anime_df['rating'].plot(kind='hist', ax = ax2, bins=10, xlabel='rating', ylabel='counts')\n",
    "plt.show()"
   ]
  },
  {
   "cell_type": "markdown",
   "id": "52ba98f7-1bfb-41f1-84b7-b9fb22d014f3",
   "metadata": {
    "tags": []
   },
   "source": [
    "Most of the anime are type OVA and TV. And most of the rating are between 5 to 7."
   ]
  },
  {
   "cell_type": "code",
   "execution_count": 544,
   "id": "9dc6890c-f2a9-4b39-9ffd-410d68069fd7",
   "metadata": {
    "tags": []
   },
   "outputs": [
    {
     "data": {
      "text/html": [
       "<div>\n",
       "<style scoped>\n",
       "    .dataframe tbody tr th:only-of-type {\n",
       "        vertical-align: middle;\n",
       "    }\n",
       "\n",
       "    .dataframe tbody tr th {\n",
       "        vertical-align: top;\n",
       "    }\n",
       "\n",
       "    .dataframe thead th {\n",
       "        text-align: right;\n",
       "    }\n",
       "</style>\n",
       "<table border=\"1\" class=\"dataframe\">\n",
       "  <thead>\n",
       "    <tr style=\"text-align: right;\">\n",
       "      <th></th>\n",
       "      <th>anime_id</th>\n",
       "      <th>episodes</th>\n",
       "      <th>rating</th>\n",
       "      <th>members</th>\n",
       "    </tr>\n",
       "  </thead>\n",
       "  <tbody>\n",
       "    <tr>\n",
       "      <th>count</th>\n",
       "      <td>11911.000000</td>\n",
       "      <td>11911.000000</td>\n",
       "      <td>11911.000000</td>\n",
       "      <td>1.191100e+04</td>\n",
       "    </tr>\n",
       "    <tr>\n",
       "      <th>mean</th>\n",
       "      <td>13526.981026</td>\n",
       "      <td>12.416506</td>\n",
       "      <td>6.481722</td>\n",
       "      <td>1.839268e+04</td>\n",
       "    </tr>\n",
       "    <tr>\n",
       "      <th>std</th>\n",
       "      <td>11173.497214</td>\n",
       "      <td>46.945266</td>\n",
       "      <td>1.021110</td>\n",
       "      <td>5.520147e+04</td>\n",
       "    </tr>\n",
       "    <tr>\n",
       "      <th>min</th>\n",
       "      <td>1.000000</td>\n",
       "      <td>1.000000</td>\n",
       "      <td>1.670000</td>\n",
       "      <td>1.200000e+01</td>\n",
       "    </tr>\n",
       "    <tr>\n",
       "      <th>25%</th>\n",
       "      <td>3364.500000</td>\n",
       "      <td>1.000000</td>\n",
       "      <td>5.890000</td>\n",
       "      <td>2.295000e+02</td>\n",
       "    </tr>\n",
       "    <tr>\n",
       "      <th>50%</th>\n",
       "      <td>9895.000000</td>\n",
       "      <td>2.000000</td>\n",
       "      <td>6.570000</td>\n",
       "      <td>1.575000e+03</td>\n",
       "    </tr>\n",
       "    <tr>\n",
       "      <th>75%</th>\n",
       "      <td>23577.000000</td>\n",
       "      <td>12.000000</td>\n",
       "      <td>7.185000</td>\n",
       "      <td>9.694000e+03</td>\n",
       "    </tr>\n",
       "    <tr>\n",
       "      <th>max</th>\n",
       "      <td>34519.000000</td>\n",
       "      <td>1818.000000</td>\n",
       "      <td>10.000000</td>\n",
       "      <td>1.013917e+06</td>\n",
       "    </tr>\n",
       "  </tbody>\n",
       "</table>\n",
       "</div>"
      ],
      "text/plain": [
       "           anime_id      episodes        rating       members\n",
       "count  11911.000000  11911.000000  11911.000000  1.191100e+04\n",
       "mean   13526.981026     12.416506      6.481722  1.839268e+04\n",
       "std    11173.497214     46.945266      1.021110  5.520147e+04\n",
       "min        1.000000      1.000000      1.670000  1.200000e+01\n",
       "25%     3364.500000      1.000000      5.890000  2.295000e+02\n",
       "50%     9895.000000      2.000000      6.570000  1.575000e+03\n",
       "75%    23577.000000     12.000000      7.185000  9.694000e+03\n",
       "max    34519.000000   1818.000000     10.000000  1.013917e+06"
      ]
     },
     "execution_count": 544,
     "metadata": {},
     "output_type": "execute_result"
    }
   ],
   "source": [
    "anime_df.describe()"
   ]
  },
  {
   "cell_type": "code",
   "execution_count": 545,
   "id": "47aa906b-b488-4fad-b2f3-880ef8bede1d",
   "metadata": {
    "tags": []
   },
   "outputs": [
    {
     "data": {
      "image/png": "[encoded data removed]",
      "text/plain": [
       "<Figure size 640x480 with 1 Axes>"
      ]
     },
     "metadata": {},
     "output_type": "display_data"
    }
   ],
   "source": [
    "anime_df['episodes'].plot(kind='hist', bins=20, log= True, xlabel='number of episodes', ylabel='counts (log)')\n",
    "plt.show()"
   ]
  },
  {
   "cell_type": "markdown",
   "id": "90f3b6db-e99b-4694-8ab6-74850e380f4f",
   "metadata": {
    "tags": []
   },
   "source": [
    "Most of the anime are under 250 episodes. And we have some outliers that has 500 or more episodes."
   ]
  },
  {
   "cell_type": "code",
   "execution_count": 546,
   "id": "d243f350-68cb-4fa5-a7f2-282274c57e83",
   "metadata": {
    "tags": []
   },
   "outputs": [
    {
     "data": {
      "image/png": "[encoded data removed]",
      "text/plain": [
       "<Figure size 640x480 with 1 Axes>"
      ]
     },
     "metadata": {},
     "output_type": "display_data"
    }
   ],
   "source": [
    "anime_df['members'].plot(kind='hist', bins=20, log=True, xlabel='members count', ylabel='counts (log)')\n",
    "plt.show()"
   ]
  },
  {
   "cell_type": "markdown",
   "id": "b181b78d-6262-41be-94bb-f50b846afaa6",
   "metadata": {},
   "source": [
    "Most anime has lower number of member counts and the graph skew to the right."
   ]
  },
  {
   "cell_type": "code",
   "execution_count": 547,
   "id": "12e0df9c-2cfb-4a17-9cbd-50c3bdde7fa7",
   "metadata": {
    "tags": []
   },
   "outputs": [
    {
     "data": {
      "text/html": [
       "<div>\n",
       "<style scoped>\n",
       "    .dataframe tbody tr th:only-of-type {\n",
       "        vertical-align: middle;\n",
       "    }\n",
       "\n",
       "    .dataframe tbody tr th {\n",
       "        vertical-align: top;\n",
       "    }\n",
       "\n",
       "    .dataframe thead th {\n",
       "        text-align: right;\n",
       "    }\n",
       "</style>\n",
       "<table border=\"1\" class=\"dataframe\">\n",
       "  <thead>\n",
       "    <tr style=\"text-align: right;\">\n",
       "      <th></th>\n",
       "      <th>anime_id</th>\n",
       "      <th>name</th>\n",
       "      <th>genre</th>\n",
       "      <th>type</th>\n",
       "      <th>episodes</th>\n",
       "      <th>rating</th>\n",
       "      <th>members</th>\n",
       "    </tr>\n",
       "  </thead>\n",
       "  <tbody>\n",
       "    <tr>\n",
       "      <th>929</th>\n",
       "      <td>2471</td>\n",
       "      <td>Doraemon (1979)</td>\n",
       "      <td>Adventure, Comedy, Fantasy, Kids, Sci-Fi, Shounen</td>\n",
       "      <td>TV</td>\n",
       "      <td>1787</td>\n",
       "      <td>7.76</td>\n",
       "      <td>14233</td>\n",
       "    </tr>\n",
       "    <tr>\n",
       "      <th>5360</th>\n",
       "      <td>6277</td>\n",
       "      <td>Manga Nippon Mukashibanashi (1976)</td>\n",
       "      <td>Fantasy, Historical</td>\n",
       "      <td>TV</td>\n",
       "      <td>1471</td>\n",
       "      <td>6.48</td>\n",
       "      <td>406</td>\n",
       "    </tr>\n",
       "    <tr>\n",
       "      <th>6296</th>\n",
       "      <td>12393</td>\n",
       "      <td>Oyako Club</td>\n",
       "      <td>Comedy, Slice of Life</td>\n",
       "      <td>TV</td>\n",
       "      <td>1818</td>\n",
       "      <td>6.18</td>\n",
       "      <td>160</td>\n",
       "    </tr>\n",
       "    <tr>\n",
       "      <th>6580</th>\n",
       "      <td>8213</td>\n",
       "      <td>Hoka Hoka Kazoku</td>\n",
       "      <td>Comedy</td>\n",
       "      <td>TV</td>\n",
       "      <td>1428</td>\n",
       "      <td>6.05</td>\n",
       "      <td>194</td>\n",
       "    </tr>\n",
       "    <tr>\n",
       "      <th>9242</th>\n",
       "      <td>32448</td>\n",
       "      <td>Kirin Ashita no Calendar</td>\n",
       "      <td>Historical, Kids</td>\n",
       "      <td>TV</td>\n",
       "      <td>1306</td>\n",
       "      <td>6.43</td>\n",
       "      <td>59</td>\n",
       "    </tr>\n",
       "  </tbody>\n",
       "</table>\n",
       "</div>"
      ],
      "text/plain": [
       "      anime_id                                name  \\\n",
       "929       2471                     Doraemon (1979)   \n",
       "5360      6277  Manga Nippon Mukashibanashi (1976)   \n",
       "6296     12393                          Oyako Club   \n",
       "6580      8213                    Hoka Hoka Kazoku   \n",
       "9242     32448            Kirin Ashita no Calendar   \n",
       "\n",
       "                                                  genre type  episodes  \\\n",
       "929   Adventure, Comedy, Fantasy, Kids, Sci-Fi, Shounen   TV      1787   \n",
       "5360                                Fantasy, Historical   TV      1471   \n",
       "6296                              Comedy, Slice of Life   TV      1818   \n",
       "6580                                             Comedy   TV      1428   \n",
       "9242                                   Historical, Kids   TV      1306   \n",
       "\n",
       "      rating  members  \n",
       "929     7.76    14233  \n",
       "5360    6.48      406  \n",
       "6296    6.18      160  \n",
       "6580    6.05      194  \n",
       "9242    6.43       59  "
      ]
     },
     "execution_count": 547,
     "metadata": {},
     "output_type": "execute_result"
    }
   ],
   "source": [
    "anime_df[anime_df['episodes'] > 1000].head()"
   ]
  },
  {
   "cell_type": "markdown",
   "id": "28edade3-c2f2-44ec-8dba-461708811bfb",
   "metadata": {
    "tags": []
   },
   "source": [
    "Upon spot-checking anime with over 1,000 episodes, the episode counts appear to be accurate."
   ]
  },
  {
   "cell_type": "code",
   "execution_count": 548,
   "id": "cc76def2-0e8e-4bde-8c26-56540f5d033c",
   "metadata": {
    "tags": []
   },
   "outputs": [
    {
     "data": {
      "text/html": [
       "<div>\n",
       "<style scoped>\n",
       "    .dataframe tbody tr th:only-of-type {\n",
       "        vertical-align: middle;\n",
       "    }\n",
       "\n",
       "    .dataframe tbody tr th {\n",
       "        vertical-align: top;\n",
       "    }\n",
       "\n",
       "    .dataframe thead th {\n",
       "        text-align: right;\n",
       "    }\n",
       "</style>\n",
       "<table border=\"1\" class=\"dataframe\">\n",
       "  <thead>\n",
       "    <tr style=\"text-align: right;\">\n",
       "      <th></th>\n",
       "      <th>anime_id</th>\n",
       "      <th>name</th>\n",
       "      <th>genre</th>\n",
       "      <th>type</th>\n",
       "      <th>episodes</th>\n",
       "      <th>rating</th>\n",
       "      <th>members</th>\n",
       "    </tr>\n",
       "  </thead>\n",
       "  <tbody>\n",
       "    <tr>\n",
       "      <th>0</th>\n",
       "      <td>32281</td>\n",
       "      <td>Kimi no Na wa.</td>\n",
       "      <td>Drama, Romance, School, Supernatural</td>\n",
       "      <td>Movie</td>\n",
       "      <td>1</td>\n",
       "      <td>9.37</td>\n",
       "      <td>200630</td>\n",
       "    </tr>\n",
       "    <tr>\n",
       "      <th>1</th>\n",
       "      <td>5114</td>\n",
       "      <td>Fullmetal Alchemist: Brotherhood</td>\n",
       "      <td>Action, Adventure, Drama, Fantasy, Magic, Mili...</td>\n",
       "      <td>TV</td>\n",
       "      <td>64</td>\n",
       "      <td>9.26</td>\n",
       "      <td>793665</td>\n",
       "    </tr>\n",
       "    <tr>\n",
       "      <th>2</th>\n",
       "      <td>28977</td>\n",
       "      <td>Gintama°</td>\n",
       "      <td>Action, Comedy, Historical, Parody, Samurai, S...</td>\n",
       "      <td>TV</td>\n",
       "      <td>51</td>\n",
       "      <td>9.25</td>\n",
       "      <td>114262</td>\n",
       "    </tr>\n",
       "    <tr>\n",
       "      <th>3</th>\n",
       "      <td>9253</td>\n",
       "      <td>Steins;Gate</td>\n",
       "      <td>Sci-Fi, Thriller</td>\n",
       "      <td>TV</td>\n",
       "      <td>24</td>\n",
       "      <td>9.17</td>\n",
       "      <td>673572</td>\n",
       "    </tr>\n",
       "    <tr>\n",
       "      <th>4</th>\n",
       "      <td>9969</td>\n",
       "      <td>Gintama&amp;#039;</td>\n",
       "      <td>Action, Comedy, Historical, Parody, Samurai, S...</td>\n",
       "      <td>TV</td>\n",
       "      <td>51</td>\n",
       "      <td>9.16</td>\n",
       "      <td>151266</td>\n",
       "    </tr>\n",
       "  </tbody>\n",
       "</table>\n",
       "</div>"
      ],
      "text/plain": [
       "   anime_id                              name  \\\n",
       "0     32281                    Kimi no Na wa.   \n",
       "1      5114  Fullmetal Alchemist: Brotherhood   \n",
       "2     28977                          Gintama°   \n",
       "3      9253                       Steins;Gate   \n",
       "4      9969                     Gintama&#039;   \n",
       "\n",
       "                                               genre   type  episodes  rating  \\\n",
       "0               Drama, Romance, School, Supernatural  Movie         1    9.37   \n",
       "1  Action, Adventure, Drama, Fantasy, Magic, Mili...     TV        64    9.26   \n",
       "2  Action, Comedy, Historical, Parody, Samurai, S...     TV        51    9.25   \n",
       "3                                   Sci-Fi, Thriller     TV        24    9.17   \n",
       "4  Action, Comedy, Historical, Parody, Samurai, S...     TV        51    9.16   \n",
       "\n",
       "   members  \n",
       "0   200630  \n",
       "1   793665  \n",
       "2   114262  \n",
       "3   673572  \n",
       "4   151266  "
      ]
     },
     "execution_count": 548,
     "metadata": {},
     "output_type": "execute_result"
    }
   ],
   "source": [
    "anime_df[anime_df['members'] > 100000].head()"
   ]
  },
  {
   "cell_type": "markdown",
   "id": "49679cac-a972-45c2-ba1c-0ebf8649f3ad",
   "metadata": {},
   "source": [
    "Upon spot-checking anime with over 100,000 members, the number appear to be accurate as well since those are very popular and well know anime."
   ]
  },
  {
   "cell_type": "markdown",
   "id": "da4409bd-4589-4bcd-9a25-88bad098ff20",
   "metadata": {
    "tags": []
   },
   "source": [
    "### Split each genre into columns [anime_df]"
   ]
  },
  {
   "cell_type": "markdown",
   "id": "f6c47ca6-88f3-43bf-9022-c506d0c9a4fc",
   "metadata": {},
   "source": [
    "Since the genre column contains arrays of values, each unique genre was split into its own column with boolean values indicating the presence or absence of that genre for each anime."
   ]
  },
  {
   "cell_type": "code",
   "execution_count": 549,
   "id": "724cd1a2-4d47-4817-915a-e6b06b3990fa",
   "metadata": {
    "tags": []
   },
   "outputs": [
    {
     "data": {
      "text/html": [
       "<div>\n",
       "<style scoped>\n",
       "    .dataframe tbody tr th:only-of-type {\n",
       "        vertical-align: middle;\n",
       "    }\n",
       "\n",
       "    .dataframe tbody tr th {\n",
       "        vertical-align: top;\n",
       "    }\n",
       "\n",
       "    .dataframe thead th {\n",
       "        text-align: right;\n",
       "    }\n",
       "</style>\n",
       "<table border=\"1\" class=\"dataframe\">\n",
       "  <thead>\n",
       "    <tr style=\"text-align: right;\">\n",
       "      <th></th>\n",
       "      <th>anime_id</th>\n",
       "      <th>name</th>\n",
       "      <th>type</th>\n",
       "      <th>episodes</th>\n",
       "      <th>rating</th>\n",
       "      <th>members</th>\n",
       "      <th>Action</th>\n",
       "      <th>Adventure</th>\n",
       "      <th>Cars</th>\n",
       "      <th>Comedy</th>\n",
       "      <th>...</th>\n",
       "      <th>Shounen Ai</th>\n",
       "      <th>Slice of Life</th>\n",
       "      <th>Space</th>\n",
       "      <th>Sports</th>\n",
       "      <th>Super Power</th>\n",
       "      <th>Supernatural</th>\n",
       "      <th>Thriller</th>\n",
       "      <th>Vampire</th>\n",
       "      <th>Yaoi</th>\n",
       "      <th>Yuri</th>\n",
       "    </tr>\n",
       "  </thead>\n",
       "  <tbody>\n",
       "    <tr>\n",
       "      <th>0</th>\n",
       "      <td>32281</td>\n",
       "      <td>Kimi no Na wa.</td>\n",
       "      <td>Movie</td>\n",
       "      <td>1</td>\n",
       "      <td>9.37</td>\n",
       "      <td>200630</td>\n",
       "      <td>0</td>\n",
       "      <td>0</td>\n",
       "      <td>0</td>\n",
       "      <td>0</td>\n",
       "      <td>...</td>\n",
       "      <td>0</td>\n",
       "      <td>0</td>\n",
       "      <td>0</td>\n",
       "      <td>0</td>\n",
       "      <td>0</td>\n",
       "      <td>1</td>\n",
       "      <td>0</td>\n",
       "      <td>0</td>\n",
       "      <td>0</td>\n",
       "      <td>0</td>\n",
       "    </tr>\n",
       "    <tr>\n",
       "      <th>1</th>\n",
       "      <td>5114</td>\n",
       "      <td>Fullmetal Alchemist: Brotherhood</td>\n",
       "      <td>TV</td>\n",
       "      <td>64</td>\n",
       "      <td>9.26</td>\n",
       "      <td>793665</td>\n",
       "      <td>1</td>\n",
       "      <td>1</td>\n",
       "      <td>0</td>\n",
       "      <td>0</td>\n",
       "      <td>...</td>\n",
       "      <td>0</td>\n",
       "      <td>0</td>\n",
       "      <td>0</td>\n",
       "      <td>0</td>\n",
       "      <td>0</td>\n",
       "      <td>0</td>\n",
       "      <td>0</td>\n",
       "      <td>0</td>\n",
       "      <td>0</td>\n",
       "      <td>0</td>\n",
       "    </tr>\n",
       "    <tr>\n",
       "      <th>2</th>\n",
       "      <td>28977</td>\n",
       "      <td>Gintama°</td>\n",
       "      <td>TV</td>\n",
       "      <td>51</td>\n",
       "      <td>9.25</td>\n",
       "      <td>114262</td>\n",
       "      <td>1</td>\n",
       "      <td>0</td>\n",
       "      <td>0</td>\n",
       "      <td>1</td>\n",
       "      <td>...</td>\n",
       "      <td>0</td>\n",
       "      <td>0</td>\n",
       "      <td>0</td>\n",
       "      <td>0</td>\n",
       "      <td>0</td>\n",
       "      <td>0</td>\n",
       "      <td>0</td>\n",
       "      <td>0</td>\n",
       "      <td>0</td>\n",
       "      <td>0</td>\n",
       "    </tr>\n",
       "    <tr>\n",
       "      <th>3</th>\n",
       "      <td>9253</td>\n",
       "      <td>Steins;Gate</td>\n",
       "      <td>TV</td>\n",
       "      <td>24</td>\n",
       "      <td>9.17</td>\n",
       "      <td>673572</td>\n",
       "      <td>0</td>\n",
       "      <td>0</td>\n",
       "      <td>0</td>\n",
       "      <td>0</td>\n",
       "      <td>...</td>\n",
       "      <td>0</td>\n",
       "      <td>0</td>\n",
       "      <td>0</td>\n",
       "      <td>0</td>\n",
       "      <td>0</td>\n",
       "      <td>0</td>\n",
       "      <td>1</td>\n",
       "      <td>0</td>\n",
       "      <td>0</td>\n",
       "      <td>0</td>\n",
       "    </tr>\n",
       "    <tr>\n",
       "      <th>4</th>\n",
       "      <td>9969</td>\n",
       "      <td>Gintama&amp;#039;</td>\n",
       "      <td>TV</td>\n",
       "      <td>51</td>\n",
       "      <td>9.16</td>\n",
       "      <td>151266</td>\n",
       "      <td>1</td>\n",
       "      <td>0</td>\n",
       "      <td>0</td>\n",
       "      <td>1</td>\n",
       "      <td>...</td>\n",
       "      <td>0</td>\n",
       "      <td>0</td>\n",
       "      <td>0</td>\n",
       "      <td>0</td>\n",
       "      <td>0</td>\n",
       "      <td>0</td>\n",
       "      <td>0</td>\n",
       "      <td>0</td>\n",
       "      <td>0</td>\n",
       "      <td>0</td>\n",
       "    </tr>\n",
       "    <tr>\n",
       "      <th>...</th>\n",
       "      <td>...</td>\n",
       "      <td>...</td>\n",
       "      <td>...</td>\n",
       "      <td>...</td>\n",
       "      <td>...</td>\n",
       "      <td>...</td>\n",
       "      <td>...</td>\n",
       "      <td>...</td>\n",
       "      <td>...</td>\n",
       "      <td>...</td>\n",
       "      <td>...</td>\n",
       "      <td>...</td>\n",
       "      <td>...</td>\n",
       "      <td>...</td>\n",
       "      <td>...</td>\n",
       "      <td>...</td>\n",
       "      <td>...</td>\n",
       "      <td>...</td>\n",
       "      <td>...</td>\n",
       "      <td>...</td>\n",
       "      <td>...</td>\n",
       "    </tr>\n",
       "    <tr>\n",
       "      <th>12289</th>\n",
       "      <td>9316</td>\n",
       "      <td>Toushindai My Lover: Minami tai Mecha-Minami</td>\n",
       "      <td>OVA</td>\n",
       "      <td>1</td>\n",
       "      <td>4.15</td>\n",
       "      <td>211</td>\n",
       "      <td>0</td>\n",
       "      <td>0</td>\n",
       "      <td>0</td>\n",
       "      <td>0</td>\n",
       "      <td>...</td>\n",
       "      <td>0</td>\n",
       "      <td>0</td>\n",
       "      <td>0</td>\n",
       "      <td>0</td>\n",
       "      <td>0</td>\n",
       "      <td>0</td>\n",
       "      <td>0</td>\n",
       "      <td>0</td>\n",
       "      <td>0</td>\n",
       "      <td>0</td>\n",
       "    </tr>\n",
       "    <tr>\n",
       "      <th>12290</th>\n",
       "      <td>5543</td>\n",
       "      <td>Under World</td>\n",
       "      <td>OVA</td>\n",
       "      <td>1</td>\n",
       "      <td>4.28</td>\n",
       "      <td>183</td>\n",
       "      <td>0</td>\n",
       "      <td>0</td>\n",
       "      <td>0</td>\n",
       "      <td>0</td>\n",
       "      <td>...</td>\n",
       "      <td>0</td>\n",
       "      <td>0</td>\n",
       "      <td>0</td>\n",
       "      <td>0</td>\n",
       "      <td>0</td>\n",
       "      <td>0</td>\n",
       "      <td>0</td>\n",
       "      <td>0</td>\n",
       "      <td>0</td>\n",
       "      <td>0</td>\n",
       "    </tr>\n",
       "    <tr>\n",
       "      <th>12291</th>\n",
       "      <td>5621</td>\n",
       "      <td>Violence Gekiga David no Hoshi</td>\n",
       "      <td>OVA</td>\n",
       "      <td>4</td>\n",
       "      <td>4.88</td>\n",
       "      <td>219</td>\n",
       "      <td>0</td>\n",
       "      <td>0</td>\n",
       "      <td>0</td>\n",
       "      <td>0</td>\n",
       "      <td>...</td>\n",
       "      <td>0</td>\n",
       "      <td>0</td>\n",
       "      <td>0</td>\n",
       "      <td>0</td>\n",
       "      <td>0</td>\n",
       "      <td>0</td>\n",
       "      <td>0</td>\n",
       "      <td>0</td>\n",
       "      <td>0</td>\n",
       "      <td>0</td>\n",
       "    </tr>\n",
       "    <tr>\n",
       "      <th>12292</th>\n",
       "      <td>6133</td>\n",
       "      <td>Violence Gekiga Shin David no Hoshi: Inma Dens...</td>\n",
       "      <td>OVA</td>\n",
       "      <td>1</td>\n",
       "      <td>4.98</td>\n",
       "      <td>175</td>\n",
       "      <td>0</td>\n",
       "      <td>0</td>\n",
       "      <td>0</td>\n",
       "      <td>0</td>\n",
       "      <td>...</td>\n",
       "      <td>0</td>\n",
       "      <td>0</td>\n",
       "      <td>0</td>\n",
       "      <td>0</td>\n",
       "      <td>0</td>\n",
       "      <td>0</td>\n",
       "      <td>0</td>\n",
       "      <td>0</td>\n",
       "      <td>0</td>\n",
       "      <td>0</td>\n",
       "    </tr>\n",
       "    <tr>\n",
       "      <th>12293</th>\n",
       "      <td>26081</td>\n",
       "      <td>Yasuji no Pornorama: Yacchimae!!</td>\n",
       "      <td>Movie</td>\n",
       "      <td>1</td>\n",
       "      <td>5.46</td>\n",
       "      <td>142</td>\n",
       "      <td>0</td>\n",
       "      <td>0</td>\n",
       "      <td>0</td>\n",
       "      <td>0</td>\n",
       "      <td>...</td>\n",
       "      <td>0</td>\n",
       "      <td>0</td>\n",
       "      <td>0</td>\n",
       "      <td>0</td>\n",
       "      <td>0</td>\n",
       "      <td>0</td>\n",
       "      <td>0</td>\n",
       "      <td>0</td>\n",
       "      <td>0</td>\n",
       "      <td>0</td>\n",
       "    </tr>\n",
       "  </tbody>\n",
       "</table>\n",
       "<p>11911 rows × 49 columns</p>\n",
       "</div>"
      ],
      "text/plain": [
       "       anime_id                                               name   type  \\\n",
       "0         32281                                     Kimi no Na wa.  Movie   \n",
       "1          5114                   Fullmetal Alchemist: Brotherhood     TV   \n",
       "2         28977                                           Gintama°     TV   \n",
       "3          9253                                        Steins;Gate     TV   \n",
       "4          9969                                      Gintama&#039;     TV   \n",
       "...         ...                                                ...    ...   \n",
       "12289      9316       Toushindai My Lover: Minami tai Mecha-Minami    OVA   \n",
       "12290      5543                                        Under World    OVA   \n",
       "12291      5621                     Violence Gekiga David no Hoshi    OVA   \n",
       "12292      6133  Violence Gekiga Shin David no Hoshi: Inma Dens...    OVA   \n",
       "12293     26081                   Yasuji no Pornorama: Yacchimae!!  Movie   \n",
       "\n",
       "       episodes  rating  members  Action  Adventure  Cars  Comedy  ...  \\\n",
       "0             1    9.37   200630       0          0     0       0  ...   \n",
       "1            64    9.26   793665       1          1     0       0  ...   \n",
       "2            51    9.25   114262       1          0     0       1  ...   \n",
       "3            24    9.17   673572       0          0     0       0  ...   \n",
       "4            51    9.16   151266       1          0     0       1  ...   \n",
       "...         ...     ...      ...     ...        ...   ...     ...  ...   \n",
       "12289         1    4.15      211       0          0     0       0  ...   \n",
       "12290         1    4.28      183       0          0     0       0  ...   \n",
       "12291         4    4.88      219       0          0     0       0  ...   \n",
       "12292         1    4.98      175       0          0     0       0  ...   \n",
       "12293         1    5.46      142       0          0     0       0  ...   \n",
       "\n",
       "       Shounen Ai  Slice of Life  Space  Sports  Super Power  Supernatural  \\\n",
       "0               0              0      0       0            0             1   \n",
       "1               0              0      0       0            0             0   \n",
       "2               0              0      0       0            0             0   \n",
       "3               0              0      0       0            0             0   \n",
       "4               0              0      0       0            0             0   \n",
       "...           ...            ...    ...     ...          ...           ...   \n",
       "12289           0              0      0       0            0             0   \n",
       "12290           0              0      0       0            0             0   \n",
       "12291           0              0      0       0            0             0   \n",
       "12292           0              0      0       0            0             0   \n",
       "12293           0              0      0       0            0             0   \n",
       "\n",
       "       Thriller  Vampire  Yaoi  Yuri  \n",
       "0             0        0     0     0  \n",
       "1             0        0     0     0  \n",
       "2             0        0     0     0  \n",
       "3             1        0     0     0  \n",
       "4             0        0     0     0  \n",
       "...         ...      ...   ...   ...  \n",
       "12289         0        0     0     0  \n",
       "12290         0        0     0     0  \n",
       "12291         0        0     0     0  \n",
       "12292         0        0     0     0  \n",
       "12293         0        0     0     0  \n",
       "\n",
       "[11911 rows x 49 columns]"
      ]
     },
     "execution_count": 549,
     "metadata": {},
     "output_type": "execute_result"
    }
   ],
   "source": [
    "genre_columns = anime_df['genre'].str.get_dummies(sep=', ')\n",
    "anime_df = pd.concat([anime_df, genre_columns], axis=1)\n",
    "anime_df = anime_df.drop('genre', axis=1)\n",
    "anime_df"
   ]
  },
  {
   "cell_type": "markdown",
   "id": "06b936c0-1614-423b-8fd7-803213968689",
   "metadata": {},
   "source": [
    "## Quick look at rating_df"
   ]
  },
  {
   "cell_type": "markdown",
   "id": "d4a1684a-ec14-46fd-9b3c-be91114a5278",
   "metadata": {
    "tags": []
   },
   "source": [
    "### Check missing value [rating_df]"
   ]
  },
  {
   "cell_type": "code",
   "execution_count": 550,
   "id": "9b4af48a-0933-4966-b146-16834480da0a",
   "metadata": {
    "tags": []
   },
   "outputs": [
    {
     "name": "stdout",
     "output_type": "stream",
     "text": [
      "<class 'pandas.core.frame.DataFrame'>\n",
      "RangeIndex: 7813737 entries, 0 to 7813736\n",
      "Data columns (total 3 columns):\n",
      " #   Column    Dtype\n",
      "---  ------    -----\n",
      " 0   user_id   int64\n",
      " 1   anime_id  int64\n",
      " 2   rating    int64\n",
      "dtypes: int64(3)\n",
      "memory usage: 178.8 MB\n",
      "None\n"
     ]
    },
    {
     "data": {
      "text/html": [
       "<div>\n",
       "<style scoped>\n",
       "    .dataframe tbody tr th:only-of-type {\n",
       "        vertical-align: middle;\n",
       "    }\n",
       "\n",
       "    .dataframe tbody tr th {\n",
       "        vertical-align: top;\n",
       "    }\n",
       "\n",
       "    .dataframe thead th {\n",
       "        text-align: right;\n",
       "    }\n",
       "</style>\n",
       "<table border=\"1\" class=\"dataframe\">\n",
       "  <thead>\n",
       "    <tr style=\"text-align: right;\">\n",
       "      <th></th>\n",
       "      <th>user_id</th>\n",
       "      <th>anime_id</th>\n",
       "      <th>rating</th>\n",
       "    </tr>\n",
       "  </thead>\n",
       "  <tbody>\n",
       "    <tr>\n",
       "      <th>0</th>\n",
       "      <td>1</td>\n",
       "      <td>20</td>\n",
       "      <td>-1</td>\n",
       "    </tr>\n",
       "    <tr>\n",
       "      <th>1</th>\n",
       "      <td>1</td>\n",
       "      <td>24</td>\n",
       "      <td>-1</td>\n",
       "    </tr>\n",
       "    <tr>\n",
       "      <th>2</th>\n",
       "      <td>1</td>\n",
       "      <td>79</td>\n",
       "      <td>-1</td>\n",
       "    </tr>\n",
       "    <tr>\n",
       "      <th>3</th>\n",
       "      <td>1</td>\n",
       "      <td>226</td>\n",
       "      <td>-1</td>\n",
       "    </tr>\n",
       "    <tr>\n",
       "      <th>4</th>\n",
       "      <td>1</td>\n",
       "      <td>241</td>\n",
       "      <td>-1</td>\n",
       "    </tr>\n",
       "  </tbody>\n",
       "</table>\n",
       "</div>"
      ],
      "text/plain": [
       "   user_id  anime_id  rating\n",
       "0        1        20      -1\n",
       "1        1        24      -1\n",
       "2        1        79      -1\n",
       "3        1       226      -1\n",
       "4        1       241      -1"
      ]
     },
     "execution_count": 550,
     "metadata": {},
     "output_type": "execute_result"
    }
   ],
   "source": [
    "#Cleaning for rating\n",
    "print(rating_df.info())\n",
    "rating_df.head()"
   ]
  },
  {
   "cell_type": "code",
   "execution_count": 551,
   "id": "feef644b-74d0-41ba-96cd-d429280681f9",
   "metadata": {
    "tags": []
   },
   "outputs": [
    {
     "data": {
      "text/plain": [
       "user_id     0\n",
       "anime_id    0\n",
       "rating      0\n",
       "dtype: int64"
      ]
     },
     "execution_count": 551,
     "metadata": {},
     "output_type": "execute_result"
    }
   ],
   "source": [
    "rating_df.isna().sum()"
   ]
  },
  {
   "cell_type": "markdown",
   "id": "677cabac-b361-43cd-b687-72350f609fe6",
   "metadata": {
    "tags": []
   },
   "source": [
    "### Drop duplicates"
   ]
  },
  {
   "cell_type": "code",
   "execution_count": 552,
   "id": "7f5ea4c8-251a-4ac5-818e-f46a5d9d39c0",
   "metadata": {
    "tags": []
   },
   "outputs": [
    {
     "data": {
      "text/html": [
       "<div>\n",
       "<style scoped>\n",
       "    .dataframe tbody tr th:only-of-type {\n",
       "        vertical-align: middle;\n",
       "    }\n",
       "\n",
       "    .dataframe tbody tr th {\n",
       "        vertical-align: top;\n",
       "    }\n",
       "\n",
       "    .dataframe thead th {\n",
       "        text-align: right;\n",
       "    }\n",
       "</style>\n",
       "<table border=\"1\" class=\"dataframe\">\n",
       "  <thead>\n",
       "    <tr style=\"text-align: right;\">\n",
       "      <th></th>\n",
       "      <th>user_id</th>\n",
       "      <th>anime_id</th>\n",
       "      <th>rating</th>\n",
       "    </tr>\n",
       "  </thead>\n",
       "  <tbody>\n",
       "    <tr>\n",
       "      <th>4499258</th>\n",
       "      <td>42653</td>\n",
       "      <td>16498</td>\n",
       "      <td>8</td>\n",
       "    </tr>\n",
       "    <tr>\n",
       "      <th>4499316</th>\n",
       "      <td>42653</td>\n",
       "      <td>16498</td>\n",
       "      <td>8</td>\n",
       "    </tr>\n",
       "  </tbody>\n",
       "</table>\n",
       "</div>"
      ],
      "text/plain": [
       "         user_id  anime_id  rating\n",
       "4499258    42653     16498       8\n",
       "4499316    42653     16498       8"
      ]
     },
     "execution_count": 552,
     "metadata": {},
     "output_type": "execute_result"
    }
   ],
   "source": [
    "rating_df[rating_df.duplicated(keep=False)]"
   ]
  },
  {
   "cell_type": "markdown",
   "id": "543a389a-d67b-4f72-9f10-4bca1516eb66",
   "metadata": {
    "tags": []
   },
   "source": [
    "### Check feature value distributions [rating_df]¶"
   ]
  },
  {
   "cell_type": "code",
   "execution_count": 553,
   "id": "4027e171-740c-465a-b081-5781f36e0db0",
   "metadata": {
    "tags": []
   },
   "outputs": [
    {
     "data": {
      "image/png": "[encoded data removed]",
      "text/plain": [
       "<Figure size 640x480 with 1 Axes>"
      ]
     },
     "metadata": {},
     "output_type": "display_data"
    }
   ],
   "source": [
    "rating_df['rating'].plot(kind='hist', xlabel='rating', ylabel='count')\n",
    "plt.show()"
   ]
  },
  {
   "cell_type": "markdown",
   "id": "01c34638-e6ee-4046-a5fd-81422530e258",
   "metadata": {},
   "source": [
    "A lot of the ratings are in the range of 6 or above. We also see some record as -1 as rating value. This means the user watched the anime but didn't provide a rating."
   ]
  },
  {
   "cell_type": "code",
   "execution_count": 554,
   "id": "3f22ba23-a223-4bfe-b0e5-cf07261c21fc",
   "metadata": {
    "tags": []
   },
   "outputs": [
    {
     "data": {
      "text/plain": [
       "array([-1, 10,  8,  6,  9,  7,  3,  5,  4,  1,  2])"
      ]
     },
     "execution_count": 554,
     "metadata": {},
     "output_type": "execute_result"
    }
   ],
   "source": [
    "rating_df['rating'].unique()"
   ]
  },
  {
   "cell_type": "markdown",
   "id": "29b80572-2c8c-463f-8520-1649e1288744",
   "metadata": {},
   "source": [
    "## Add features to anime_df"
   ]
  },
  {
   "cell_type": "markdown",
   "id": "094f7f3a-e296-42c3-9b69-d1b5e91cec9e",
   "metadata": {},
   "source": [
    "Adding the follwing features to the anime_df for the next phase of the analysis:\n",
    "- number of reviews\n",
    "- number of views without reviews"
   ]
  },
  {
   "cell_type": "code",
   "execution_count": 555,
   "id": "3ffe1f4c-37b5-417b-90f6-4b7a0f17bcd8",
   "metadata": {
    "tags": []
   },
   "outputs": [
    {
     "data": {
      "text/plain": [
       "anime_id\n",
       "1    2060\n",
       "5    1137\n",
       "6    1692\n",
       "7     460\n",
       "8     105\n",
       "Name: views_without_review, dtype: int64"
      ]
     },
     "execution_count": 555,
     "metadata": {},
     "output_type": "execute_result"
    }
   ],
   "source": [
    "view_count_per_anime = rating_df[rating_df.rating == -1].groupby('anime_id')['user_id'].count()\n",
    "view_count_per_anime = view_count_per_anime.rename('views_without_review')\n",
    "view_count_per_anime.head()"
   ]
  },
  {
   "cell_type": "code",
   "execution_count": 556,
   "id": "a8ab79fc-24b9-4667-b1d5-18857ff658f3",
   "metadata": {
    "tags": []
   },
   "outputs": [
    {
     "data": {
      "text/plain": [
       "anime_id\n",
       "1    13449\n",
       "5     5790\n",
       "6     9385\n",
       "7     2169\n",
       "8      308\n",
       "Name: rating_counts, dtype: int64"
      ]
     },
     "execution_count": 556,
     "metadata": {},
     "output_type": "execute_result"
    }
   ],
   "source": [
    "rating_count_per_anime = rating_df[rating_df.rating >=0].groupby('anime_id')['user_id'].count()\n",
    "rating_count_per_anime = review_count_per_anime.rename('rating_counts')\n",
    "rating_count_per_anime.head()"
   ]
  },
  {
   "cell_type": "code",
   "execution_count": 557,
   "id": "76f86eeb-8a48-452e-ae10-a5dd1cb3206b",
   "metadata": {
    "tags": []
   },
   "outputs": [
    {
     "data": {
      "text/html": [
       "<div>\n",
       "<style scoped>\n",
       "    .dataframe tbody tr th:only-of-type {\n",
       "        vertical-align: middle;\n",
       "    }\n",
       "\n",
       "    .dataframe tbody tr th {\n",
       "        vertical-align: top;\n",
       "    }\n",
       "\n",
       "    .dataframe thead th {\n",
       "        text-align: right;\n",
       "    }\n",
       "</style>\n",
       "<table border=\"1\" class=\"dataframe\">\n",
       "  <thead>\n",
       "    <tr style=\"text-align: right;\">\n",
       "      <th></th>\n",
       "      <th>anime_id</th>\n",
       "      <th>name</th>\n",
       "      <th>type</th>\n",
       "      <th>episodes</th>\n",
       "      <th>rating</th>\n",
       "      <th>members</th>\n",
       "      <th>Action</th>\n",
       "      <th>Adventure</th>\n",
       "      <th>Cars</th>\n",
       "      <th>Comedy</th>\n",
       "      <th>...</th>\n",
       "      <th>Space</th>\n",
       "      <th>Sports</th>\n",
       "      <th>Super Power</th>\n",
       "      <th>Supernatural</th>\n",
       "      <th>Thriller</th>\n",
       "      <th>Vampire</th>\n",
       "      <th>Yaoi</th>\n",
       "      <th>Yuri</th>\n",
       "      <th>views_without_review</th>\n",
       "      <th>rating_counts</th>\n",
       "    </tr>\n",
       "  </thead>\n",
       "  <tbody>\n",
       "    <tr>\n",
       "      <th>0</th>\n",
       "      <td>32281</td>\n",
       "      <td>Kimi no Na wa.</td>\n",
       "      <td>Movie</td>\n",
       "      <td>1</td>\n",
       "      <td>9.37</td>\n",
       "      <td>200630</td>\n",
       "      <td>0</td>\n",
       "      <td>0</td>\n",
       "      <td>0</td>\n",
       "      <td>0</td>\n",
       "      <td>...</td>\n",
       "      <td>0</td>\n",
       "      <td>0</td>\n",
       "      <td>0</td>\n",
       "      <td>1</td>\n",
       "      <td>0</td>\n",
       "      <td>0</td>\n",
       "      <td>0</td>\n",
       "      <td>0</td>\n",
       "      <td>238.0</td>\n",
       "      <td>1961.0</td>\n",
       "    </tr>\n",
       "    <tr>\n",
       "      <th>1</th>\n",
       "      <td>5114</td>\n",
       "      <td>Fullmetal Alchemist: Brotherhood</td>\n",
       "      <td>TV</td>\n",
       "      <td>64</td>\n",
       "      <td>9.26</td>\n",
       "      <td>793665</td>\n",
       "      <td>1</td>\n",
       "      <td>1</td>\n",
       "      <td>0</td>\n",
       "      <td>0</td>\n",
       "      <td>...</td>\n",
       "      <td>0</td>\n",
       "      <td>0</td>\n",
       "      <td>0</td>\n",
       "      <td>0</td>\n",
       "      <td>0</td>\n",
       "      <td>0</td>\n",
       "      <td>0</td>\n",
       "      <td>0</td>\n",
       "      <td>3080.0</td>\n",
       "      <td>21494.0</td>\n",
       "    </tr>\n",
       "    <tr>\n",
       "      <th>2</th>\n",
       "      <td>28977</td>\n",
       "      <td>Gintama°</td>\n",
       "      <td>TV</td>\n",
       "      <td>51</td>\n",
       "      <td>9.25</td>\n",
       "      <td>114262</td>\n",
       "      <td>1</td>\n",
       "      <td>0</td>\n",
       "      <td>0</td>\n",
       "      <td>1</td>\n",
       "      <td>...</td>\n",
       "      <td>0</td>\n",
       "      <td>0</td>\n",
       "      <td>0</td>\n",
       "      <td>0</td>\n",
       "      <td>0</td>\n",
       "      <td>0</td>\n",
       "      <td>0</td>\n",
       "      <td>0</td>\n",
       "      <td>198.0</td>\n",
       "      <td>1188.0</td>\n",
       "    </tr>\n",
       "    <tr>\n",
       "      <th>3</th>\n",
       "      <td>9253</td>\n",
       "      <td>Steins;Gate</td>\n",
       "      <td>TV</td>\n",
       "      <td>24</td>\n",
       "      <td>9.17</td>\n",
       "      <td>673572</td>\n",
       "      <td>0</td>\n",
       "      <td>0</td>\n",
       "      <td>0</td>\n",
       "      <td>0</td>\n",
       "      <td>...</td>\n",
       "      <td>0</td>\n",
       "      <td>0</td>\n",
       "      <td>0</td>\n",
       "      <td>0</td>\n",
       "      <td>1</td>\n",
       "      <td>0</td>\n",
       "      <td>0</td>\n",
       "      <td>0</td>\n",
       "      <td>2132.0</td>\n",
       "      <td>17151.0</td>\n",
       "    </tr>\n",
       "    <tr>\n",
       "      <th>4</th>\n",
       "      <td>9969</td>\n",
       "      <td>Gintama&amp;#039;</td>\n",
       "      <td>TV</td>\n",
       "      <td>51</td>\n",
       "      <td>9.16</td>\n",
       "      <td>151266</td>\n",
       "      <td>1</td>\n",
       "      <td>0</td>\n",
       "      <td>0</td>\n",
       "      <td>1</td>\n",
       "      <td>...</td>\n",
       "      <td>0</td>\n",
       "      <td>0</td>\n",
       "      <td>0</td>\n",
       "      <td>0</td>\n",
       "      <td>0</td>\n",
       "      <td>0</td>\n",
       "      <td>0</td>\n",
       "      <td>0</td>\n",
       "      <td>558.0</td>\n",
       "      <td>3115.0</td>\n",
       "    </tr>\n",
       "  </tbody>\n",
       "</table>\n",
       "<p>5 rows × 51 columns</p>\n",
       "</div>"
      ],
      "text/plain": [
       "   anime_id                              name   type  episodes  rating  \\\n",
       "0     32281                    Kimi no Na wa.  Movie         1    9.37   \n",
       "1      5114  Fullmetal Alchemist: Brotherhood     TV        64    9.26   \n",
       "2     28977                          Gintama°     TV        51    9.25   \n",
       "3      9253                       Steins;Gate     TV        24    9.17   \n",
       "4      9969                     Gintama&#039;     TV        51    9.16   \n",
       "\n",
       "   members  Action  Adventure  Cars  Comedy  ...  Space  Sports  Super Power  \\\n",
       "0   200630       0          0     0       0  ...      0       0            0   \n",
       "1   793665       1          1     0       0  ...      0       0            0   \n",
       "2   114262       1          0     0       1  ...      0       0            0   \n",
       "3   673572       0          0     0       0  ...      0       0            0   \n",
       "4   151266       1          0     0       1  ...      0       0            0   \n",
       "\n",
       "   Supernatural  Thriller  Vampire  Yaoi  Yuri  views_without_review  \\\n",
       "0             1         0        0     0     0                 238.0   \n",
       "1             0         0        0     0     0                3080.0   \n",
       "2             0         0        0     0     0                 198.0   \n",
       "3             0         1        0     0     0                2132.0   \n",
       "4             0         0        0     0     0                 558.0   \n",
       "\n",
       "   rating_counts  \n",
       "0         1961.0  \n",
       "1        21494.0  \n",
       "2         1188.0  \n",
       "3        17151.0  \n",
       "4         3115.0  \n",
       "\n",
       "[5 rows x 51 columns]"
      ]
     },
     "execution_count": 557,
     "metadata": {},
     "output_type": "execute_result"
    }
   ],
   "source": [
    "anime_df = anime_df.join(view_count_per_anime, on='anime_id', how='left')\n",
    "anime_df = anime_df.join(rating_count_per_anime, on='anime_id', how='left')\n",
    "anime_df.head()"
   ]
  },
  {
   "cell_type": "code",
   "execution_count": 558,
   "id": "eb173a6b-2990-4433-992a-d7596306e305",
   "metadata": {
    "tags": []
   },
   "outputs": [],
   "source": [
    "anime_df.loc[:, 'views_without_review'] = anime_df.loc[:, 'views_without_review'].fillna(value=0)"
   ]
  },
  {
   "cell_type": "code",
   "execution_count": 559,
   "id": "c49a2a94-5766-49c0-a450-8c25e0d0b085",
   "metadata": {
    "tags": []
   },
   "outputs": [
    {
     "data": {
      "text/plain": [
       "rating\n",
       "2      327.750000\n",
       "3       11.282609\n",
       "4       15.436823\n",
       "5       25.164444\n",
       "6       90.466711\n",
       "7      504.675872\n",
       "8     2288.455345\n",
       "9     6089.489362\n",
       "10            NaN\n",
       "Name: rating_counts, dtype: float64"
      ]
     },
     "execution_count": 559,
     "metadata": {},
     "output_type": "execute_result"
    }
   ],
   "source": [
    "mean_rating_count_per_rating = anime_df.groupby(anime_df['rating'].apply(lambda x: round(x)))['rating_counts'].mean()\n",
    "mean_rating_count_per_rating"
   ]
  },
  {
   "cell_type": "code",
   "execution_count": 560,
   "id": "280c98a1-0327-4adf-bebc-8b1c06baedb6",
   "metadata": {
    "tags": []
   },
   "outputs": [],
   "source": [
    "for i in range(2,10):\n",
    "    anime_df.loc[round(anime_df.rating) == i, 'rating_counts'] = anime_df.loc[round(anime_df.rating) == i, 'rating_counts'].fillna(value=round(mean_rating_count_per_rating[i]))\n",
    "\n",
    "anime_df.loc[round(anime_df.rating) == 10, 'rating_counts'] = anime_df.loc[round(anime_df.rating) == 10, 'rating_counts'].fillna(value=1)\n"
   ]
  },
  {
   "cell_type": "code",
   "execution_count": 562,
   "id": "560e9b0b-d221-4002-aaa4-11ac5239269c",
   "metadata": {
    "tags": []
   },
   "outputs": [
    {
     "name": "stdout",
     "output_type": "stream",
     "text": [
      "<class 'pandas.core.frame.DataFrame'>\n",
      "Index: 11911 entries, 0 to 12293\n",
      "Data columns (total 51 columns):\n",
      " #   Column                Non-Null Count  Dtype   \n",
      "---  ------                --------------  -----   \n",
      " 0   anime_id              11911 non-null  int64   \n",
      " 1   name                  11911 non-null  string  \n",
      " 2   type                  11911 non-null  category\n",
      " 3   episodes              11911 non-null  int64   \n",
      " 4   rating                11911 non-null  float64 \n",
      " 5   members               11911 non-null  int64   \n",
      " 6   Action                11911 non-null  int64   \n",
      " 7   Adventure             11911 non-null  int64   \n",
      " 8   Cars                  11911 non-null  int64   \n",
      " 9   Comedy                11911 non-null  int64   \n",
      " 10  Dementia              11911 non-null  int64   \n",
      " 11  Demons                11911 non-null  int64   \n",
      " 12  Drama                 11911 non-null  int64   \n",
      " 13  Ecchi                 11911 non-null  int64   \n",
      " 14  Fantasy               11911 non-null  int64   \n",
      " 15  Game                  11911 non-null  int64   \n",
      " 16  Harem                 11911 non-null  int64   \n",
      " 17  Hentai                11911 non-null  int64   \n",
      " 18  Historical            11911 non-null  int64   \n",
      " 19  Horror                11911 non-null  int64   \n",
      " 20  Josei                 11911 non-null  int64   \n",
      " 21  Kids                  11911 non-null  int64   \n",
      " 22  Magic                 11911 non-null  int64   \n",
      " 23  Martial Arts          11911 non-null  int64   \n",
      " 24  Mecha                 11911 non-null  int64   \n",
      " 25  Military              11911 non-null  int64   \n",
      " 26  Music                 11911 non-null  int64   \n",
      " 27  Mystery               11911 non-null  int64   \n",
      " 28  Parody                11911 non-null  int64   \n",
      " 29  Police                11911 non-null  int64   \n",
      " 30  Psychological         11911 non-null  int64   \n",
      " 31  Romance               11911 non-null  int64   \n",
      " 32  Samurai               11911 non-null  int64   \n",
      " 33  School                11911 non-null  int64   \n",
      " 34  Sci-Fi                11911 non-null  int64   \n",
      " 35  Seinen                11911 non-null  int64   \n",
      " 36  Shoujo                11911 non-null  int64   \n",
      " 37  Shoujo Ai             11911 non-null  int64   \n",
      " 38  Shounen               11911 non-null  int64   \n",
      " 39  Shounen Ai            11911 non-null  int64   \n",
      " 40  Slice of Life         11911 non-null  int64   \n",
      " 41  Space                 11911 non-null  int64   \n",
      " 42  Sports                11911 non-null  int64   \n",
      " 43  Super Power           11911 non-null  int64   \n",
      " 44  Supernatural          11911 non-null  int64   \n",
      " 45  Thriller              11911 non-null  int64   \n",
      " 46  Vampire               11911 non-null  int64   \n",
      " 47  Yaoi                  11911 non-null  int64   \n",
      " 48  Yuri                  11911 non-null  int64   \n",
      " 49  views_without_review  11911 non-null  int64   \n",
      " 50  rating_counts         11911 non-null  int64   \n",
      "dtypes: category(1), float64(1), int64(48), string(1)\n",
      "memory usage: 4.6 MB\n",
      "None\n"
     ]
    }
   ],
   "source": [
    "anime_df['views_without_review'] = anime_df['views_without_review'].astype('int')\n",
    "anime_df['rating_counts'] = anime_df['rating_counts'].astype('int')\n",
    "\n",
    "print(anime_df.info())"
   ]
  },
  {
   "cell_type": "markdown",
   "id": "8fd4e550-bac6-4adc-b928-0114687c15e4",
   "metadata": {},
   "source": [
    "## Data Definition<a id='data_definition'></a>"
   ]
  },
  {
   "cell_type": "code",
   "execution_count": 563,
   "id": "3959a8a6-20fb-4c4f-bba7-12512297cd6d",
   "metadata": {
    "tags": []
   },
   "outputs": [],
   "source": [
    "# save data\n",
    "anime_df.to_csv('data/anime_df.csv', sep=',')\n",
    "rating_df.to_csv('data/rating_df.csv', sep=',')\n"
   ]
  },
  {
   "cell_type": "code",
   "execution_count": null,
   "id": "a4792d62-6062-4db3-89d9-948ed14af2a5",
   "metadata": {},
   "outputs": [],
   "source": []
  }
 ],
 "metadata": {
  "kernelspec": {
   "display_name": "Python 3 (ipykernel)",
   "language": "python",
   "name": "python3"
  },
  "language_info": {
   "codemirror_mode": {
    "name": "ipython",
    "version": 3
   },
   "file_extension": ".py",
   "mimetype": "text/x-python",
   "name": "python",
   "nbconvert_exporter": "python",
   "pygments_lexer": "ipython3",
   "version": "3.11.2"
  }
 },
 "nbformat": 4,
 "nbformat_minor": 5
}
