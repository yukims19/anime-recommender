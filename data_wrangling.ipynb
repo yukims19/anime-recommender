{
 "cells": [
  {
   "cell_type": "markdown",
   "id": "11548bdd-daab-4b3f-a9b4-b2c12d508335",
   "metadata": {},
   "source": [
    "# Data wrangling"
   ]
  },
  {
   "cell_type": "markdown",
   "id": "7ae11c60-8df6-4ae5-b3e3-acb3b7b38a1f",
   "metadata": {
    "tags": []
   },
   "source": [
    "## Contents\n",
    "* [Data Collection](#data_collection)\n",
    "* [Data Cleaning](#data_cleaning)\n",
    "* [Data Definition](#data_definition)\n",
    "\n",
    "\n",
    "\n",
    "\n"
   ]
  },
  {
   "cell_type": "code",
   "execution_count": 1,
   "id": "dcaa4b22-a2b3-4453-8754-bcd05270ca71",
   "metadata": {
    "tags": []
   },
   "outputs": [],
   "source": [
    "import pandas as pd\n",
    "import numpy as np\n",
    "import matplotlib.pyplot as plt\n",
    "import seaborn as sns\n",
    "import os\n",
    "import difflib\n"
   ]
  },
  {
   "cell_type": "markdown",
   "id": "42cb0b00-0538-48df-bced-b8bc13f87a5e",
   "metadata": {
    "tags": []
   },
   "source": [
    "## Data Collection<a id='data_collection'></a>"
   ]
  },
  {
   "cell_type": "code",
   "execution_count": 2,
   "id": "0cd55f56-4271-4470-8181-29e93146d3a0",
   "metadata": {
    "tags": []
   },
   "outputs": [
    {
     "data": {
      "text/html": [
       "<div>\n",
       "<style scoped>\n",
       "    .dataframe tbody tr th:only-of-type {\n",
       "        vertical-align: middle;\n",
       "    }\n",
       "\n",
       "    .dataframe tbody tr th {\n",
       "        vertical-align: top;\n",
       "    }\n",
       "\n",
       "    .dataframe thead th {\n",
       "        text-align: right;\n",
       "    }\n",
       "</style>\n",
       "<table border=\"1\" class=\"dataframe\">\n",
       "  <thead>\n",
       "    <tr style=\"text-align: right;\">\n",
       "      <th></th>\n",
       "      <th>anime_id</th>\n",
       "      <th>name</th>\n",
       "      <th>genre</th>\n",
       "      <th>type</th>\n",
       "      <th>episodes</th>\n",
       "      <th>rating</th>\n",
       "      <th>members</th>\n",
       "    </tr>\n",
       "  </thead>\n",
       "  <tbody>\n",
       "    <tr>\n",
       "      <th>0</th>\n",
       "      <td>32281</td>\n",
       "      <td>Kimi no Na wa.</td>\n",
       "      <td>Drama, Romance, School, Supernatural</td>\n",
       "      <td>Movie</td>\n",
       "      <td>1</td>\n",
       "      <td>9.37</td>\n",
       "      <td>200630</td>\n",
       "    </tr>\n",
       "    <tr>\n",
       "      <th>1</th>\n",
       "      <td>5114</td>\n",
       "      <td>Fullmetal Alchemist: Brotherhood</td>\n",
       "      <td>Action, Adventure, Drama, Fantasy, Magic, Mili...</td>\n",
       "      <td>TV</td>\n",
       "      <td>64</td>\n",
       "      <td>9.26</td>\n",
       "      <td>793665</td>\n",
       "    </tr>\n",
       "    <tr>\n",
       "      <th>2</th>\n",
       "      <td>28977</td>\n",
       "      <td>Gintama°</td>\n",
       "      <td>Action, Comedy, Historical, Parody, Samurai, S...</td>\n",
       "      <td>TV</td>\n",
       "      <td>51</td>\n",
       "      <td>9.25</td>\n",
       "      <td>114262</td>\n",
       "    </tr>\n",
       "    <tr>\n",
       "      <th>3</th>\n",
       "      <td>9253</td>\n",
       "      <td>Steins;Gate</td>\n",
       "      <td>Sci-Fi, Thriller</td>\n",
       "      <td>TV</td>\n",
       "      <td>24</td>\n",
       "      <td>9.17</td>\n",
       "      <td>673572</td>\n",
       "    </tr>\n",
       "    <tr>\n",
       "      <th>4</th>\n",
       "      <td>9969</td>\n",
       "      <td>Gintama&amp;#039;</td>\n",
       "      <td>Action, Comedy, Historical, Parody, Samurai, S...</td>\n",
       "      <td>TV</td>\n",
       "      <td>51</td>\n",
       "      <td>9.16</td>\n",
       "      <td>151266</td>\n",
       "    </tr>\n",
       "  </tbody>\n",
       "</table>\n",
       "</div>"
      ],
      "text/plain": [
       "   anime_id                              name  \\\n",
       "0     32281                    Kimi no Na wa.   \n",
       "1      5114  Fullmetal Alchemist: Brotherhood   \n",
       "2     28977                          Gintama°   \n",
       "3      9253                       Steins;Gate   \n",
       "4      9969                     Gintama&#039;   \n",
       "\n",
       "                                               genre   type episodes  rating  \\\n",
       "0               Drama, Romance, School, Supernatural  Movie        1    9.37   \n",
       "1  Action, Adventure, Drama, Fantasy, Magic, Mili...     TV       64    9.26   \n",
       "2  Action, Comedy, Historical, Parody, Samurai, S...     TV       51    9.25   \n",
       "3                                   Sci-Fi, Thriller     TV       24    9.17   \n",
       "4  Action, Comedy, Historical, Parody, Samurai, S...     TV       51    9.16   \n",
       "\n",
       "   members  \n",
       "0   200630  \n",
       "1   793665  \n",
       "2   114262  \n",
       "3   673572  \n",
       "4   151266  "
      ]
     },
     "execution_count": 2,
     "metadata": {},
     "output_type": "execute_result"
    }
   ],
   "source": [
    "anime_raw = pd.read_csv('data/anime.csv')\n",
    "anime_raw.head()"
   ]
  },
  {
   "cell_type": "code",
   "execution_count": 3,
   "id": "549f9598-ec8e-417e-8de2-45c81a67e257",
   "metadata": {
    "tags": []
   },
   "outputs": [
    {
     "data": {
      "text/html": [
       "<div>\n",
       "<style scoped>\n",
       "    .dataframe tbody tr th:only-of-type {\n",
       "        vertical-align: middle;\n",
       "    }\n",
       "\n",
       "    .dataframe tbody tr th {\n",
       "        vertical-align: top;\n",
       "    }\n",
       "\n",
       "    .dataframe thead th {\n",
       "        text-align: right;\n",
       "    }\n",
       "</style>\n",
       "<table border=\"1\" class=\"dataframe\">\n",
       "  <thead>\n",
       "    <tr style=\"text-align: right;\">\n",
       "      <th></th>\n",
       "      <th>user_id</th>\n",
       "      <th>anime_id</th>\n",
       "      <th>rating</th>\n",
       "    </tr>\n",
       "  </thead>\n",
       "  <tbody>\n",
       "    <tr>\n",
       "      <th>0</th>\n",
       "      <td>1</td>\n",
       "      <td>20</td>\n",
       "      <td>-1</td>\n",
       "    </tr>\n",
       "    <tr>\n",
       "      <th>1</th>\n",
       "      <td>1</td>\n",
       "      <td>24</td>\n",
       "      <td>-1</td>\n",
       "    </tr>\n",
       "    <tr>\n",
       "      <th>2</th>\n",
       "      <td>1</td>\n",
       "      <td>79</td>\n",
       "      <td>-1</td>\n",
       "    </tr>\n",
       "    <tr>\n",
       "      <th>3</th>\n",
       "      <td>1</td>\n",
       "      <td>226</td>\n",
       "      <td>-1</td>\n",
       "    </tr>\n",
       "    <tr>\n",
       "      <th>4</th>\n",
       "      <td>1</td>\n",
       "      <td>241</td>\n",
       "      <td>-1</td>\n",
       "    </tr>\n",
       "  </tbody>\n",
       "</table>\n",
       "</div>"
      ],
      "text/plain": [
       "   user_id  anime_id  rating\n",
       "0        1        20      -1\n",
       "1        1        24      -1\n",
       "2        1        79      -1\n",
       "3        1       226      -1\n",
       "4        1       241      -1"
      ]
     },
     "execution_count": 3,
     "metadata": {},
     "output_type": "execute_result"
    }
   ],
   "source": [
    "rating_raw = pd.read_csv('data/rating.csv')\n",
    "rating_raw.head()"
   ]
  },
  {
   "cell_type": "markdown",
   "id": "f21f594b-f7fd-4383-b685-ad6cbf513e9f",
   "metadata": {},
   "source": [
    "## Data Cleaning<a id='data_cleaning'></a>"
   ]
  },
  {
   "cell_type": "code",
   "execution_count": 4,
   "id": "7c349582-bb2a-4037-a0d2-b274e183647c",
   "metadata": {
    "tags": []
   },
   "outputs": [],
   "source": [
    "#Cleaning common steps:\n",
    "#Check missing value\n",
    "#Check duplicate value\n",
    "#Check data type\n",
    "#Check for extreme value"
   ]
  },
  {
   "cell_type": "code",
   "execution_count": 5,
   "id": "c8f75622-fff3-434d-9e18-6da2d426a634",
   "metadata": {
    "tags": []
   },
   "outputs": [
    {
     "name": "stdout",
     "output_type": "stream",
     "text": [
      "<class 'pandas.core.frame.DataFrame'>\n",
      "RangeIndex: 12294 entries, 0 to 12293\n",
      "Data columns (total 7 columns):\n",
      " #   Column    Non-Null Count  Dtype  \n",
      "---  ------    --------------  -----  \n",
      " 0   anime_id  12294 non-null  int64  \n",
      " 1   name      12294 non-null  object \n",
      " 2   genre     12232 non-null  object \n",
      " 3   type      12269 non-null  object \n",
      " 4   episodes  12294 non-null  object \n",
      " 5   rating    12064 non-null  float64\n",
      " 6   members   12294 non-null  int64  \n",
      "dtypes: float64(1), int64(2), object(4)\n",
      "memory usage: 672.5+ KB\n"
     ]
    }
   ],
   "source": [
    "anime_df = anime_raw.copy()\n",
    "anime_raw.info()"
   ]
  },
  {
   "cell_type": "code",
   "execution_count": 6,
   "id": "e595e6f8-a28f-4162-802e-03287352d0ce",
   "metadata": {
    "tags": []
   },
   "outputs": [
    {
     "data": {
      "text/plain": [
       "anime_id      0\n",
       "name          0\n",
       "genre        62\n",
       "type         25\n",
       "episodes      0\n",
       "rating      230\n",
       "members       0\n",
       "dtype: int64"
      ]
     },
     "execution_count": 6,
     "metadata": {},
     "output_type": "execute_result"
    }
   ],
   "source": [
    "anime_df.isnull().sum()"
   ]
  },
  {
   "cell_type": "code",
   "execution_count": 7,
   "id": "de0a82ba-e520-43c7-8b40-50ccde8a3950",
   "metadata": {
    "tags": []
   },
   "outputs": [
    {
     "data": {
      "text/plain": [
       "anime_id    False\n",
       "name        False\n",
       "genre       False\n",
       "type        False\n",
       "episodes     True\n",
       "rating      False\n",
       "members     False\n",
       "dtype: bool"
      ]
     },
     "execution_count": 7,
     "metadata": {},
     "output_type": "execute_result"
    }
   ],
   "source": [
    "(anime_df== 'Unknown').any()"
   ]
  },
  {
   "cell_type": "code",
   "execution_count": 8,
   "id": "7973488b-0978-454c-8126-57e07649eef4",
   "metadata": {
    "tags": []
   },
   "outputs": [
    {
     "data": {
      "text/plain": [
       "anime_id    False\n",
       "name        False\n",
       "genre       False\n",
       "type        False\n",
       "episodes    False\n",
       "rating      False\n",
       "members     False\n",
       "dtype: bool"
      ]
     },
     "execution_count": 8,
     "metadata": {},
     "output_type": "execute_result"
    }
   ],
   "source": [
    "# Replace string unknown with NaN type\n",
    "anime_df.loc[(anime_df['episodes'] == 'Unknown'), 'episodes'] = np.NaN\n",
    "(anime_df== 'Unknown').any()"
   ]
  },
  {
   "cell_type": "code",
   "execution_count": 9,
   "id": "8913bce3-0dc5-47cb-8fdc-d81d90b2840d",
   "metadata": {
    "tags": []
   },
   "outputs": [
    {
     "data": {
      "text/plain": [
       "anime_id      0\n",
       "name          0\n",
       "genre        62\n",
       "type         25\n",
       "episodes    340\n",
       "rating      230\n",
       "members       0\n",
       "dtype: int64"
      ]
     },
     "execution_count": 9,
     "metadata": {},
     "output_type": "execute_result"
    }
   ],
   "source": [
    "anime_df.isna().sum()"
   ]
  },
  {
   "cell_type": "markdown",
   "id": "c721684a-05eb-4416-9ff2-d8ccb1ba4d55",
   "metadata": {},
   "source": [
    "### Convert Data type [anime_df]"
   ]
  },
  {
   "cell_type": "code",
   "execution_count": 10,
   "id": "d247d7c4-35fc-4f24-8c7a-55db45911cee",
   "metadata": {
    "tags": []
   },
   "outputs": [
    {
     "name": "stdout",
     "output_type": "stream",
     "text": [
      "<class 'pandas.core.frame.DataFrame'>\n",
      "RangeIndex: 12294 entries, 0 to 12293\n",
      "Data columns (total 7 columns):\n",
      " #   Column    Non-Null Count  Dtype  \n",
      "---  ------    --------------  -----  \n",
      " 0   anime_id  12294 non-null  int64  \n",
      " 1   name      12294 non-null  string \n",
      " 2   genre     12232 non-null  string \n",
      " 3   type      12269 non-null  string \n",
      " 4   episodes  11954 non-null  float64\n",
      " 5   rating    12064 non-null  float64\n",
      " 6   members   12294 non-null  int64  \n",
      "dtypes: float64(2), int64(2), string(3)\n",
      "memory usage: 672.5 KB\n",
      "None\n"
     ]
    },
    {
     "data": {
      "text/plain": [
       "anime_id      0\n",
       "name          0\n",
       "genre        62\n",
       "type         25\n",
       "episodes    340\n",
       "rating      230\n",
       "members       0\n",
       "dtype: int64"
      ]
     },
     "execution_count": 10,
     "metadata": {},
     "output_type": "execute_result"
    }
   ],
   "source": [
    "# Convert to expected datatype\n",
    "anime_df['name'] = anime_df['name'].astype('string')\n",
    "anime_df['type'] = anime_df['type'].astype('string')\n",
    "anime_df['genre'] = anime_df['genre'].astype('string')\n",
    "anime_df['episodes'] = pd.to_numeric(anime_df['episodes'], errors='coerce')\n",
    "anime_df['rating'] = anime_df['rating'].astype('float')\n",
    "\n",
    "print(anime_df.info())\n",
    "anime_df.isna().sum()"
   ]
  },
  {
   "cell_type": "markdown",
   "id": "7af7e0f9-5e7d-47bd-8af1-ea43011ea70a",
   "metadata": {
    "tags": []
   },
   "source": [
    "### Fill missing value for `genre` [anime_df]"
   ]
  },
  {
   "cell_type": "code",
   "execution_count": 11,
   "id": "79e61d85-1e6b-4c09-a205-f82cf624a145",
   "metadata": {
    "tags": []
   },
   "outputs": [
    {
     "name": "stderr",
     "output_type": "stream",
     "text": [
      "/var/folders/xk/5gx1tq55563djqn2f91dfp040000gn/T/ipykernel_5063/4135770943.py:5: SettingWithCopyWarning: \n",
      "A value is trying to be set on a copy of a slice from a DataFrame.\n",
      "Try using .loc[row_indexer,col_indexer] = value instead\n",
      "\n",
      "See the caveats in the documentation: https://pandas.pydata.org/pandas-docs/stable/user_guide/indexing.html#returning-a-view-versus-a-copy\n",
      "  anime_has_null_genre['matched_name'] = names_has_null_genre.apply(lambda x: difflib.get_close_matches(x, names_without_null_genre, n=1))\n"
     ]
    },
    {
     "data": {
      "text/html": [
       "<div>\n",
       "<style scoped>\n",
       "    .dataframe tbody tr th:only-of-type {\n",
       "        vertical-align: middle;\n",
       "    }\n",
       "\n",
       "    .dataframe tbody tr th {\n",
       "        vertical-align: top;\n",
       "    }\n",
       "\n",
       "    .dataframe thead th {\n",
       "        text-align: right;\n",
       "    }\n",
       "</style>\n",
       "<table border=\"1\" class=\"dataframe\">\n",
       "  <thead>\n",
       "    <tr style=\"text-align: right;\">\n",
       "      <th></th>\n",
       "      <th>anime_id</th>\n",
       "      <th>name</th>\n",
       "      <th>genre</th>\n",
       "      <th>type</th>\n",
       "      <th>episodes</th>\n",
       "      <th>rating</th>\n",
       "      <th>members</th>\n",
       "      <th>matched_name</th>\n",
       "    </tr>\n",
       "  </thead>\n",
       "  <tbody>\n",
       "    <tr>\n",
       "      <th>2844</th>\n",
       "      <td>33242</td>\n",
       "      <td>IS: Infinite Stratos 2 - Infinite Wedding</td>\n",
       "      <td>NaN</td>\n",
       "      <td>Special</td>\n",
       "      <td>1</td>\n",
       "      <td>7.15</td>\n",
       "      <td>6604</td>\n",
       "      <td>[IS: Infinite Stratos 2]</td>\n",
       "    </tr>\n",
       "    <tr>\n",
       "      <th>3541</th>\n",
       "      <td>33589</td>\n",
       "      <td>ViVid Strike!</td>\n",
       "      <td>NaN</td>\n",
       "      <td>TV</td>\n",
       "      <td>12</td>\n",
       "      <td>6.96</td>\n",
       "      <td>12345</td>\n",
       "      <td>[]</td>\n",
       "    </tr>\n",
       "    <tr>\n",
       "      <th>6040</th>\n",
       "      <td>29765</td>\n",
       "      <td>Metropolis (2009)</td>\n",
       "      <td>NaN</td>\n",
       "      <td>Movie</td>\n",
       "      <td>1</td>\n",
       "      <td>6.27</td>\n",
       "      <td>313</td>\n",
       "      <td>[Metropolis]</td>\n",
       "    </tr>\n",
       "    <tr>\n",
       "      <th>6646</th>\n",
       "      <td>32695</td>\n",
       "      <td>Match Shoujo</td>\n",
       "      <td>NaN</td>\n",
       "      <td>ONA</td>\n",
       "      <td>1</td>\n",
       "      <td>6.02</td>\n",
       "      <td>242</td>\n",
       "      <td>[Match Uri no Shoujo]</td>\n",
       "    </tr>\n",
       "    <tr>\n",
       "      <th>7018</th>\n",
       "      <td>33187</td>\n",
       "      <td>Katsudou Shashin</td>\n",
       "      <td>NaN</td>\n",
       "      <td>Movie</td>\n",
       "      <td>1</td>\n",
       "      <td>5.79</td>\n",
       "      <td>607</td>\n",
       "      <td>[Sakura Taisen: Katsudou Shashin]</td>\n",
       "    </tr>\n",
       "  </tbody>\n",
       "</table>\n",
       "</div>"
      ],
      "text/plain": [
       "      anime_id                                       name genre     type  \\\n",
       "2844     33242  IS: Infinite Stratos 2 - Infinite Wedding   NaN  Special   \n",
       "3541     33589                              ViVid Strike!   NaN       TV   \n",
       "6040     29765                          Metropolis (2009)   NaN    Movie   \n",
       "6646     32695                               Match Shoujo   NaN      ONA   \n",
       "7018     33187                           Katsudou Shashin   NaN    Movie   \n",
       "\n",
       "     episodes  rating  members                       matched_name  \n",
       "2844        1    7.15     6604           [IS: Infinite Stratos 2]  \n",
       "3541       12    6.96    12345                                 []  \n",
       "6040        1    6.27      313                       [Metropolis]  \n",
       "6646        1    6.02      242              [Match Uri no Shoujo]  \n",
       "7018        1    5.79      607  [Sakura Taisen: Katsudou Shashin]  "
      ]
     },
     "execution_count": 11,
     "metadata": {},
     "output_type": "execute_result"
    }
   ],
   "source": [
    "# Check if anime that has genre null is from the same anime but different episode title or type. Check by finding if title has similarity to other animes. \n",
    "anime_has_null_genre = anime_raw[anime_raw['genre'].isnull()]\n",
    "names_without_null_genre = anime_raw[~anime_raw['genre'].isnull()]['name']\n",
    "names_has_null_genre = anime_has_null_genre['name']\n",
    "anime_has_null_genre['matched_name'] = names_has_null_genre.apply(lambda x: difflib.get_close_matches(x, names_without_null_genre, n=1))\n",
    "anime_has_null_genre.head()"
   ]
  },
  {
   "cell_type": "code",
   "execution_count": 12,
   "id": "ae4be1b2-cc1b-4744-96dc-b5977d0d157c",
   "metadata": {
    "tags": []
   },
   "outputs": [
    {
     "data": {
      "text/html": [
       "<div>\n",
       "<style scoped>\n",
       "    .dataframe tbody tr th:only-of-type {\n",
       "        vertical-align: middle;\n",
       "    }\n",
       "\n",
       "    .dataframe tbody tr th {\n",
       "        vertical-align: top;\n",
       "    }\n",
       "\n",
       "    .dataframe thead th {\n",
       "        text-align: right;\n",
       "    }\n",
       "</style>\n",
       "<table border=\"1\" class=\"dataframe\">\n",
       "  <thead>\n",
       "    <tr style=\"text-align: right;\">\n",
       "      <th></th>\n",
       "      <th>anime_id</th>\n",
       "      <th>name</th>\n",
       "      <th>genre</th>\n",
       "      <th>type</th>\n",
       "      <th>episodes</th>\n",
       "      <th>rating</th>\n",
       "      <th>members</th>\n",
       "      <th>matched_name</th>\n",
       "      <th>matched_genre</th>\n",
       "    </tr>\n",
       "  </thead>\n",
       "  <tbody>\n",
       "    <tr>\n",
       "      <th>2844</th>\n",
       "      <td>33242</td>\n",
       "      <td>IS: Infinite Stratos 2 - Infinite Wedding</td>\n",
       "      <td>NaN</td>\n",
       "      <td>Special</td>\n",
       "      <td>1</td>\n",
       "      <td>7.15</td>\n",
       "      <td>6604</td>\n",
       "      <td>IS: Infinite Stratos 2</td>\n",
       "      <td>Action, Comedy, Harem, Mecha, Sci-Fi</td>\n",
       "    </tr>\n",
       "    <tr>\n",
       "      <th>3541</th>\n",
       "      <td>33589</td>\n",
       "      <td>ViVid Strike!</td>\n",
       "      <td>NaN</td>\n",
       "      <td>TV</td>\n",
       "      <td>12</td>\n",
       "      <td>6.96</td>\n",
       "      <td>12345</td>\n",
       "      <td>NaN</td>\n",
       "      <td>NaN</td>\n",
       "    </tr>\n",
       "    <tr>\n",
       "      <th>6040</th>\n",
       "      <td>29765</td>\n",
       "      <td>Metropolis (2009)</td>\n",
       "      <td>NaN</td>\n",
       "      <td>Movie</td>\n",
       "      <td>1</td>\n",
       "      <td>6.27</td>\n",
       "      <td>313</td>\n",
       "      <td>Metropolis</td>\n",
       "      <td>Adventure, Drama, Police, Romance, Sci-Fi, Sho...</td>\n",
       "    </tr>\n",
       "    <tr>\n",
       "      <th>6646</th>\n",
       "      <td>32695</td>\n",
       "      <td>Match Shoujo</td>\n",
       "      <td>NaN</td>\n",
       "      <td>ONA</td>\n",
       "      <td>1</td>\n",
       "      <td>6.02</td>\n",
       "      <td>242</td>\n",
       "      <td>Match Uri no Shoujo</td>\n",
       "      <td>Drama, Kids</td>\n",
       "    </tr>\n",
       "    <tr>\n",
       "      <th>7018</th>\n",
       "      <td>33187</td>\n",
       "      <td>Katsudou Shashin</td>\n",
       "      <td>NaN</td>\n",
       "      <td>Movie</td>\n",
       "      <td>1</td>\n",
       "      <td>5.79</td>\n",
       "      <td>607</td>\n",
       "      <td>Sakura Taisen: Katsudou Shashin</td>\n",
       "      <td>Adventure, Mecha, Sci-Fi, Shounen</td>\n",
       "    </tr>\n",
       "  </tbody>\n",
       "</table>\n",
       "</div>"
      ],
      "text/plain": [
       "      anime_id                                       name genre     type  \\\n",
       "2844     33242  IS: Infinite Stratos 2 - Infinite Wedding   NaN  Special   \n",
       "3541     33589                              ViVid Strike!   NaN       TV   \n",
       "6040     29765                          Metropolis (2009)   NaN    Movie   \n",
       "6646     32695                               Match Shoujo   NaN      ONA   \n",
       "7018     33187                           Katsudou Shashin   NaN    Movie   \n",
       "\n",
       "     episodes  rating  members                     matched_name  \\\n",
       "2844        1    7.15     6604           IS: Infinite Stratos 2   \n",
       "3541       12    6.96    12345                              NaN   \n",
       "6040        1    6.27      313                       Metropolis   \n",
       "6646        1    6.02      242              Match Uri no Shoujo   \n",
       "7018        1    5.79      607  Sakura Taisen: Katsudou Shashin   \n",
       "\n",
       "                                          matched_genre  \n",
       "2844               Action, Comedy, Harem, Mecha, Sci-Fi  \n",
       "3541                                                NaN  \n",
       "6040  Adventure, Drama, Police, Romance, Sci-Fi, Sho...  \n",
       "6646                                        Drama, Kids  \n",
       "7018                  Adventure, Mecha, Sci-Fi, Shounen  "
      ]
     },
     "execution_count": 12,
     "metadata": {},
     "output_type": "execute_result"
    }
   ],
   "source": [
    "# Fill the null genre with the matched anime's genre\n",
    "df_has_null_genre = anime_has_null_genre.copy()\n",
    "df_has_null_genre['matched_name'] = anime_has_null_genre['matched_name'].apply(lambda x: x[0] if len(x) > 0 else np.NaN)\n",
    "df_has_null_genre['matched_genre'] = df_has_null_genre['matched_name'].apply(lambda x: anime_raw[anime_raw['name']==x]['genre'].values)\n",
    "df_matched_genre = df_has_null_genre.copy()\n",
    "df_matched_genre['matched_genre'] = df_has_null_genre['matched_genre'].apply(lambda x: x[0] if len(x) > 0 else np.NaN)\n",
    "df_matched_genre.head()"
   ]
  },
  {
   "cell_type": "code",
   "execution_count": 13,
   "id": "04f91b73-48fd-4cf2-a6d5-4da0870796c3",
   "metadata": {
    "tags": []
   },
   "outputs": [
    {
     "name": "stdout",
     "output_type": "stream",
     "text": [
      "genre null count before:  62\n",
      "genre null count after:  14\n"
     ]
    },
    {
     "name": "stderr",
     "output_type": "stream",
     "text": [
      "/var/folders/xk/5gx1tq55563djqn2f91dfp040000gn/T/ipykernel_5063/2974107618.py:4: FutureWarning: A value is trying to be set on a copy of a DataFrame or Series through chained assignment using an inplace method.\n",
      "The behavior will change in pandas 3.0. This inplace method will never work because the intermediate object on which we are setting values always behaves as a copy.\n",
      "\n",
      "For example, when doing 'df[col].method(value, inplace=True)', try using 'df.method({col: value}, inplace=True)' or df[col] = df[col].method(value) instead, to perform the operation inplace on the original object.\n",
      "\n",
      "\n",
      "  anime_df['genre'].fillna(df_matched_genre['matched_genre'], inplace=True)\n"
     ]
    }
   ],
   "source": [
    "# Apply the filled data to anime_df\n",
    "print('genre null count before: ', anime_df['genre'].isna().sum())\n",
    "df_matched_genre[['anime_id', 'matched_genre']]\n",
    "anime_df['genre'].fillna(df_matched_genre['matched_genre'], inplace=True)\n",
    "print('genre null count after: ', anime_df['genre'].isna().sum())"
   ]
  },
  {
   "cell_type": "code",
   "execution_count": 14,
   "id": "8a943f26-8a82-452d-9cd9-a706649e8d40",
   "metadata": {
    "tags": []
   },
   "outputs": [
    {
     "data": {
      "text/plain": [
       "anime_id      0\n",
       "name          0\n",
       "genre        14\n",
       "type         25\n",
       "episodes    340\n",
       "rating      230\n",
       "members       0\n",
       "dtype: int64"
      ]
     },
     "execution_count": 14,
     "metadata": {},
     "output_type": "execute_result"
    }
   ],
   "source": [
    "anime_df.isna().sum()"
   ]
  },
  {
   "cell_type": "markdown",
   "id": "c15bc63d-e292-4482-8682-faafd767f00c",
   "metadata": {},
   "source": [
    "### Fill missing value for `episodes` [anime_df]"
   ]
  },
  {
   "cell_type": "code",
   "execution_count": 15,
   "id": "59dc28b7-b935-4daa-8c3b-f532aea46b39",
   "metadata": {
    "tags": []
   },
   "outputs": [
    {
     "name": "stdout",
     "output_type": "stream",
     "text": [
      "Missing episodes types: <StringArray>\n",
      "['TV', 'Special', 'ONA', 'Music', 'Movie', 'OVA', <NA>]\n",
      "Length: 7, dtype: string\n"
     ]
    },
    {
     "data": {
      "text/html": [
       "<div>\n",
       "<style scoped>\n",
       "    .dataframe tbody tr th:only-of-type {\n",
       "        vertical-align: middle;\n",
       "    }\n",
       "\n",
       "    .dataframe tbody tr th {\n",
       "        vertical-align: top;\n",
       "    }\n",
       "\n",
       "    .dataframe thead th {\n",
       "        text-align: right;\n",
       "    }\n",
       "</style>\n",
       "<table border=\"1\" class=\"dataframe\">\n",
       "  <thead>\n",
       "    <tr style=\"text-align: right;\">\n",
       "      <th></th>\n",
       "      <th>mean</th>\n",
       "      <th>median</th>\n",
       "      <th>std</th>\n",
       "    </tr>\n",
       "    <tr>\n",
       "      <th>type</th>\n",
       "      <th></th>\n",
       "      <th></th>\n",
       "      <th></th>\n",
       "    </tr>\n",
       "  </thead>\n",
       "  <tbody>\n",
       "    <tr>\n",
       "      <th>Movie</th>\n",
       "      <td>1.102389</td>\n",
       "      <td>1.0</td>\n",
       "      <td>2.149296</td>\n",
       "    </tr>\n",
       "    <tr>\n",
       "      <th>Music</th>\n",
       "      <td>1.131417</td>\n",
       "      <td>1.0</td>\n",
       "      <td>1.293852</td>\n",
       "    </tr>\n",
       "    <tr>\n",
       "      <th>ONA</th>\n",
       "      <td>6.877651</td>\n",
       "      <td>2.0</td>\n",
       "      <td>11.382952</td>\n",
       "    </tr>\n",
       "    <tr>\n",
       "      <th>OVA</th>\n",
       "      <td>2.417663</td>\n",
       "      <td>2.0</td>\n",
       "      <td>3.208938</td>\n",
       "    </tr>\n",
       "    <tr>\n",
       "      <th>Special</th>\n",
       "      <td>2.561341</td>\n",
       "      <td>1.0</td>\n",
       "      <td>3.700094</td>\n",
       "    </tr>\n",
       "    <tr>\n",
       "      <th>TV</th>\n",
       "      <td>35.915595</td>\n",
       "      <td>24.0</td>\n",
       "      <td>80.640355</td>\n",
       "    </tr>\n",
       "  </tbody>\n",
       "</table>\n",
       "</div>"
      ],
      "text/plain": [
       "              mean  median        std\n",
       "type                                 \n",
       "Movie     1.102389     1.0   2.149296\n",
       "Music     1.131417     1.0   1.293852\n",
       "ONA       6.877651     2.0  11.382952\n",
       "OVA       2.417663     2.0   3.208938\n",
       "Special   2.561341     1.0   3.700094\n",
       "TV       35.915595    24.0  80.640355"
      ]
     },
     "execution_count": 15,
     "metadata": {},
     "output_type": "execute_result"
    }
   ],
   "source": [
    "# The hypothesis is that certain types will exhibit specific episode counts. For instance, movies typically have just one episode. \n",
    "# If we verify that there is a \"typical\" number of episodes associated with each type and this number shows little variation, \n",
    "# we will use it to impute missing episode values based on the type.\n",
    "\n",
    "print('Missing episodes types:', anime_df[anime_df['episodes'].isna()]['type'].unique())\n",
    "mean = anime_df[['type', 'episodes']].groupby('type').mean().rename(columns = {'episodes': 'mean'})\n",
    "median = anime_df[['type', 'episodes']].groupby('type').median().rename(columns = {'episodes': 'median'})\n",
    "std = anime_df[['type', 'episodes']].groupby('type').std().rename(columns = {'episodes': 'std'})\n",
    "pd.concat((mean, median, std), axis=1)"
   ]
  },
  {
   "cell_type": "code",
   "execution_count": 29,
   "id": "17c06744-2182-40a4-a9f9-52718d67e6e2",
   "metadata": {
    "tags": []
   },
   "outputs": [
    {
     "data": {
      "image/png": "[encoded data removed]",
      "text/plain": [
       "<Figure size 640x480 with 1 Axes>"
      ]
     },
     "metadata": {},
     "output_type": "display_data"
    }
   ],
   "source": [
    "anime_df[['type', 'episodes']].groupby('type').boxplot(subplots=False, rot=45, fontsize=12)\n",
    "plt.yscale('log')\n",
    "plt.show()"
   ]
  },
  {
   "cell_type": "markdown",
   "id": "aedf78eb-aedb-40c0-9c8b-e3bdf190f781",
   "metadata": {},
   "source": [
    "Type `TV` has more extrem values and variations. Plot again without `TV`."
   ]
  },
  {
   "cell_type": "code",
   "execution_count": 30,
   "id": "cf8ff438-9e41-4a2e-81d6-bdc1b392c882",
   "metadata": {
    "tags": []
   },
   "outputs": [
    {
     "data": {
      "image/png": "[encoded data removed]",
      "text/plain": [
       "<Figure size 640x480 with 1 Axes>"
      ]
     },
     "metadata": {},
     "output_type": "display_data"
    }
   ],
   "source": [
    "anime_df[anime_df['type'] != 'TV'][['type', 'episodes']].groupby('type').boxplot(subplots=False, rot=45, fontsize=12)\n",
    "plt.yscale('log')\n",
    "plt.show()"
   ]
  },
  {
   "cell_type": "markdown",
   "id": "1f1e2550-c81d-4583-a9b0-406e1ea8e4d9",
   "metadata": {
    "tags": []
   },
   "source": [
    "Only `Movie` and `Music` type has small variance of episode. Also, median is close to the rounded down of mean, so will replace the null episode value with the rounded down mean values."
   ]
  },
  {
   "cell_type": "code",
   "execution_count": 31,
   "id": "40880aaf-ffec-449f-b1c8-f9a36f7f6d94",
   "metadata": {
    "tags": []
   },
   "outputs": [],
   "source": [
    "anime_df.loc[(anime_df['type'] == 'Movie'), 'episodes'] = anime_df.loc[(anime_df['type'] == 'Movie'), 'episodes'].fillna(value=1.0)\n",
    "anime_df.loc[(anime_df['type'] == 'Music'), 'episodes'] = anime_df.loc[(anime_df['type'] == 'Music'), 'episodes'].fillna(value=1.0)\n"
   ]
  },
  {
   "cell_type": "code",
   "execution_count": 32,
   "id": "f82b44dd-88fe-4bb2-be50-92b01ca71a30",
   "metadata": {
    "tags": []
   },
   "outputs": [
    {
     "data": {
      "text/plain": [
       "anime_id    0\n",
       "name        0\n",
       "genre       0\n",
       "type        0\n",
       "episodes    0\n",
       "rating      0\n",
       "members     0\n",
       "dtype: int64"
      ]
     },
     "execution_count": 32,
     "metadata": {},
     "output_type": "execute_result"
    }
   ],
   "source": [
    "anime_df.isna().sum()"
   ]
  },
  {
   "cell_type": "markdown",
   "id": "ada5c8a4-f039-49d6-ab96-9c5ee0058dfa",
   "metadata": {
    "tags": []
   },
   "source": [
    "**We decreased missing counts of episodes from 340 to 335.**"
   ]
  },
  {
   "cell_type": "markdown",
   "id": "17b9560d-92d7-4526-aa90-01d70b753d6a",
   "metadata": {
    "tags": []
   },
   "source": [
    "### Handle the rest of the missing values [anime_df]"
   ]
  },
  {
   "cell_type": "code",
   "execution_count": 33,
   "id": "a0853fa9-eeec-4957-9146-972aae098c75",
   "metadata": {
    "tags": []
   },
   "outputs": [
    {
     "data": {
      "text/html": [
       "<div>\n",
       "<style scoped>\n",
       "    .dataframe tbody tr th:only-of-type {\n",
       "        vertical-align: middle;\n",
       "    }\n",
       "\n",
       "    .dataframe tbody tr th {\n",
       "        vertical-align: top;\n",
       "    }\n",
       "\n",
       "    .dataframe thead th {\n",
       "        text-align: right;\n",
       "    }\n",
       "</style>\n",
       "<table border=\"1\" class=\"dataframe\">\n",
       "  <thead>\n",
       "    <tr style=\"text-align: right;\">\n",
       "      <th></th>\n",
       "      <th>anime_id</th>\n",
       "      <th>name</th>\n",
       "      <th>genre</th>\n",
       "      <th>type</th>\n",
       "      <th>episodes</th>\n",
       "      <th>rating</th>\n",
       "      <th>members</th>\n",
       "    </tr>\n",
       "  </thead>\n",
       "  <tbody>\n",
       "  </tbody>\n",
       "</table>\n",
       "</div>"
      ],
      "text/plain": [
       "Empty DataFrame\n",
       "Columns: [anime_id, name, genre, type, episodes, rating, members]\n",
       "Index: []"
      ]
     },
     "execution_count": 33,
     "metadata": {},
     "output_type": "execute_result"
    }
   ],
   "source": [
    "anime_df[anime_df['type'].isna()]"
   ]
  },
  {
   "cell_type": "markdown",
   "id": "6186a49a-ecbd-4d0c-a937-2fcd75c96ab8",
   "metadata": {},
   "source": [
    "Seems like when type is null, episodes and ratings are null as well. And we have 230 records that's missing the rating (among in total of 12294 entries). One idea is that we can fill the rating value by fuzzing matching with same anime but different episode or type, like what we did for genre. However, while it's more likely the genre would stay the same if same anime, the rating could vary depend on the season, episode or type. Thus, we will not fill the rating values. Drop the rows without ratings and episodes."
   ]
  },
  {
   "cell_type": "code",
   "execution_count": 34,
   "id": "d8def72f-2ce3-4b38-ac57-10b2469aa495",
   "metadata": {
    "tags": []
   },
   "outputs": [
    {
     "data": {
      "text/plain": [
       "anime_id    0\n",
       "name        0\n",
       "genre       0\n",
       "type        0\n",
       "episodes    0\n",
       "rating      0\n",
       "members     0\n",
       "dtype: int64"
      ]
     },
     "execution_count": 34,
     "metadata": {},
     "output_type": "execute_result"
    }
   ],
   "source": [
    "anime_df.dropna(inplace=True)\n",
    "anime_df.isna().sum()"
   ]
  },
  {
   "cell_type": "markdown",
   "id": "165876a3-f043-4e1a-88b3-29014c4f181f",
   "metadata": {
    "tags": []
   },
   "source": [
    "### Check duplicates [anime_df]"
   ]
  },
  {
   "cell_type": "code",
   "execution_count": 35,
   "id": "0fbb6116-8530-4334-b5cd-37f7105a6e66",
   "metadata": {
    "tags": []
   },
   "outputs": [
    {
     "data": {
      "text/plain": [
       "False"
      ]
     },
     "execution_count": 35,
     "metadata": {},
     "output_type": "execute_result"
    }
   ],
   "source": [
    "# Check duplicates\n",
    "anime_df[['name', 'type']].duplicated().any()"
   ]
  },
  {
   "cell_type": "markdown",
   "id": "e54d2dc6-76a1-4c9a-aed8-5d73d4b6c9fd",
   "metadata": {},
   "source": [
    "### Check feature value distributions [anime_df]"
   ]
  },
  {
   "cell_type": "code",
   "execution_count": 42,
   "id": "34c240dc-9cee-4ba2-8811-ae3906b6ba28",
   "metadata": {
    "tags": []
   },
   "outputs": [
    {
     "name": "stdout",
     "output_type": "stream",
     "text": [
      "<class 'pandas.core.frame.DataFrame'>\n",
      "Index: 11869 entries, 0 to 12293\n",
      "Data columns (total 7 columns):\n",
      " #   Column    Non-Null Count  Dtype  \n",
      "---  ------    --------------  -----  \n",
      " 0   anime_id  11869 non-null  int64  \n",
      " 1   name      11869 non-null  string \n",
      " 2   genre     11869 non-null  string \n",
      " 3   type      11869 non-null  string \n",
      " 4   episodes  11869 non-null  float64\n",
      " 5   rating    11869 non-null  float64\n",
      " 6   members   11869 non-null  int64  \n",
      "dtypes: float64(2), int64(2), string(3)\n",
      "memory usage: 741.8 KB\n"
     ]
    }
   ],
   "source": [
    "anime_df.info()"
   ]
  },
  {
   "cell_type": "code",
   "execution_count": 47,
   "id": "2dc735dc-d87c-42d1-9ebe-e96f36be4b57",
   "metadata": {
    "tags": []
   },
   "outputs": [
    {
     "data": {
      "image/png": "[encoded data removed]",
      "text/plain": [
       "<Figure size 640x480 with 2 Axes>"
      ]
     },
     "metadata": {},
     "output_type": "display_data"
    }
   ],
   "source": [
    "# Check feature outliers\n",
    "fig, (ax1, ax2) = plt.subplots(1, 2, constrained_layout=True)\n",
    "anime_df['type'].value_counts().plot(kind='barh', ax=ax1, xlabel='counts')\n",
    "anime_df['rating'].plot(kind='hist', ax = ax2, bins=10, xlabel='rating', ylabel='counts')\n",
    "plt.show()"
   ]
  },
  {
   "cell_type": "markdown",
   "id": "52ba98f7-1bfb-41f1-84b7-b9fb22d014f3",
   "metadata": {
    "tags": []
   },
   "source": [
    "Most of the anime are type OVA and TV. And most of the rating are between 5 to 7."
   ]
  },
  {
   "cell_type": "code",
   "execution_count": 49,
   "id": "9dc6890c-f2a9-4b39-9ffd-410d68069fd7",
   "metadata": {
    "tags": []
   },
   "outputs": [
    {
     "data": {
      "text/html": [
       "<div>\n",
       "<style scoped>\n",
       "    .dataframe tbody tr th:only-of-type {\n",
       "        vertical-align: middle;\n",
       "    }\n",
       "\n",
       "    .dataframe tbody tr th {\n",
       "        vertical-align: top;\n",
       "    }\n",
       "\n",
       "    .dataframe thead th {\n",
       "        text-align: right;\n",
       "    }\n",
       "</style>\n",
       "<table border=\"1\" class=\"dataframe\">\n",
       "  <thead>\n",
       "    <tr style=\"text-align: right;\">\n",
       "      <th></th>\n",
       "      <th>rating</th>\n",
       "      <th>members</th>\n",
       "    </tr>\n",
       "  </thead>\n",
       "  <tbody>\n",
       "    <tr>\n",
       "      <th>count</th>\n",
       "      <td>11869.000000</td>\n",
       "      <td>1.186900e+04</td>\n",
       "    </tr>\n",
       "    <tr>\n",
       "      <th>mean</th>\n",
       "      <td>6.481038</td>\n",
       "      <td>1.845129e+04</td>\n",
       "    </tr>\n",
       "    <tr>\n",
       "      <th>std</th>\n",
       "      <td>1.021649</td>\n",
       "      <td>5.529020e+04</td>\n",
       "    </tr>\n",
       "    <tr>\n",
       "      <th>min</th>\n",
       "      <td>1.670000</td>\n",
       "      <td>1.200000e+01</td>\n",
       "    </tr>\n",
       "    <tr>\n",
       "      <th>25%</th>\n",
       "      <td>5.890000</td>\n",
       "      <td>2.290000e+02</td>\n",
       "    </tr>\n",
       "    <tr>\n",
       "      <th>50%</th>\n",
       "      <td>6.570000</td>\n",
       "      <td>1.574000e+03</td>\n",
       "    </tr>\n",
       "    <tr>\n",
       "      <th>75%</th>\n",
       "      <td>7.190000</td>\n",
       "      <td>9.767000e+03</td>\n",
       "    </tr>\n",
       "    <tr>\n",
       "      <th>max</th>\n",
       "      <td>10.000000</td>\n",
       "      <td>1.013917e+06</td>\n",
       "    </tr>\n",
       "  </tbody>\n",
       "</table>\n",
       "</div>"
      ],
      "text/plain": [
       "             rating       members\n",
       "count  11869.000000  1.186900e+04\n",
       "mean       6.481038  1.845129e+04\n",
       "std        1.021649  5.529020e+04\n",
       "min        1.670000  1.200000e+01\n",
       "25%        5.890000  2.290000e+02\n",
       "50%        6.570000  1.574000e+03\n",
       "75%        7.190000  9.767000e+03\n",
       "max       10.000000  1.013917e+06"
      ]
     },
     "execution_count": 49,
     "metadata": {},
     "output_type": "execute_result"
    }
   ],
   "source": [
    "anime_df[['rating', 'members']].describe()"
   ]
  },
  {
   "cell_type": "code",
   "execution_count": 52,
   "id": "47aa906b-b488-4fad-b2f3-880ef8bede1d",
   "metadata": {
    "tags": []
   },
   "outputs": [
    {
     "data": {
      "image/png": "[encoded data removed]",
      "text/plain": [
       "<Figure size 640x480 with 1 Axes>"
      ]
     },
     "metadata": {},
     "output_type": "display_data"
    }
   ],
   "source": [
    "anime_df['episodes'].plot(kind='hist', bins=20, log= True, xlabel='number of episodes', ylabel='counts (log)')\n",
    "plt.show()"
   ]
  },
  {
   "cell_type": "markdown",
   "id": "90f3b6db-e99b-4694-8ab6-74850e380f4f",
   "metadata": {
    "tags": []
   },
   "source": [
    "Most of the anime are under 250 episodes. And we have some outliers that has 500 or more episodes."
   ]
  },
  {
   "cell_type": "code",
   "execution_count": 63,
   "id": "d243f350-68cb-4fa5-a7f2-282274c57e83",
   "metadata": {
    "tags": []
   },
   "outputs": [
    {
     "data": {
      "image/png": "[encoded data removed]",
      "text/plain": [
       "<Figure size 640x480 with 1 Axes>"
      ]
     },
     "metadata": {},
     "output_type": "display_data"
    }
   ],
   "source": [
    "anime_df['members'].plot(kind='hist', bins=20, log=True, xlabel='members count', ylabel='counts (log)')\n",
    "plt.show()"
   ]
  },
  {
   "cell_type": "markdown",
   "id": "b181b78d-6262-41be-94bb-f50b846afaa6",
   "metadata": {},
   "source": [
    "Most anime has lower number of member counts and the graph skew to the right."
   ]
  },
  {
   "cell_type": "markdown",
   "id": "da4409bd-4589-4bcd-9a25-88bad098ff20",
   "metadata": {},
   "source": [
    "### Split each genre into columns [anime_df]"
   ]
  },
  {
   "cell_type": "markdown",
   "id": "f6c47ca6-88f3-43bf-9022-c506d0c9a4fc",
   "metadata": {},
   "source": [
    "Ok. We checked for fillable missing data, potential duplicates, feature value outliers, and the datatype. However, the genere column is a array of values. We will split each unique genere into a column with boolean value."
   ]
  },
  {
   "cell_type": "code",
   "execution_count": 64,
   "id": "724cd1a2-4d47-4817-915a-e6b06b3990fa",
   "metadata": {
    "tags": []
   },
   "outputs": [
    {
     "data": {
      "text/html": [
       "<div>\n",
       "<style scoped>\n",
       "    .dataframe tbody tr th:only-of-type {\n",
       "        vertical-align: middle;\n",
       "    }\n",
       "\n",
       "    .dataframe tbody tr th {\n",
       "        vertical-align: top;\n",
       "    }\n",
       "\n",
       "    .dataframe thead th {\n",
       "        text-align: right;\n",
       "    }\n",
       "</style>\n",
       "<table border=\"1\" class=\"dataframe\">\n",
       "  <thead>\n",
       "    <tr style=\"text-align: right;\">\n",
       "      <th></th>\n",
       "      <th>anime_id</th>\n",
       "      <th>name</th>\n",
       "      <th>type</th>\n",
       "      <th>episodes</th>\n",
       "      <th>rating</th>\n",
       "      <th>members</th>\n",
       "      <th>Action</th>\n",
       "      <th>Adventure</th>\n",
       "      <th>Cars</th>\n",
       "      <th>Comedy</th>\n",
       "      <th>...</th>\n",
       "      <th>Shounen Ai</th>\n",
       "      <th>Slice of Life</th>\n",
       "      <th>Space</th>\n",
       "      <th>Sports</th>\n",
       "      <th>Super Power</th>\n",
       "      <th>Supernatural</th>\n",
       "      <th>Thriller</th>\n",
       "      <th>Vampire</th>\n",
       "      <th>Yaoi</th>\n",
       "      <th>Yuri</th>\n",
       "    </tr>\n",
       "  </thead>\n",
       "  <tbody>\n",
       "    <tr>\n",
       "      <th>0</th>\n",
       "      <td>32281</td>\n",
       "      <td>Kimi no Na wa.</td>\n",
       "      <td>Movie</td>\n",
       "      <td>1.0</td>\n",
       "      <td>9.37</td>\n",
       "      <td>200630</td>\n",
       "      <td>0</td>\n",
       "      <td>0</td>\n",
       "      <td>0</td>\n",
       "      <td>0</td>\n",
       "      <td>...</td>\n",
       "      <td>0</td>\n",
       "      <td>0</td>\n",
       "      <td>0</td>\n",
       "      <td>0</td>\n",
       "      <td>0</td>\n",
       "      <td>1</td>\n",
       "      <td>0</td>\n",
       "      <td>0</td>\n",
       "      <td>0</td>\n",
       "      <td>0</td>\n",
       "    </tr>\n",
       "    <tr>\n",
       "      <th>1</th>\n",
       "      <td>5114</td>\n",
       "      <td>Fullmetal Alchemist: Brotherhood</td>\n",
       "      <td>TV</td>\n",
       "      <td>64.0</td>\n",
       "      <td>9.26</td>\n",
       "      <td>793665</td>\n",
       "      <td>1</td>\n",
       "      <td>1</td>\n",
       "      <td>0</td>\n",
       "      <td>0</td>\n",
       "      <td>...</td>\n",
       "      <td>0</td>\n",
       "      <td>0</td>\n",
       "      <td>0</td>\n",
       "      <td>0</td>\n",
       "      <td>0</td>\n",
       "      <td>0</td>\n",
       "      <td>0</td>\n",
       "      <td>0</td>\n",
       "      <td>0</td>\n",
       "      <td>0</td>\n",
       "    </tr>\n",
       "    <tr>\n",
       "      <th>2</th>\n",
       "      <td>28977</td>\n",
       "      <td>Gintama°</td>\n",
       "      <td>TV</td>\n",
       "      <td>51.0</td>\n",
       "      <td>9.25</td>\n",
       "      <td>114262</td>\n",
       "      <td>1</td>\n",
       "      <td>0</td>\n",
       "      <td>0</td>\n",
       "      <td>1</td>\n",
       "      <td>...</td>\n",
       "      <td>0</td>\n",
       "      <td>0</td>\n",
       "      <td>0</td>\n",
       "      <td>0</td>\n",
       "      <td>0</td>\n",
       "      <td>0</td>\n",
       "      <td>0</td>\n",
       "      <td>0</td>\n",
       "      <td>0</td>\n",
       "      <td>0</td>\n",
       "    </tr>\n",
       "    <tr>\n",
       "      <th>3</th>\n",
       "      <td>9253</td>\n",
       "      <td>Steins;Gate</td>\n",
       "      <td>TV</td>\n",
       "      <td>24.0</td>\n",
       "      <td>9.17</td>\n",
       "      <td>673572</td>\n",
       "      <td>0</td>\n",
       "      <td>0</td>\n",
       "      <td>0</td>\n",
       "      <td>0</td>\n",
       "      <td>...</td>\n",
       "      <td>0</td>\n",
       "      <td>0</td>\n",
       "      <td>0</td>\n",
       "      <td>0</td>\n",
       "      <td>0</td>\n",
       "      <td>0</td>\n",
       "      <td>1</td>\n",
       "      <td>0</td>\n",
       "      <td>0</td>\n",
       "      <td>0</td>\n",
       "    </tr>\n",
       "    <tr>\n",
       "      <th>4</th>\n",
       "      <td>9969</td>\n",
       "      <td>Gintama&amp;#039;</td>\n",
       "      <td>TV</td>\n",
       "      <td>51.0</td>\n",
       "      <td>9.16</td>\n",
       "      <td>151266</td>\n",
       "      <td>1</td>\n",
       "      <td>0</td>\n",
       "      <td>0</td>\n",
       "      <td>1</td>\n",
       "      <td>...</td>\n",
       "      <td>0</td>\n",
       "      <td>0</td>\n",
       "      <td>0</td>\n",
       "      <td>0</td>\n",
       "      <td>0</td>\n",
       "      <td>0</td>\n",
       "      <td>0</td>\n",
       "      <td>0</td>\n",
       "      <td>0</td>\n",
       "      <td>0</td>\n",
       "    </tr>\n",
       "    <tr>\n",
       "      <th>...</th>\n",
       "      <td>...</td>\n",
       "      <td>...</td>\n",
       "      <td>...</td>\n",
       "      <td>...</td>\n",
       "      <td>...</td>\n",
       "      <td>...</td>\n",
       "      <td>...</td>\n",
       "      <td>...</td>\n",
       "      <td>...</td>\n",
       "      <td>...</td>\n",
       "      <td>...</td>\n",
       "      <td>...</td>\n",
       "      <td>...</td>\n",
       "      <td>...</td>\n",
       "      <td>...</td>\n",
       "      <td>...</td>\n",
       "      <td>...</td>\n",
       "      <td>...</td>\n",
       "      <td>...</td>\n",
       "      <td>...</td>\n",
       "      <td>...</td>\n",
       "    </tr>\n",
       "    <tr>\n",
       "      <th>12289</th>\n",
       "      <td>9316</td>\n",
       "      <td>Toushindai My Lover: Minami tai Mecha-Minami</td>\n",
       "      <td>OVA</td>\n",
       "      <td>1.0</td>\n",
       "      <td>4.15</td>\n",
       "      <td>211</td>\n",
       "      <td>0</td>\n",
       "      <td>0</td>\n",
       "      <td>0</td>\n",
       "      <td>0</td>\n",
       "      <td>...</td>\n",
       "      <td>0</td>\n",
       "      <td>0</td>\n",
       "      <td>0</td>\n",
       "      <td>0</td>\n",
       "      <td>0</td>\n",
       "      <td>0</td>\n",
       "      <td>0</td>\n",
       "      <td>0</td>\n",
       "      <td>0</td>\n",
       "      <td>0</td>\n",
       "    </tr>\n",
       "    <tr>\n",
       "      <th>12290</th>\n",
       "      <td>5543</td>\n",
       "      <td>Under World</td>\n",
       "      <td>OVA</td>\n",
       "      <td>1.0</td>\n",
       "      <td>4.28</td>\n",
       "      <td>183</td>\n",
       "      <td>0</td>\n",
       "      <td>0</td>\n",
       "      <td>0</td>\n",
       "      <td>0</td>\n",
       "      <td>...</td>\n",
       "      <td>0</td>\n",
       "      <td>0</td>\n",
       "      <td>0</td>\n",
       "      <td>0</td>\n",
       "      <td>0</td>\n",
       "      <td>0</td>\n",
       "      <td>0</td>\n",
       "      <td>0</td>\n",
       "      <td>0</td>\n",
       "      <td>0</td>\n",
       "    </tr>\n",
       "    <tr>\n",
       "      <th>12291</th>\n",
       "      <td>5621</td>\n",
       "      <td>Violence Gekiga David no Hoshi</td>\n",
       "      <td>OVA</td>\n",
       "      <td>4.0</td>\n",
       "      <td>4.88</td>\n",
       "      <td>219</td>\n",
       "      <td>0</td>\n",
       "      <td>0</td>\n",
       "      <td>0</td>\n",
       "      <td>0</td>\n",
       "      <td>...</td>\n",
       "      <td>0</td>\n",
       "      <td>0</td>\n",
       "      <td>0</td>\n",
       "      <td>0</td>\n",
       "      <td>0</td>\n",
       "      <td>0</td>\n",
       "      <td>0</td>\n",
       "      <td>0</td>\n",
       "      <td>0</td>\n",
       "      <td>0</td>\n",
       "    </tr>\n",
       "    <tr>\n",
       "      <th>12292</th>\n",
       "      <td>6133</td>\n",
       "      <td>Violence Gekiga Shin David no Hoshi: Inma Dens...</td>\n",
       "      <td>OVA</td>\n",
       "      <td>1.0</td>\n",
       "      <td>4.98</td>\n",
       "      <td>175</td>\n",
       "      <td>0</td>\n",
       "      <td>0</td>\n",
       "      <td>0</td>\n",
       "      <td>0</td>\n",
       "      <td>...</td>\n",
       "      <td>0</td>\n",
       "      <td>0</td>\n",
       "      <td>0</td>\n",
       "      <td>0</td>\n",
       "      <td>0</td>\n",
       "      <td>0</td>\n",
       "      <td>0</td>\n",
       "      <td>0</td>\n",
       "      <td>0</td>\n",
       "      <td>0</td>\n",
       "    </tr>\n",
       "    <tr>\n",
       "      <th>12293</th>\n",
       "      <td>26081</td>\n",
       "      <td>Yasuji no Pornorama: Yacchimae!!</td>\n",
       "      <td>Movie</td>\n",
       "      <td>1.0</td>\n",
       "      <td>5.46</td>\n",
       "      <td>142</td>\n",
       "      <td>0</td>\n",
       "      <td>0</td>\n",
       "      <td>0</td>\n",
       "      <td>0</td>\n",
       "      <td>...</td>\n",
       "      <td>0</td>\n",
       "      <td>0</td>\n",
       "      <td>0</td>\n",
       "      <td>0</td>\n",
       "      <td>0</td>\n",
       "      <td>0</td>\n",
       "      <td>0</td>\n",
       "      <td>0</td>\n",
       "      <td>0</td>\n",
       "      <td>0</td>\n",
       "    </tr>\n",
       "  </tbody>\n",
       "</table>\n",
       "<p>11869 rows × 49 columns</p>\n",
       "</div>"
      ],
      "text/plain": [
       "       anime_id                                               name   type  \\\n",
       "0         32281                                     Kimi no Na wa.  Movie   \n",
       "1          5114                   Fullmetal Alchemist: Brotherhood     TV   \n",
       "2         28977                                           Gintama°     TV   \n",
       "3          9253                                        Steins;Gate     TV   \n",
       "4          9969                                      Gintama&#039;     TV   \n",
       "...         ...                                                ...    ...   \n",
       "12289      9316       Toushindai My Lover: Minami tai Mecha-Minami    OVA   \n",
       "12290      5543                                        Under World    OVA   \n",
       "12291      5621                     Violence Gekiga David no Hoshi    OVA   \n",
       "12292      6133  Violence Gekiga Shin David no Hoshi: Inma Dens...    OVA   \n",
       "12293     26081                   Yasuji no Pornorama: Yacchimae!!  Movie   \n",
       "\n",
       "       episodes  rating  members  Action  Adventure  Cars  Comedy  ...  \\\n",
       "0           1.0    9.37   200630       0          0     0       0  ...   \n",
       "1          64.0    9.26   793665       1          1     0       0  ...   \n",
       "2          51.0    9.25   114262       1          0     0       1  ...   \n",
       "3          24.0    9.17   673572       0          0     0       0  ...   \n",
       "4          51.0    9.16   151266       1          0     0       1  ...   \n",
       "...         ...     ...      ...     ...        ...   ...     ...  ...   \n",
       "12289       1.0    4.15      211       0          0     0       0  ...   \n",
       "12290       1.0    4.28      183       0          0     0       0  ...   \n",
       "12291       4.0    4.88      219       0          0     0       0  ...   \n",
       "12292       1.0    4.98      175       0          0     0       0  ...   \n",
       "12293       1.0    5.46      142       0          0     0       0  ...   \n",
       "\n",
       "       Shounen Ai  Slice of Life  Space  Sports  Super Power  Supernatural  \\\n",
       "0               0              0      0       0            0             1   \n",
       "1               0              0      0       0            0             0   \n",
       "2               0              0      0       0            0             0   \n",
       "3               0              0      0       0            0             0   \n",
       "4               0              0      0       0            0             0   \n",
       "...           ...            ...    ...     ...          ...           ...   \n",
       "12289           0              0      0       0            0             0   \n",
       "12290           0              0      0       0            0             0   \n",
       "12291           0              0      0       0            0             0   \n",
       "12292           0              0      0       0            0             0   \n",
       "12293           0              0      0       0            0             0   \n",
       "\n",
       "       Thriller  Vampire  Yaoi  Yuri  \n",
       "0             0        0     0     0  \n",
       "1             0        0     0     0  \n",
       "2             0        0     0     0  \n",
       "3             1        0     0     0  \n",
       "4             0        0     0     0  \n",
       "...         ...      ...   ...   ...  \n",
       "12289         0        0     0     0  \n",
       "12290         0        0     0     0  \n",
       "12291         0        0     0     0  \n",
       "12292         0        0     0     0  \n",
       "12293         0        0     0     0  \n",
       "\n",
       "[11869 rows x 49 columns]"
      ]
     },
     "execution_count": 64,
     "metadata": {},
     "output_type": "execute_result"
    }
   ],
   "source": [
    "genre_columns = anime_df['genre'].str.get_dummies(sep=', ')\n",
    "anime_df = pd.concat([anime_df, genre_columns], axis=1)\n",
    "anime_df = anime_df.drop('genre', axis=1)\n",
    "anime_df"
   ]
  },
  {
   "cell_type": "markdown",
   "id": "d4a1684a-ec14-46fd-9b3c-be91114a5278",
   "metadata": {},
   "source": [
    "### Check missing value [rating_df]"
   ]
  },
  {
   "cell_type": "code",
   "execution_count": 73,
   "id": "9b4af48a-0933-4966-b146-16834480da0a",
   "metadata": {
    "tags": []
   },
   "outputs": [
    {
     "name": "stdout",
     "output_type": "stream",
     "text": [
      "<class 'pandas.core.frame.DataFrame'>\n",
      "RangeIndex: 7813737 entries, 0 to 7813736\n",
      "Data columns (total 3 columns):\n",
      " #   Column    Dtype\n",
      "---  ------    -----\n",
      " 0   user_id   int64\n",
      " 1   anime_id  int64\n",
      " 2   rating    int64\n",
      "dtypes: int64(3)\n",
      "memory usage: 178.8 MB\n",
      "None\n"
     ]
    },
    {
     "data": {
      "text/html": [
       "<div>\n",
       "<style scoped>\n",
       "    .dataframe tbody tr th:only-of-type {\n",
       "        vertical-align: middle;\n",
       "    }\n",
       "\n",
       "    .dataframe tbody tr th {\n",
       "        vertical-align: top;\n",
       "    }\n",
       "\n",
       "    .dataframe thead th {\n",
       "        text-align: right;\n",
       "    }\n",
       "</style>\n",
       "<table border=\"1\" class=\"dataframe\">\n",
       "  <thead>\n",
       "    <tr style=\"text-align: right;\">\n",
       "      <th></th>\n",
       "      <th>user_id</th>\n",
       "      <th>anime_id</th>\n",
       "      <th>rating</th>\n",
       "    </tr>\n",
       "  </thead>\n",
       "  <tbody>\n",
       "    <tr>\n",
       "      <th>0</th>\n",
       "      <td>1</td>\n",
       "      <td>20</td>\n",
       "      <td>-1</td>\n",
       "    </tr>\n",
       "    <tr>\n",
       "      <th>1</th>\n",
       "      <td>1</td>\n",
       "      <td>24</td>\n",
       "      <td>-1</td>\n",
       "    </tr>\n",
       "    <tr>\n",
       "      <th>2</th>\n",
       "      <td>1</td>\n",
       "      <td>79</td>\n",
       "      <td>-1</td>\n",
       "    </tr>\n",
       "    <tr>\n",
       "      <th>3</th>\n",
       "      <td>1</td>\n",
       "      <td>226</td>\n",
       "      <td>-1</td>\n",
       "    </tr>\n",
       "    <tr>\n",
       "      <th>4</th>\n",
       "      <td>1</td>\n",
       "      <td>241</td>\n",
       "      <td>-1</td>\n",
       "    </tr>\n",
       "  </tbody>\n",
       "</table>\n",
       "</div>"
      ],
      "text/plain": [
       "   user_id  anime_id  rating\n",
       "0        1        20      -1\n",
       "1        1        24      -1\n",
       "2        1        79      -1\n",
       "3        1       226      -1\n",
       "4        1       241      -1"
      ]
     },
     "execution_count": 73,
     "metadata": {},
     "output_type": "execute_result"
    }
   ],
   "source": [
    "#Cleaning for rating\n",
    "print(rating_raw.info())\n",
    "rating_raw.head()"
   ]
  },
  {
   "cell_type": "code",
   "execution_count": 66,
   "id": "feef644b-74d0-41ba-96cd-d429280681f9",
   "metadata": {
    "tags": []
   },
   "outputs": [
    {
     "data": {
      "text/plain": [
       "user_id     0\n",
       "anime_id    0\n",
       "rating      0\n",
       "dtype: int64"
      ]
     },
     "execution_count": 66,
     "metadata": {},
     "output_type": "execute_result"
    }
   ],
   "source": [
    "rating_raw.isna().sum()"
   ]
  },
  {
   "cell_type": "markdown",
   "id": "677cabac-b361-43cd-b687-72350f609fe6",
   "metadata": {},
   "source": [
    "### Drop duplicates"
   ]
  },
  {
   "cell_type": "code",
   "execution_count": 67,
   "id": "7f5ea4c8-251a-4ac5-818e-f46a5d9d39c0",
   "metadata": {
    "tags": []
   },
   "outputs": [
    {
     "data": {
      "text/html": [
       "<div>\n",
       "<style scoped>\n",
       "    .dataframe tbody tr th:only-of-type {\n",
       "        vertical-align: middle;\n",
       "    }\n",
       "\n",
       "    .dataframe tbody tr th {\n",
       "        vertical-align: top;\n",
       "    }\n",
       "\n",
       "    .dataframe thead th {\n",
       "        text-align: right;\n",
       "    }\n",
       "</style>\n",
       "<table border=\"1\" class=\"dataframe\">\n",
       "  <thead>\n",
       "    <tr style=\"text-align: right;\">\n",
       "      <th></th>\n",
       "      <th>user_id</th>\n",
       "      <th>anime_id</th>\n",
       "      <th>rating</th>\n",
       "    </tr>\n",
       "  </thead>\n",
       "  <tbody>\n",
       "    <tr>\n",
       "      <th>4499258</th>\n",
       "      <td>42653</td>\n",
       "      <td>16498</td>\n",
       "      <td>8</td>\n",
       "    </tr>\n",
       "    <tr>\n",
       "      <th>4499316</th>\n",
       "      <td>42653</td>\n",
       "      <td>16498</td>\n",
       "      <td>8</td>\n",
       "    </tr>\n",
       "  </tbody>\n",
       "</table>\n",
       "</div>"
      ],
      "text/plain": [
       "         user_id  anime_id  rating\n",
       "4499258    42653     16498       8\n",
       "4499316    42653     16498       8"
      ]
     },
     "execution_count": 67,
     "metadata": {},
     "output_type": "execute_result"
    }
   ],
   "source": [
    "rating_raw[rating_raw.duplicated(keep=False)]"
   ]
  },
  {
   "cell_type": "code",
   "execution_count": 68,
   "id": "7c6376ec-043f-4454-92f0-d4ee19aec799",
   "metadata": {
    "tags": []
   },
   "outputs": [
    {
     "name": "stdout",
     "output_type": "stream",
     "text": [
      "2\n",
      "0\n"
     ]
    }
   ],
   "source": [
    "print(rating_raw.duplicated(keep=False).sum())\n",
    "rating_df = rating_raw.drop_duplicates()\n",
    "print(rating_df.duplicated(keep=False).sum())"
   ]
  },
  {
   "cell_type": "markdown",
   "id": "543a389a-d67b-4f72-9f10-4bca1516eb66",
   "metadata": {
    "tags": []
   },
   "source": [
    "### Check feature value distributions [rating_df]¶"
   ]
  },
  {
   "cell_type": "code",
   "execution_count": 74,
   "id": "4027e171-740c-465a-b081-5781f36e0db0",
   "metadata": {
    "tags": []
   },
   "outputs": [
    {
     "data": {
      "image/png": "[encoded data removed]",
      "text/plain": [
       "<Figure size 640x480 with 1 Axes>"
      ]
     },
     "metadata": {},
     "output_type": "display_data"
    }
   ],
   "source": [
    "rating_df['rating'].plot(kind='hist', xlabel='rating', ylabel='count')\n",
    "plt.show()"
   ]
  },
  {
   "cell_type": "markdown",
   "id": "01c34638-e6ee-4046-a5fd-81422530e258",
   "metadata": {},
   "source": [
    "A lot of the ratings are in the range of 6 or above. We also see some record as -1 as rating value. This means the user watched the anime but didn't provide a rating. For the purpose of this project, we will drop the rating with -1 values."
   ]
  },
  {
   "cell_type": "code",
   "execution_count": 76,
   "id": "3f22ba23-a223-4bfe-b0e5-cf07261c21fc",
   "metadata": {
    "tags": []
   },
   "outputs": [
    {
     "data": {
      "text/plain": [
       "array([10,  8,  6,  9,  7,  3,  5,  4,  1,  2])"
      ]
     },
     "execution_count": 76,
     "metadata": {},
     "output_type": "execute_result"
    }
   ],
   "source": [
    "rating_df = rating_df[rating_df['rating']>=0]\n",
    "rating_df['rating'].unique()"
   ]
  },
  {
   "cell_type": "markdown",
   "id": "8fd4e550-bac6-4adc-b928-0114687c15e4",
   "metadata": {},
   "source": [
    "## Data Definition<a id='data_definition'></a>"
   ]
  },
  {
   "cell_type": "code",
   "execution_count": 77,
   "id": "3959a8a6-20fb-4c4f-bba7-12512297cd6d",
   "metadata": {
    "tags": []
   },
   "outputs": [],
   "source": [
    "# save data\n",
    "anime_df.to_csv('data/anime_df.csv', sep=',')\n",
    "rating_df.to_csv('data/rating_df.csv', sep=',')\n"
   ]
  },
  {
   "cell_type": "code",
   "execution_count": null,
   "id": "c5e379b8-a205-45da-bc7d-081d8f8c2aca",
   "metadata": {},
   "outputs": [],
   "source": []
  }
 ],
 "metadata": {
  "kernelspec": {
   "display_name": "Python 3 (ipykernel)",
   "language": "python",
   "name": "python3"
  },
  "language_info": {
   "codemirror_mode": {
    "name": "ipython",
    "version": 3
   },
   "file_extension": ".py",
   "mimetype": "text/x-python",
   "name": "python",
   "nbconvert_exporter": "python",
   "pygments_lexer": "ipython3",
   "version": "3.11.2"
  }
 },
 "nbformat": 4,
 "nbformat_minor": 5
}
