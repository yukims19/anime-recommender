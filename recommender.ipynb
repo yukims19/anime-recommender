{
 "cells": [
  {
   "cell_type": "markdown",
   "id": "8f343a97-9e70-434f-81c7-8c155a50e1b9",
   "metadata": {},
   "source": [
    "# Anime Recommender Collaborative Filtering"
   ]
  },
  {
   "cell_type": "code",
   "execution_count": 55,
   "id": "bf066255-9af1-44aa-bae6-364bf1a1fcec",
   "metadata": {
    "tags": []
   },
   "outputs": [],
   "source": [
    "import pandas as pd\n",
    "import numpy as np\n",
    "from sklearn.model_selection import train_test_split\n",
    "from sklearn.metrics.pairwise import cosine_similarity, pairwise_distances\n",
    "from sklearn.metrics import mean_squared_error, mean_absolute_error, r2_score\n",
    "\n",
    "\n",
    "from scipy.sparse import csr_matrix\n",
    "from math import sqrt\n",
    "from tqdm import tqdm"
   ]
  },
  {
   "cell_type": "markdown",
   "id": "308152f7-9e93-4f38-95a4-7f9408a978e2",
   "metadata": {},
   "source": [
    "- Memory based (KNN)\n",
    "  - User based\n",
    "  - Item based\n",
    "- Modal based (Matrix Factorization)"
   ]
  },
  {
   "cell_type": "markdown",
   "id": "67f6bacf-8e03-48a5-a0eb-a889d786a345",
   "metadata": {
    "tags": []
   },
   "source": [
    "## User-Item Matrix"
   ]
  },
  {
   "cell_type": "code",
   "execution_count": 4,
   "id": "e67ad7e2-53c0-4996-88aa-115bd93920cc",
   "metadata": {
    "tags": []
   },
   "outputs": [
    {
     "data": {
      "text/html": [
       "<div>\n",
       "<style scoped>\n",
       "    .dataframe tbody tr th:only-of-type {\n",
       "        vertical-align: middle;\n",
       "    }\n",
       "\n",
       "    .dataframe tbody tr th {\n",
       "        vertical-align: top;\n",
       "    }\n",
       "\n",
       "    .dataframe thead th {\n",
       "        text-align: right;\n",
       "    }\n",
       "</style>\n",
       "<table border=\"1\" class=\"dataframe\">\n",
       "  <thead>\n",
       "    <tr style=\"text-align: right;\">\n",
       "      <th></th>\n",
       "      <th>anime_id</th>\n",
       "      <th>name</th>\n",
       "      <th>genre</th>\n",
       "      <th>type</th>\n",
       "      <th>episodes</th>\n",
       "      <th>rating</th>\n",
       "      <th>members</th>\n",
       "    </tr>\n",
       "  </thead>\n",
       "  <tbody>\n",
       "    <tr>\n",
       "      <th>0</th>\n",
       "      <td>32281</td>\n",
       "      <td>Kimi no Na wa.</td>\n",
       "      <td>Drama, Romance, School, Supernatural</td>\n",
       "      <td>Movie</td>\n",
       "      <td>1</td>\n",
       "      <td>9.37</td>\n",
       "      <td>200630</td>\n",
       "    </tr>\n",
       "    <tr>\n",
       "      <th>1</th>\n",
       "      <td>5114</td>\n",
       "      <td>Fullmetal Alchemist: Brotherhood</td>\n",
       "      <td>Action, Adventure, Drama, Fantasy, Magic, Mili...</td>\n",
       "      <td>TV</td>\n",
       "      <td>64</td>\n",
       "      <td>9.26</td>\n",
       "      <td>793665</td>\n",
       "    </tr>\n",
       "    <tr>\n",
       "      <th>2</th>\n",
       "      <td>28977</td>\n",
       "      <td>Gintama°</td>\n",
       "      <td>Action, Comedy, Historical, Parody, Samurai, S...</td>\n",
       "      <td>TV</td>\n",
       "      <td>51</td>\n",
       "      <td>9.25</td>\n",
       "      <td>114262</td>\n",
       "    </tr>\n",
       "    <tr>\n",
       "      <th>3</th>\n",
       "      <td>9253</td>\n",
       "      <td>Steins;Gate</td>\n",
       "      <td>Sci-Fi, Thriller</td>\n",
       "      <td>TV</td>\n",
       "      <td>24</td>\n",
       "      <td>9.17</td>\n",
       "      <td>673572</td>\n",
       "    </tr>\n",
       "    <tr>\n",
       "      <th>4</th>\n",
       "      <td>9969</td>\n",
       "      <td>Gintama&amp;#039;</td>\n",
       "      <td>Action, Comedy, Historical, Parody, Samurai, S...</td>\n",
       "      <td>TV</td>\n",
       "      <td>51</td>\n",
       "      <td>9.16</td>\n",
       "      <td>151266</td>\n",
       "    </tr>\n",
       "  </tbody>\n",
       "</table>\n",
       "</div>"
      ],
      "text/plain": [
       "   anime_id                              name  \\\n",
       "0     32281                    Kimi no Na wa.   \n",
       "1      5114  Fullmetal Alchemist: Brotherhood   \n",
       "2     28977                          Gintama°   \n",
       "3      9253                       Steins;Gate   \n",
       "4      9969                     Gintama&#039;   \n",
       "\n",
       "                                               genre   type episodes  rating  \\\n",
       "0               Drama, Romance, School, Supernatural  Movie        1    9.37   \n",
       "1  Action, Adventure, Drama, Fantasy, Magic, Mili...     TV       64    9.26   \n",
       "2  Action, Comedy, Historical, Parody, Samurai, S...     TV       51    9.25   \n",
       "3                                   Sci-Fi, Thriller     TV       24    9.17   \n",
       "4  Action, Comedy, Historical, Parody, Samurai, S...     TV       51    9.16   \n",
       "\n",
       "   members  \n",
       "0   200630  \n",
       "1   793665  \n",
       "2   114262  \n",
       "3   673572  \n",
       "4   151266  "
      ]
     },
     "execution_count": 4,
     "metadata": {},
     "output_type": "execute_result"
    }
   ],
   "source": [
    "anime_df = pd.read_csv('data/anime.csv')\n",
    "anime_df.head()"
   ]
  },
  {
   "cell_type": "code",
   "execution_count": 5,
   "id": "4ea96998-6b6d-478c-8d45-e2865938b2c0",
   "metadata": {
    "tags": []
   },
   "outputs": [
    {
     "data": {
      "text/html": [
       "<div>\n",
       "<style scoped>\n",
       "    .dataframe tbody tr th:only-of-type {\n",
       "        vertical-align: middle;\n",
       "    }\n",
       "\n",
       "    .dataframe tbody tr th {\n",
       "        vertical-align: top;\n",
       "    }\n",
       "\n",
       "    .dataframe thead th {\n",
       "        text-align: right;\n",
       "    }\n",
       "</style>\n",
       "<table border=\"1\" class=\"dataframe\">\n",
       "  <thead>\n",
       "    <tr style=\"text-align: right;\">\n",
       "      <th></th>\n",
       "      <th>user_id</th>\n",
       "      <th>anime_id</th>\n",
       "      <th>rating</th>\n",
       "    </tr>\n",
       "  </thead>\n",
       "  <tbody>\n",
       "    <tr>\n",
       "      <th>0</th>\n",
       "      <td>1</td>\n",
       "      <td>20</td>\n",
       "      <td>-1</td>\n",
       "    </tr>\n",
       "    <tr>\n",
       "      <th>1</th>\n",
       "      <td>1</td>\n",
       "      <td>24</td>\n",
       "      <td>-1</td>\n",
       "    </tr>\n",
       "    <tr>\n",
       "      <th>2</th>\n",
       "      <td>1</td>\n",
       "      <td>79</td>\n",
       "      <td>-1</td>\n",
       "    </tr>\n",
       "    <tr>\n",
       "      <th>3</th>\n",
       "      <td>1</td>\n",
       "      <td>226</td>\n",
       "      <td>-1</td>\n",
       "    </tr>\n",
       "    <tr>\n",
       "      <th>4</th>\n",
       "      <td>1</td>\n",
       "      <td>241</td>\n",
       "      <td>-1</td>\n",
       "    </tr>\n",
       "  </tbody>\n",
       "</table>\n",
       "</div>"
      ],
      "text/plain": [
       "   user_id  anime_id  rating\n",
       "0        1        20      -1\n",
       "1        1        24      -1\n",
       "2        1        79      -1\n",
       "3        1       226      -1\n",
       "4        1       241      -1"
      ]
     },
     "execution_count": 5,
     "metadata": {},
     "output_type": "execute_result"
    }
   ],
   "source": [
    "rating_df = pd.read_csv('data/rating.csv')\n",
    "rating_df.head()"
   ]
  },
  {
   "cell_type": "code",
   "execution_count": 6,
   "id": "2830f615-809f-4ce1-a756-4c403cc77105",
   "metadata": {
    "tags": []
   },
   "outputs": [],
   "source": [
    "rating_df.drop_duplicates(subset=['user_id', 'anime_id'], keep='first', inplace=True)"
   ]
  },
  {
   "cell_type": "code",
   "execution_count": 7,
   "id": "f53d23ca-3c23-40c0-bb78-0af6bc54d0ee",
   "metadata": {
    "tags": []
   },
   "outputs": [],
   "source": [
    "rating_df['rating'] = rating_df['rating'].replace(-1, np.nan)\n",
    "\n",
    "# Create user-item matrix\n",
    "user_anime_matrix = rating_df.pivot(index='user_id', columns='anime_id', values='rating')"
   ]
  },
  {
   "cell_type": "code",
   "execution_count": 8,
   "id": "daf17f5a-1d0c-49ae-8448-2dbc623653dc",
   "metadata": {
    "tags": []
   },
   "outputs": [
    {
     "name": "stderr",
     "output_type": "stream",
     "text": [
      "/var/folders/xk/5gx1tq55563djqn2f91dfp040000gn/T/ipykernel_51813/1292175104.py:2: RuntimeWarning: Mean of empty slice\n",
      "  user_anime_matrix_normalized = user_anime_matrix.apply(lambda x: (x - np.nanmean(x)) / np.nanstd(x), axis=1)\n",
      "/opt/homebrew/lib/python3.11/site-packages/numpy/lib/nanfunctions.py:1872: RuntimeWarning: Degrees of freedom <= 0 for slice.\n",
      "  var = nanvar(a, axis=axis, dtype=dtype, out=out, ddof=ddof,\n"
     ]
    }
   ],
   "source": [
    "# Normalize the ratings\n",
    "user_anime_matrix_normalized = user_anime_matrix.apply(lambda x: (x - np.nanmean(x)) / np.nanstd(x), axis=1)\n",
    "\n",
    "# Fill missing values with 0\n",
    "user_anime_matrix_filled = user_anime_matrix_normalized.fillna(0)"
   ]
  },
  {
   "cell_type": "code",
   "execution_count": 9,
   "id": "ccdb9722-4cc3-411a-93b9-3bf04628cb07",
   "metadata": {
    "tags": []
   },
   "outputs": [
    {
     "data": {
      "text/html": [
       "<div>\n",
       "<style scoped>\n",
       "    .dataframe tbody tr th:only-of-type {\n",
       "        vertical-align: middle;\n",
       "    }\n",
       "\n",
       "    .dataframe tbody tr th {\n",
       "        vertical-align: top;\n",
       "    }\n",
       "\n",
       "    .dataframe thead th {\n",
       "        text-align: right;\n",
       "    }\n",
       "</style>\n",
       "<table border=\"1\" class=\"dataframe\">\n",
       "  <thead>\n",
       "    <tr style=\"text-align: right;\">\n",
       "      <th>anime_id</th>\n",
       "      <th>1</th>\n",
       "      <th>5</th>\n",
       "      <th>6</th>\n",
       "      <th>7</th>\n",
       "      <th>8</th>\n",
       "      <th>15</th>\n",
       "      <th>16</th>\n",
       "      <th>17</th>\n",
       "      <th>18</th>\n",
       "      <th>19</th>\n",
       "      <th>...</th>\n",
       "      <th>34283</th>\n",
       "      <th>34324</th>\n",
       "      <th>34325</th>\n",
       "      <th>34349</th>\n",
       "      <th>34358</th>\n",
       "      <th>34367</th>\n",
       "      <th>34412</th>\n",
       "      <th>34475</th>\n",
       "      <th>34476</th>\n",
       "      <th>34519</th>\n",
       "    </tr>\n",
       "    <tr>\n",
       "      <th>user_id</th>\n",
       "      <th></th>\n",
       "      <th></th>\n",
       "      <th></th>\n",
       "      <th></th>\n",
       "      <th></th>\n",
       "      <th></th>\n",
       "      <th></th>\n",
       "      <th></th>\n",
       "      <th></th>\n",
       "      <th></th>\n",
       "      <th></th>\n",
       "      <th></th>\n",
       "      <th></th>\n",
       "      <th></th>\n",
       "      <th></th>\n",
       "      <th></th>\n",
       "      <th></th>\n",
       "      <th></th>\n",
       "      <th></th>\n",
       "      <th></th>\n",
       "      <th></th>\n",
       "    </tr>\n",
       "  </thead>\n",
       "  <tbody>\n",
       "    <tr>\n",
       "      <th>1</th>\n",
       "      <td>0.0</td>\n",
       "      <td>0.0</td>\n",
       "      <td>0.000000</td>\n",
       "      <td>0.0</td>\n",
       "      <td>0.0</td>\n",
       "      <td>0.000000</td>\n",
       "      <td>0.0</td>\n",
       "      <td>0.000000</td>\n",
       "      <td>0.000000</td>\n",
       "      <td>0.0</td>\n",
       "      <td>...</td>\n",
       "      <td>0.0</td>\n",
       "      <td>0.0</td>\n",
       "      <td>0.0</td>\n",
       "      <td>0.0</td>\n",
       "      <td>0.0</td>\n",
       "      <td>0.0</td>\n",
       "      <td>0.0</td>\n",
       "      <td>0.0</td>\n",
       "      <td>0.0</td>\n",
       "      <td>0.0</td>\n",
       "    </tr>\n",
       "    <tr>\n",
       "      <th>2</th>\n",
       "      <td>0.0</td>\n",
       "      <td>0.0</td>\n",
       "      <td>0.000000</td>\n",
       "      <td>0.0</td>\n",
       "      <td>0.0</td>\n",
       "      <td>0.000000</td>\n",
       "      <td>0.0</td>\n",
       "      <td>0.000000</td>\n",
       "      <td>0.000000</td>\n",
       "      <td>0.0</td>\n",
       "      <td>...</td>\n",
       "      <td>0.0</td>\n",
       "      <td>0.0</td>\n",
       "      <td>0.0</td>\n",
       "      <td>0.0</td>\n",
       "      <td>0.0</td>\n",
       "      <td>0.0</td>\n",
       "      <td>0.0</td>\n",
       "      <td>0.0</td>\n",
       "      <td>0.0</td>\n",
       "      <td>0.0</td>\n",
       "    </tr>\n",
       "    <tr>\n",
       "      <th>3</th>\n",
       "      <td>0.0</td>\n",
       "      <td>0.0</td>\n",
       "      <td>0.000000</td>\n",
       "      <td>0.0</td>\n",
       "      <td>0.0</td>\n",
       "      <td>0.000000</td>\n",
       "      <td>0.0</td>\n",
       "      <td>0.000000</td>\n",
       "      <td>0.000000</td>\n",
       "      <td>0.0</td>\n",
       "      <td>...</td>\n",
       "      <td>0.0</td>\n",
       "      <td>0.0</td>\n",
       "      <td>0.0</td>\n",
       "      <td>0.0</td>\n",
       "      <td>0.0</td>\n",
       "      <td>0.0</td>\n",
       "      <td>0.0</td>\n",
       "      <td>0.0</td>\n",
       "      <td>0.0</td>\n",
       "      <td>0.0</td>\n",
       "    </tr>\n",
       "    <tr>\n",
       "      <th>4</th>\n",
       "      <td>0.0</td>\n",
       "      <td>0.0</td>\n",
       "      <td>0.000000</td>\n",
       "      <td>0.0</td>\n",
       "      <td>0.0</td>\n",
       "      <td>0.000000</td>\n",
       "      <td>0.0</td>\n",
       "      <td>0.000000</td>\n",
       "      <td>0.000000</td>\n",
       "      <td>0.0</td>\n",
       "      <td>...</td>\n",
       "      <td>0.0</td>\n",
       "      <td>0.0</td>\n",
       "      <td>0.0</td>\n",
       "      <td>0.0</td>\n",
       "      <td>0.0</td>\n",
       "      <td>0.0</td>\n",
       "      <td>0.0</td>\n",
       "      <td>0.0</td>\n",
       "      <td>0.0</td>\n",
       "      <td>0.0</td>\n",
       "    </tr>\n",
       "    <tr>\n",
       "      <th>5</th>\n",
       "      <td>0.0</td>\n",
       "      <td>0.0</td>\n",
       "      <td>1.532301</td>\n",
       "      <td>0.0</td>\n",
       "      <td>0.0</td>\n",
       "      <td>0.691504</td>\n",
       "      <td>0.0</td>\n",
       "      <td>0.691504</td>\n",
       "      <td>0.691504</td>\n",
       "      <td>0.0</td>\n",
       "      <td>...</td>\n",
       "      <td>0.0</td>\n",
       "      <td>0.0</td>\n",
       "      <td>0.0</td>\n",
       "      <td>0.0</td>\n",
       "      <td>0.0</td>\n",
       "      <td>0.0</td>\n",
       "      <td>0.0</td>\n",
       "      <td>0.0</td>\n",
       "      <td>0.0</td>\n",
       "      <td>0.0</td>\n",
       "    </tr>\n",
       "  </tbody>\n",
       "</table>\n",
       "<p>5 rows × 11200 columns</p>\n",
       "</div>"
      ],
      "text/plain": [
       "anime_id  1      5         6      7      8         15     16        17     \\\n",
       "user_id                                                                     \n",
       "1           0.0    0.0  0.000000    0.0    0.0  0.000000    0.0  0.000000   \n",
       "2           0.0    0.0  0.000000    0.0    0.0  0.000000    0.0  0.000000   \n",
       "3           0.0    0.0  0.000000    0.0    0.0  0.000000    0.0  0.000000   \n",
       "4           0.0    0.0  0.000000    0.0    0.0  0.000000    0.0  0.000000   \n",
       "5           0.0    0.0  1.532301    0.0    0.0  0.691504    0.0  0.691504   \n",
       "\n",
       "anime_id     18     19     ...  34283  34324  34325  34349  34358  34367  \\\n",
       "user_id                    ...                                             \n",
       "1         0.000000    0.0  ...    0.0    0.0    0.0    0.0    0.0    0.0   \n",
       "2         0.000000    0.0  ...    0.0    0.0    0.0    0.0    0.0    0.0   \n",
       "3         0.000000    0.0  ...    0.0    0.0    0.0    0.0    0.0    0.0   \n",
       "4         0.000000    0.0  ...    0.0    0.0    0.0    0.0    0.0    0.0   \n",
       "5         0.691504    0.0  ...    0.0    0.0    0.0    0.0    0.0    0.0   \n",
       "\n",
       "anime_id  34412  34475  34476  34519  \n",
       "user_id                               \n",
       "1           0.0    0.0    0.0    0.0  \n",
       "2           0.0    0.0    0.0    0.0  \n",
       "3           0.0    0.0    0.0    0.0  \n",
       "4           0.0    0.0    0.0    0.0  \n",
       "5           0.0    0.0    0.0    0.0  \n",
       "\n",
       "[5 rows x 11200 columns]"
      ]
     },
     "execution_count": 9,
     "metadata": {},
     "output_type": "execute_result"
    }
   ],
   "source": [
    "user_anime_matrix_filled.head()"
   ]
  },
  {
   "cell_type": "code",
   "execution_count": 10,
   "id": "7694f02d-70c6-4066-abd3-27d9ec3232ca",
   "metadata": {
    "tags": []
   },
   "outputs": [
    {
     "name": "stdout",
     "output_type": "stream",
     "text": [
      "<class 'pandas.core.frame.DataFrame'>\n",
      "Index: 73515 entries, 1 to 73516\n",
      "Columns: 11200 entries, 1 to 34519\n",
      "dtypes: float64(11200)\n",
      "memory usage: 6.1 GB\n"
     ]
    }
   ],
   "source": [
    "user_anime_matrix_filled.info()"
   ]
  },
  {
   "cell_type": "markdown",
   "id": "15803f8e-416f-4ae9-b552-97d6e427c67d",
   "metadata": {
    "tags": []
   },
   "source": [
    "## Util Functions"
   ]
  },
  {
   "cell_type": "code",
   "execution_count": 42,
   "id": "8985bd3b-06b5-41db-946b-9596b121d4c8",
   "metadata": {
    "tags": []
   },
   "outputs": [],
   "source": [
    "def train_test_split_sparse(matrix, test_size=0.2, seed=42):\n",
    "    \"\"\"Split a sparse matrix into a training and a test set.\"\"\"\n",
    "    np.random.seed(seed)\n",
    "\n",
    "    # Make a copy of the original matrix\n",
    "    train_matrix = matrix.copy()\n",
    "    test_matrix = matrix.copy()\n",
    "\n",
    "    # Mask the test set entries in the training matrix\n",
    "    non_zero_indices = train_matrix.nonzero()\n",
    "    non_zero_pairs = list(zip(non_zero_indices[0], non_zero_indices[1]))\n",
    "\n",
    "    # Sample test set entries\n",
    "    test_sample_size = int(len(non_zero_pairs) * test_size)\n",
    "    test_pairs = np.random.choice(len(non_zero_pairs), size=test_sample_size, replace=False)\n",
    "\n",
    "    for idx in test_pairs:\n",
    "        train_matrix[non_zero_pairs[idx]] = 0  # Set to zero in the training set\n",
    "        test_matrix[non_zero_pairs[idx]] = matrix[non_zero_pairs[idx]]  # Preserve the value in the test set\n",
    "\n",
    "    # Eliminate zero entries in test set\n",
    "    train_matrix.eliminate_zeros()\n",
    "    test_matrix.eliminate_zeros()\n",
    "\n",
    "    return train_matrix, test_matrix"
   ]
  },
  {
   "cell_type": "code",
   "execution_count": 67,
   "id": "f4b3672c-e394-42fe-aeb5-1bdf2382cf83",
   "metadata": {
    "tags": []
   },
   "outputs": [],
   "source": [
    "def predict_ratings(user_index, item_index, train_matrix, user_similarity_matrix, top_n=20):\n",
    "    \"\"\"Predict ratings for a given user and item based on user-based collaborative filtering.\"\"\"\n",
    "    # Get the similarity scores for the given user\n",
    "    if isinstance(user_similarity_matrix, np.ndarray):\n",
    "        user_similarities = user_similarity_matrix[user_index]\n",
    "    else:\n",
    "        user_similarities = user_similarity_matrix[user_index].toarray().flatten()    \n",
    "    # Get the ratings of the item by all users\n",
    "    item_ratings = train_matrix[:, item_index].toarray().flatten()\n",
    "    \n",
    "    # Select only users who have rated the item\n",
    "    rated_users = item_ratings.nonzero()[0]\n",
    "    \n",
    "    # If no users have rated the item, return NaN\n",
    "    if len(rated_users) == 0:\n",
    "        return np.nan\n",
    "\n",
    "    # Select top-N similar users who have rated the item\n",
    "    top_similar_users = np.argsort(user_similarities[rated_users])[-top_n:]\n",
    "    rated_users = rated_users[top_similar_users]\n",
    "\n",
    "    # Compute weighted average rating\n",
    "    weighted_sum = np.dot(user_similarities[rated_users], item_ratings[rated_users])\n",
    "    sum_of_weights = np.sum(user_similarities[rated_users])\n",
    "    \n",
    "    return weighted_sum / sum_of_weights if sum_of_weights != 0 else np.nan\n"
   ]
  },
  {
   "cell_type": "code",
   "execution_count": 61,
   "id": "6f5776f5-a549-4431-978d-e247450bf596",
   "metadata": {
    "tags": []
   },
   "outputs": [],
   "source": [
    "def evaluate_model(train_matrix, test_matrix, user_similarity_matrix, similarity_metric_name):\n",
    "    \"\"\"Evaluate model performance on the test set.\"\"\"\n",
    "    true_ratings = []\n",
    "    predicted_ratings = []\n",
    "\n",
    "    # Get the non-zero entries in the test set\n",
    "    test_non_zero_indices = test_matrix.nonzero()\n",
    "    test_non_zero_pairs = list(zip(test_non_zero_indices[0], test_non_zero_indices[1]))\n",
    "\n",
    "    # Predict ratings for all non-zero entries in the test set\n",
    "    for user_index, item_index in tqdm(test_non_zero_pairs, desc=f\"Evaluating model ({similarity_metric_name})\"):\n",
    "        # Get the true rating from the test matrix\n",
    "        true_rating = test_matrix[user_index, item_index]\n",
    "        \n",
    "        # Predict the rating\n",
    "        predicted_rating = predict_ratings(user_index, item_index, train_matrix, user_similarity_matrix)\n",
    "\n",
    "        # Store the true and predicted ratings\n",
    "        if not np.isnan(predicted_rating):\n",
    "            true_ratings.append(true_rating)\n",
    "            predicted_ratings.append(predicted_rating)\n",
    "\n",
    "    # Calculate Mean Absolute Error (MAE), Root Mean Squared Error (RMSE), and R2 Score\n",
    "    mae = mean_absolute_error(true_ratings, predicted_ratings)\n",
    "    rmse = np.sqrt(mean_squared_error(true_ratings, predicted_ratings))\n",
    "    r2 = r2_score(true_ratings, predicted_ratings)\n",
    "\n",
    "    print(f\"[{similarity_metric_name}] Mean Absolute Error (MAE): {mae:.4f}\")\n",
    "    print(f\"[{similarity_metric_name}] Root Mean Squared Error (RMSE): {rmse:.4f}\")\n",
    "    print(f\"[{similarity_metric_name}] R2 Score: {r2:.4f}\")\n",
    "\n",
    "    return mae, rmse, r2"
   ]
  },
  {
   "cell_type": "markdown",
   "id": "6a12bf0f-64ca-48f4-8b5e-4195bed4b5b0",
   "metadata": {},
   "source": [
    "## User Based Filtering"
   ]
  },
  {
   "cell_type": "code",
   "execution_count": 48,
   "id": "adc5a6a4-73d9-4b4a-90f1-36b1562786fa",
   "metadata": {
    "tags": []
   },
   "outputs": [],
   "source": [
    "user_item_sparse = csr_matrix(user_anime_matrix_filled[:1000].values)"
   ]
  },
  {
   "cell_type": "code",
   "execution_count": 49,
   "id": "4a63ff0b-45bc-42a4-b562-3c4c356d9336",
   "metadata": {
    "tags": []
   },
   "outputs": [
    {
     "data": {
      "text/plain": [
       "<1000x11200 sparse matrix of type '<class 'numpy.float64'>'\n",
       "\twith 77282 stored elements in Compressed Sparse Row format>"
      ]
     },
     "execution_count": 49,
     "metadata": {},
     "output_type": "execute_result"
    }
   ],
   "source": [
    "user_item_sparse"
   ]
  },
  {
   "cell_type": "code",
   "execution_count": 53,
   "id": "59635d02-a03d-49e4-8b2a-1c2b83354d72",
   "metadata": {
    "tags": []
   },
   "outputs": [],
   "source": [
    "train_sparse, test_sparse = train_test_split_sparse(user_item_sparse, test_size=0.2)"
   ]
  },
  {
   "cell_type": "code",
   "execution_count": 56,
   "id": "a3408fb7-95e0-4d6d-8f6a-8c278a699f66",
   "metadata": {
    "tags": []
   },
   "outputs": [
    {
     "name": "stdout",
     "output_type": "stream",
     "text": [
      "User similarity matrix (cosine) calculated.\n",
      "User similarity matrix (Pearson) calculated.\n"
     ]
    }
   ],
   "source": [
    "# Calculate user-user similarity matrix using cosine similarity on the training set\n",
    "user_similarity_cosine = cosine_similarity(train_sparse, dense_output=False)\n",
    "print(\"User similarity matrix (cosine) calculated.\")\n",
    "\n",
    "# Calculate user-user similarity matrix using Pearson correlation\n",
    "user_similarity_pearson = 1 - pairwise_distances(train_sparse.toarray(), metric='correlation')\n",
    "user_similarity_pearson = np.nan_to_num(user_similarity_pearson)  # Replace NaNs with 0\n",
    "print(\"User similarity matrix (Pearson) calculated.\")"
   ]
  },
  {
   "cell_type": "code",
   "execution_count": 68,
   "id": "fbf5b36c-5966-43e1-b61a-91f4ecb2f91b",
   "metadata": {
    "tags": []
   },
   "outputs": [
    {
     "name": "stdout",
     "output_type": "stream",
     "text": [
      "\n",
      "Evaluating with Cosine Similarity:\n"
     ]
    },
    {
     "name": "stderr",
     "output_type": "stream",
     "text": [
      "Evaluating model (Cosine Similarity): 100%|████████████████████████████████████████████| 77282/77282 [00:08<00:00, 9036.86it/s]\n"
     ]
    },
    {
     "name": "stdout",
     "output_type": "stream",
     "text": [
      "[Cosine Similarity] Mean Absolute Error (MAE): 0.3922\n",
      "[Cosine Similarity] Root Mean Squared Error (RMSE): 1.0462\n",
      "[Cosine Similarity] R2 Score: -0.0938\n",
      "\n",
      "Evaluating with Pearson Correlation:\n"
     ]
    },
    {
     "name": "stderr",
     "output_type": "stream",
     "text": [
      "Evaluating model (Pearson Correlation): 100%|█████████████████████████████████████████| 77282/77282 [00:06<00:00, 11574.36it/s]"
     ]
    },
    {
     "name": "stdout",
     "output_type": "stream",
     "text": [
      "[Pearson Correlation] Mean Absolute Error (MAE): 0.3922\n",
      "[Pearson Correlation] Root Mean Squared Error (RMSE): 1.0429\n",
      "[Pearson Correlation] R2 Score: -0.0870\n"
     ]
    },
    {
     "name": "stderr",
     "output_type": "stream",
     "text": [
      "\n"
     ]
    }
   ],
   "source": [
    "print(\"\\nEvaluating with Cosine Similarity:\")\n",
    "mae_cosine, rmse_cosine, r2_cosine = evaluate_model(train_sparse, test_sparse, user_similarity_cosine, \"Cosine Similarity\")\n",
    "\n",
    "print(\"\\nEvaluating with Pearson Correlation:\")\n",
    "mae_pearson, rmse_pearson, r2_pearson = evaluate_model(train_sparse, test_sparse, user_similarity_pearson, \"Pearson Correlation\")"
   ]
  },
  {
   "cell_type": "code",
   "execution_count": null,
   "id": "a63a7194-250d-4d91-a3e9-c6273f079d0a",
   "metadata": {},
   "outputs": [],
   "source": []
  },
  {
   "cell_type": "markdown",
   "id": "d22ce2a9-8cbd-4fa5-bc9f-2a280547b6c0",
   "metadata": {
    "tags": []
   },
   "source": [
    "## Item Based Filtering"
   ]
  },
  {
   "cell_type": "markdown",
   "id": "e60243b0-c133-40d9-ae12-91109f2afd05",
   "metadata": {},
   "source": [
    "## Matrix Factorization"
   ]
  },
  {
   "cell_type": "code",
   "execution_count": null,
   "id": "cb9735d2-763e-4fa0-8ae9-d164da99c384",
   "metadata": {},
   "outputs": [],
   "source": []
  }
 ],
 "metadata": {
  "kernelspec": {
   "display_name": "Python 3 (ipykernel)",
   "language": "python",
   "name": "python3"
  },
  "language_info": {
   "codemirror_mode": {
    "name": "ipython",
    "version": 3
   },
   "file_extension": ".py",
   "mimetype": "text/x-python",
   "name": "python",
   "nbconvert_exporter": "python",
   "pygments_lexer": "ipython3",
   "version": "3.11.2"
  }
 },
 "nbformat": 4,
 "nbformat_minor": 5
}
